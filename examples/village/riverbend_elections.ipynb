{
  "cells": [
    {
      "cell_type": "markdown",
      "metadata": {
        "id": "TaB0jiCrs71r"
      },
      "source": [
        "```\n",
        "Copyright 2023 DeepMind Technologies Limited.\n",
        "\n",
        "Licensed under the Apache License, Version 2.0 (the \"License\");\n",
        "you may not use this file except in compliance with the License.\n",
        "You may obtain a copy of the License at\n",
        "\n",
        "    https://www.apache.org/licenses/LICENSE-2.0\n",
        "\n",
        "Unless required by applicable law or agreed to in writing, software\n",
        "distributed under the License is distributed on an \"AS IS\" BASIS,\n",
        "WITHOUT WARRANTIES OR CONDITIONS OF ANY KIND, either express or implied.\n",
        "See the License for the specific language governing permissions and\n",
        "limitations under the License.\n",
        "```"
      ]
    },
    {
      "cell_type": "markdown",
      "metadata": {
        "id": "zWgEkOAO9OVz"
      },
      "source": [
        "# Riverbend Election Example\n",
        "\n",
        "An illustrative social simulation with 5 players which simulates the day of mayoral elections in an imaginary town caller Riverbend. First two players, Alice and Bob, are running for the mayor. The third player, Charlie, is trying to ruin Alices' reputation with disinformation. The last two players have no specific agenda, apart from voting in the election."
      ]
    },
    {
      "cell_type": "markdown",
      "metadata": {
        "id": "J2TwJrZ08wXz"
      },
      "source": [
        "## Init and import"
      ]
    },
    {
      "cell_type": "code",
      "execution_count": null,
      "metadata": {
        "id": "Wua9yzPlEr6P"
      },
      "outputs": [],
      "source": [
        "!pip install git+https://github.com/google-deepmind/concordia.git"
      ]
    },
    {
      "cell_type": "code",
      "execution_count": null,
      "metadata": {
        "id": "-qLG5ExLqpWa"
      },
      "outputs": [],
      "source": [
        "# @title Imports\n",
        "\n",
        "import collections\n",
        "import concurrent.futures\n",
        "import datetime\n",
        "import random\n",
        "\n",
        "from google.colab import widgets  # pytype: disable=import-error\n",
        "from IPython import display\n",
        "\n",
        "from concordia import components as generic_components\n",
        "from concordia.components import agent as components\n",
        "from concordia.components import game_master as gm_components\n",
        "from concordia.agents import basic_agent\n",
        "from concordia.associative_memory import associative_memory\n",
        "from concordia.associative_memory import blank_memories\n",
        "from concordia.associative_memory import embedder_st5\n",
        "from concordia.associative_memory import formative_memories\n",
        "from concordia.associative_memory import importance_function\n",
        "from concordia.clocks import game_clock\n",
        "from concordia.environment import game_master\n",
        "from concordia.language_model import gpt_model\n",
        "from concordia.language_model import gcloud_model\n",
        "from concordia.metrics import goal_achievement\n",
        "from concordia.metrics import common_sense_morality\n",
        "from concordia.metrics import opinion_of_others\n",
        "from concordia.utils import html as html_lib\n",
        "from concordia.utils import measurements as measurements_lib\n",
        "from concordia.utils import plotting\n",
        "\n",
        "from examples.village.components import elections"
      ]
    },
    {
      "cell_type": "code",
      "execution_count": null,
      "metadata": {
        "id": "I3OtW8flCJSC"
      },
      "outputs": [],
      "source": [
        "# @title Setup sentence encoder\n",
        "embedder = embedder_st5.EmbedderST5()"
      ]
    },
    {
      "cell_type": "code",
      "execution_count": null,
      "metadata": {
        "id": "cugwvFIKv5AS"
      },
      "outputs": [],
      "source": [
        "# @title Language Model - pick your model and provide keys\n",
        "CLOUD_PROJECT_ID = '' #@param {type: 'string'}\n",
        "GPT_API_KEY = '' #@param {type: 'string'}\n",
        "GPT_MODEL_NAME = '' #@param {type: 'string'}\n",
        "\n",
        "USE_CLOUD = True #@param {type: 'boolean'}\n",
        "\n",
        "if USE_CLOUD:\n",
        "  model = gcloud_model.CloudLanguageModel(project_id= CLOUD_PROJECT_ID)\n",
        "else:\n",
        "  model = gpt_model.GptLanguageModel(api_key=GPT_API_KEY, model_name=GPT_MODEL_NAME)"
      ]
    },
    {
      "cell_type": "markdown",
      "metadata": {
        "id": "z9HYjZgyakc_"
      },
      "source": [
        "## Configuring the generic knowledge of players and GM."
      ]
    },
    {
      "cell_type": "code",
      "execution_count": null,
      "metadata": {
        "id": "b8vWoQ6by51N"
      },
      "outputs": [],
      "source": [
        "# @title Generic memories are memories that all players and GM share.\n",
        "\n",
        "shared_memories = [\n",
        "    'There is a hamlet named Riverbend.',\n",
        "    'Riverbend is an idyllic rural town.',\n",
        "    'The river Solripple runs through the village of Riverbend.',\n",
        "    'The Solripple is a mighty river.',\n",
        "    'Riverbend has a temperate climate.',\n",
        "    'Riverbend has a main street.',\n",
        "    'There is a guitar store on Main street Riverbend.',\n",
        "    'There is a grocery store on Main street Riverbend.',\n",
        "    'There is a school on Main street Riverbend.',\n",
        "    'There is a library on Main street Riverbend.',\n",
        "    'Riverbend has only one pub.',\n",
        "    'There is a pub on Main street Riverbend called The Sundrop Saloon.',\n",
        "    'Town hall meetings often take place at The Sundrop Saloon.',\n",
        "    'Riverbend does not have a park',\n",
        "    'The main crop grown on the farms near Riverbend is alfalfa.',\n",
        "    'Farms near Riverbend depend on water from the Solripple river.',\n",
        "    (\n",
        "        'The local newspaper recently reported that someone has been dumping '\n",
        "        + 'dangerous industrial chemicals in the Solripple river.'\n",
        "    ),\n",
        "    'All named characters are citizens. ',\n",
        "    # 'All citizens are automatically candidates in all elections. ',\n",
        "    'There is no need to register in advance to be on the ballot.',\n",
        "]\n",
        "\n",
        "# The generic context will be used for the NPC context. It reflects general\n",
        "# knowledge and is possessed by all characters.\n",
        "shared_context = model.sample_text(\n",
        "    'Summarize the following passage in a concise and insightful fashion:\\n'\n",
        "    + '\\n'.join(shared_memories)\n",
        "    + '\\n'\n",
        "    + 'Summary:'\n",
        ")\n",
        "print(shared_context)\n",
        "importance_model = importance_function.ConstantImportanceModel()\n",
        "importance_model_gm = importance_function.ConstantImportanceModel()"
      ]
    },
    {
      "cell_type": "code",
      "execution_count": null,
      "metadata": {
        "cellView": "form",
        "id": "TeVYseoD2WYa"
      },
      "outputs": [],
      "source": [
        "#@title Make the clock\n",
        "SETUP_TIME = datetime.datetime(hour=8, year=2024, month=9, day=1)\n",
        "\n",
        "START_TIME = datetime.datetime(hour=9, year=2024, month=10, day=1)\n",
        "clock = game_clock.MultiIntervalClock(\n",
        "    start=SETUP_TIME,\n",
        "    step_sizes=[datetime.timedelta(hours=1), datetime.timedelta(seconds=10)])\n"
      ]
    },
    {
      "cell_type": "markdown",
      "metadata": {
        "id": "YBCXUQ8sayzj"
      },
      "source": [
        "## Functions to build the players"
      ]
    },
    {
      "cell_type": "code",
      "execution_count": null,
      "metadata": {
        "id": "fNpnn9QY4IN6"
      },
      "outputs": [],
      "source": [
        "blank_memory_factory = blank_memories.MemoryFactory(\n",
        "    model=model,\n",
        "    embedder=embedder,\n",
        "    importance=importance_model.importance,\n",
        "    clock_now=clock.now,\n",
        ")\n",
        "\n",
        "formative_memory_factory = formative_memories.FormativeMemoryFactory(\n",
        "    model=model,\n",
        "    shared_memories=shared_memories,\n",
        "    blank_memory_factory_call=blank_memory_factory.make_blank_memory,\n",
        ")"
      ]
    },
    {
      "cell_type": "code",
      "execution_count": null,
      "metadata": {
        "id": "As465DbcsAwZ"
      },
      "outputs": [],
      "source": [
        "def build_a_citizen(agent_config,\n",
        "                    player_names: list[str],\n",
        "                    measurements: measurements_lib.Measurements | None = None):\n",
        "\n",
        "  mem = formative_memory_factory.make_memories(agent_config)\n",
        "\n",
        "  # Build the player.\n",
        "\n",
        "  time = generic_components.report_function.ReportFunction(\n",
        "    name='Current time',\n",
        "    function=clock.current_time_interval_str,\n",
        "  )\n",
        "  somatic_state = components.somatic_state.SomaticState(\n",
        "      model=model,\n",
        "      memory=mem,\n",
        "      agent_name=agent_config.name,\n",
        "      clock_now=clock.now,\n",
        "  )\n",
        "  identity = components.identity.SimIdentity(\n",
        "      model=model,\n",
        "      memory=mem,\n",
        "      agent_name=agent_config.name,\n",
        "  )\n",
        "  goal_component = generic_components.constant.ConstantComponent(state=agent_config.goal)\n",
        "  plan = components.plan.SimPlan(\n",
        "      model=model,\n",
        "      memory=mem,\n",
        "      agent_name=agent_config.name,\n",
        "      components=[identity],\n",
        "      goal=goal_component,\n",
        "      verbose=False,\n",
        "  )\n",
        "  current_obs = components.observation.Observation(\n",
        "            agent_name=agent_config.name,\n",
        "      clock_now=clock.now,\n",
        "      memory=mem,\n",
        "      timeframe=clock.get_step_size(),\n",
        "      component_name='current observations',\n",
        "  )\n",
        "  summary_obs = components.observation.ObservationSummary(\n",
        "      agent_name=agent_config.name,\n",
        "      model=model,\n",
        "      clock_now=clock.now,\n",
        "      memory=mem,\n",
        "      timeframe_delta_from=datetime.timedelta(hours=4),\n",
        "      timeframe_delta_until=datetime.timedelta(hours=1),\n",
        "      components=[identity],\n",
        "      component_name='summary of observations',\n",
        "  )\n",
        "\n",
        "  goal_metric = goal_achievement.GoalAchievementMetric(\n",
        "      model=model,\n",
        "      player_name=agent_config.name,\n",
        "      player_goal=agent_config.goal,\n",
        "      clock=clock,\n",
        "      name='Goal Achievement',\n",
        "      measurements=measurements,\n",
        "      channel='goal_achievement',\n",
        "      verbose=False,\n",
        "  )\n",
        "  morality_metric = common_sense_morality.CommonSenseMoralityMetric(\n",
        "      model=model,\n",
        "      player_name=agent_config.name,\n",
        "      clock=clock,\n",
        "      name='Morality',\n",
        "      verbose=False,\n",
        "      measurements=measurements,\n",
        "      channel='common_sense_morality',\n",
        "  )\n",
        "  agent = basic_agent.BasicAgent(\n",
        "      model=model,\n",
        "      memory=mem,\n",
        "      agent_name=agent_config.name,\n",
        "      clock=clock,\n",
        "      verbose=True,\n",
        "      components=[\n",
        "          identity,\n",
        "          plan,\n",
        "          somatic_state,\n",
        "          summary_obs,\n",
        "          current_obs,\n",
        "          time,\n",
        "          goal_metric,\n",
        "          morality_metric,\n",
        "      ],\n",
        "  )\n",
        "  reputation_metric = opinion_of_others.OpinionOfOthersMetric(\n",
        "      model=model,\n",
        "      player_name=agent_config.name,\n",
        "      player_names=player_names,\n",
        "      context_fn=agent.state,\n",
        "      clock=clock,\n",
        "      name='Opinion',\n",
        "      verbose=False,\n",
        "      measurements=measurements,\n",
        "      channel='opinion_of_others',\n",
        "      question='What is {opining_player}\\'s opinion of {of_player}?',\n",
        "  )\n",
        "  agent.add_component(reputation_metric)\n",
        "\n",
        "  return agent"
      ]
    },
    {
      "cell_type": "code",
      "execution_count": null,
      "metadata": {
        "id": "hgM4a234xqaJ"
      },
      "outputs": [],
      "source": [
        "def context_from_role(player_name, role, victim='Alice'):\n",
        "  context = f'{shared_context}\\n{player_name} grew up in Riverbend.'\n",
        "  # Divide players into two classes, half are biased toward the status quo and\n",
        "  # the other half want change.\n",
        "  if 'conservative' in role:\n",
        "    context = (\n",
        "        f'{context} {player_name} feels strongly that Riverbend is '\n",
        "        + 'already a great place to live and does not need to change.'\n",
        "    )\n",
        "  if 'progressive' in role:\n",
        "    context = (\n",
        "        f'{context} {player_name} feels strongly that Riverbend and '\n",
        "        + 'its local government are in dire need of reform.'\n",
        "    )\n",
        "  # The first two players are mayoral candidates.\n",
        "  if 'candidate' in role:\n",
        "    context = (\n",
        "        f'{context} Because of this, {player_name} plans to run for '\n",
        "        + 'mayor of Riverbend.'\n",
        "    )\n",
        "  if 'active_voter' in role:\n",
        "    context = (\n",
        "        f'{context} {player_name} does not plan to run for mayor of Riverbend,'\n",
        "        ' but would definitely vote in the election.'\n",
        "    )\n",
        "\n",
        "  # The third player has been hired to ruin the first player's reputation.\n",
        "  if 'corrupt' in role:\n",
        "    context = (\n",
        "        f'{context}\\n'\n",
        "        + f\"{player_name} has been hired to ruin {victim}'s \"\n",
        "        + 'reputation.\\n'\n",
        "        + f'{player_name} was hired by an anonymous email so '\n",
        "        + f\"they do not know who hired them to ruin {victim}'s \"\n",
        "        + 'reputation or what their motivation may be.\\n'\n",
        "        + f'{player_name} was given fake compromising material on'\n",
        "        f' {victim}.\\n{player_name} was offered a substantial sum of'\n",
        "        ' money to spread compromising materials '\n",
        "        + f\"to ruin {victim}'s reputation.\"\n",
        "    )\n",
        "\n",
        "  return context\n"
      ]
    },
    {
      "cell_type": "markdown",
      "metadata": {
        "id": "qt8CK2mMbD7q"
      },
      "source": [
        "## Configure and build the players"
      ]
    },
    {
      "cell_type": "code",
      "execution_count": null,
      "metadata": {
        "id": "TTrhJ3hM3bnB"
      },
      "outputs": [],
      "source": [
        "victim = 'Alice'\n",
        "\n",
        "def make_random_big_five()-\u003estr:\n",
        "  return str({\n",
        "      'extraversion': random.randint(1, 10),\n",
        "      'neuroticism': random.randint(1, 10),\n",
        "      'openness': random.randint(1, 10),\n",
        "      'conscientiousness': random.randint(1, 10),\n",
        "      'agreeableness': random.randint(1, 10),\n",
        "  })\n",
        "\n",
        "player_configs = [\n",
        "    formative_memories.AgentConfig(\n",
        "        name='Alice',\n",
        "        gender='female',\n",
        "        goal='Win the election and become the mayor of Riverbend',\n",
        "        context=context_from_role('Alice', {'candidate', 'conservative'}),\n",
        "        traits = make_random_big_five(),\n",
        "        formative_ages = sorted(random.sample(range(5, 40), 5)),\n",
        "    ),\n",
        "    formative_memories.AgentConfig(\n",
        "        name='Bob',\n",
        "        gender='male',\n",
        "        goal='Win the election and become the mayor of Riverbend.',\n",
        "        context=context_from_role('Bob', {'candidate', 'progressive'}),\n",
        "        traits = make_random_big_five(),\n",
        "        formative_ages = sorted(random.sample(range(5, 40), 5)),\n",
        "    ),\n",
        "    formative_memories.AgentConfig(\n",
        "        name='Charlie',\n",
        "        gender='male',\n",
        "        goal=f\"Ruin {victim}'s reputation\",\n",
        "        context=context_from_role('Charlie', {'corrupt'}, victim),\n",
        "        traits = make_random_big_five(),\n",
        "        formative_ages = sorted(random.sample(range(5, 40), 5)),\n",
        "    ),\n",
        "    formative_memories.AgentConfig(\n",
        "        name='Dorothy',\n",
        "        gender='female',\n",
        "        goal='Have a good day and vote in the election.',\n",
        "        context=context_from_role(\n",
        "            'Dorothy', {'active_voter', 'progressive'}\n",
        "        ),\n",
        "        traits = make_random_big_five(),\n",
        "        formative_ages = sorted(random.sample(range(5, 40), 5)),\n",
        "    ),\n",
        "    formative_memories.AgentConfig(\n",
        "        name='Ellen',\n",
        "        gender='female',\n",
        "        goal=(\n",
        "            'Have a good day and vote in the election.'\n",
        "        ),\n",
        "        context=context_from_role('Ellen', {'active_voter', 'conservative'}),\n",
        "        traits = make_random_big_five(),\n",
        "        formative_ages = sorted(random.sample(range(5, 40), 5)),\n",
        "    ),\n",
        "]"
      ]
    },
    {
      "cell_type": "code",
      "execution_count": null,
      "metadata": {
        "id": "EemkNGWw3wXo"
      },
      "outputs": [],
      "source": [
        "NUM_PLAYERS = 5\n",
        "\n",
        "player_configs = player_configs[:NUM_PLAYERS]\n",
        "player_goals = {\n",
        "    player_config.name: player_config.goal for player_config in player_configs}\n",
        "players = []\n",
        "measurements = measurements_lib.Measurements()\n",
        "\n",
        "player_names = [player.name for player in player_configs][:NUM_PLAYERS]\n",
        "with concurrent.futures.ThreadPoolExecutor(max_workers=NUM_PLAYERS) as pool:\n",
        "  for agent in pool.map(build_a_citizen,\n",
        "                        player_configs[:NUM_PLAYERS],\n",
        "                        # All players get the same `player_names`.\n",
        "                        [player_names] * NUM_PLAYERS,\n",
        "                        # All players get the same `measurements` object.\n",
        "                        [measurements] * NUM_PLAYERS):\n",
        "    players.append(agent)"
      ]
    },
    {
      "cell_type": "markdown",
      "metadata": {
        "id": "2vt8ggYUrW8M"
      },
      "source": [
        "## Build GM"
      ]
    },
    {
      "cell_type": "code",
      "execution_count": null,
      "metadata": {
        "id": "siwglxrc6z2j"
      },
      "outputs": [],
      "source": [
        "game_master_instructions = (\n",
        "    'This is a social science experiment. It is structured as a '\n",
        "    'tabletop roleplaying game (like dungeons and dragons). You are the '\n",
        "    'game master. You will describe the current situation to the '\n",
        "    'participants in the experiment and then on the basis of what you '\n",
        "    'tell them they will suggest actions for the character they control. '\n",
        "    'Aside from you, each other participant controls just one character. '\n",
        "    'You are the game master so you may control any non-player '\n",
        "    'character. You will track the state of the world and keep it '\n",
        "    'consistent as time passes in the simulation and the participants '\n",
        "    'take actions and change things in their world. Remember that this '\n",
        "    'is a serious social science experiment. It is not just a game. It '\n",
        "    'need not be fun for the participants. Always use third-person '\n",
        "    'limited perspective, even when speaking directly to the participants.'\n",
        ")"
      ]
    },
    {
      "cell_type": "code",
      "execution_count": null,
      "metadata": {
        "id": "3W65kHOKQwrv"
      },
      "outputs": [],
      "source": [
        "game_master_memory = associative_memory.AssociativeMemory(\n",
        "    embedder, importance_model_gm.importance, clock=clock.now)"
      ]
    },
    {
      "cell_type": "code",
      "execution_count": null,
      "metadata": {
        "id": "bGNY_D7FID4I"
      },
      "outputs": [],
      "source": [
        "for player in players:\n",
        "  game_master_memory.add(f'{player.name} is at their private home.')"
      ]
    },
    {
      "cell_type": "code",
      "execution_count": null,
      "metadata": {
        "id": "-cxivChc633z"
      },
      "outputs": [],
      "source": [
        "# @title Create components and externalities\n",
        "player_names = [player.name for player in players]\n",
        "\n",
        "instructions_construct = components.constant.ConstantComponent(game_master_instructions, 'Instructions')\n",
        "facts_on_village = components.constant.ConstantComponent(' '.join(shared_memories), 'General knowledge of Riverbend')\n",
        "player_status = gm_components.player_status.PlayerStatus(clock.now, model, game_master_memory, player_names)\n",
        "\n",
        "relevant_events = gm_components.relevant_events.RelevantEvents(\n",
        "    clock.now, model, game_master_memory)\n",
        "time_display = gm_components.time_display.TimeDisplay(clock)\n",
        "\n",
        "election_externality = elections.Elections(\n",
        "    model=model,\n",
        "    clock_now=clock.now,\n",
        "    memory=game_master_memory,\n",
        "    voters=players,\n",
        "    candidates=['Alice', 'Bob'],\n",
        "    verbose=True,\n",
        "    measurements=measurements,\n",
        ")\n",
        "\n",
        "mem_factory = blank_memories.MemoryFactory(\n",
        "    model,\n",
        "    embedder,\n",
        "    importance_model_gm.importance,\n",
        "    clock_now=clock.now,\n",
        ")\n",
        "\n",
        "convo_externality = gm_components.conversation.Conversation(\n",
        "    players=players,\n",
        "    model=model,\n",
        "    memory=game_master_memory,\n",
        "    clock=clock,\n",
        "    burner_memory_factory=mem_factory,\n",
        "    components=[player_status],\n",
        "    cap_nonplayer_characters=2,\n",
        "    game_master_instructions=game_master_instructions,\n",
        "    shared_context=shared_context,\n",
        "    verbose=True,\n",
        ")\n",
        "\n",
        "\n",
        "direct_effect_externality = gm_components.direct_effect.DirectEffect(\n",
        "    players,\n",
        "    model=model,\n",
        "    memory=game_master_memory,\n",
        "    clock_now=clock.now,\n",
        "    verbose=False,\n",
        "    components=[player_status]\n",
        ")\n",
        "\n",
        "\n",
        "TIME_POLLS_OPEN = datetime.datetime(hour=14, year=2024, month=10, day=1)\n",
        "TIME_POLLS_CLOSE = datetime.datetime(hour=20, year=2024, month=10, day=1)\n",
        "schedule = {\n",
        "    'start': gm_components.schedule.EventData(\n",
        "        time=START_TIME,\n",
        "        description='',\n",
        "    ),\n",
        "    'election': gm_components.schedule.EventData(\n",
        "        time=datetime.datetime(hour=13, year=2024, month=10, day=1),\n",
        "        description=(\n",
        "            'The town of Riverbend is now holding an election to determine ' +\n",
        "            'who will become the mayor. ' +\n",
        "            f'Polls will open at {TIME_POLLS_OPEN}.'),\n",
        "    ),\n",
        "    'election_polls_open': gm_components.schedule.EventData(\n",
        "        time=TIME_POLLS_OPEN,\n",
        "        description=(\n",
        "            'The election is happening now. Polls are open. Everyone may ' +\n",
        "            'go to a polling place and cast their vote. ' +\n",
        "            f'Polls will close at {TIME_POLLS_CLOSE}.'),\n",
        "        trigger=election_externality.open_polls,\n",
        "    ),\n",
        "    'election_polls_close': gm_components.schedule.EventData(\n",
        "        time=TIME_POLLS_CLOSE,\n",
        "        description=(\n",
        "            'The election is over. Polls are now closed. The results will ' +\n",
        "            'now be tallied and a winner declared.'),\n",
        "        trigger=election_externality.declare_winner,\n",
        "    )\n",
        "}\n",
        "\n",
        "schedule_construct = gm_components.schedule.Schedule(\n",
        "    clock_now=clock.now, schedule=schedule)\n"
      ]
    },
    {
      "cell_type": "code",
      "execution_count": null,
      "metadata": {
        "id": "d_R2BVNOsAwa"
      },
      "outputs": [],
      "source": [
        "# @title Create the game master object\n",
        "env = game_master.GameMaster(\n",
        "    model=model,\n",
        "    memory=game_master_memory,\n",
        "    clock=clock,\n",
        "    players=players,\n",
        "    components=[\n",
        "        instructions_construct,\n",
        "        facts_on_village,\n",
        "        player_status,\n",
        "        schedule_construct,\n",
        "        election_externality,\n",
        "        convo_externality,\n",
        "        direct_effect_externality,\n",
        "        relevant_events,\n",
        "        time_display,\n",
        "    ],\n",
        "    randomise_initiative=True,\n",
        "    player_observes_event=False,\n",
        "    verbose=True,\n",
        ")"
      ]
    },
    {
      "cell_type": "markdown",
      "metadata": {
        "id": "d2u0bQ1MSCGd"
      },
      "source": [
        "## The RUN"
      ]
    },
    {
      "cell_type": "code",
      "execution_count": null,
      "metadata": {
        "id": "hdTRDaxEZZnN"
      },
      "outputs": [],
      "source": [
        "clock.set(START_TIME)"
      ]
    },
    {
      "cell_type": "code",
      "execution_count": null,
      "metadata": {
        "id": "9IggLF1aH_hF"
      },
      "outputs": [],
      "source": [
        "for player in players:\n",
        "  player.observe(\n",
        "      f'{player.name} is at home, they have just woken up. Mayoral elections '\n",
        "      f'are going to be held today. Polls will open at {TIME_POLLS_OPEN} and '\n",
        "      f'close at {TIME_POLLS_CLOSE}.'\n",
        "  )"
      ]
    },
    {
      "cell_type": "code",
      "execution_count": null,
      "metadata": {
        "id": "2Bt87stq76gF"
      },
      "outputs": [],
      "source": [
        "# @title Expect about 2-3 minutes per step.\n",
        "\n",
        "episode_length = 12  # @param {type: 'integer'}\n",
        "for _ in range(episode_length):\n",
        "  env.step()\n"
      ]
    },
    {
      "cell_type": "markdown",
      "metadata": {
        "id": "DnwvpvQ4bnFs"
      },
      "source": [
        "## Summary and analysis of the episode"
      ]
    },
    {
      "cell_type": "code",
      "execution_count": null,
      "metadata": {
        "id": "5U5FDXvs4HSr"
      },
      "outputs": [],
      "source": [
        "# @title Metrics plotting\n",
        "\n",
        "\n",
        "\n",
        "group_by = collections.defaultdict(lambda: 'player')\n",
        "group_by['opinion_of_others'] = 'of_player'\n",
        "\n",
        "tb = widgets.TabBar([channel for channel in measurements.available_channels()])\n",
        "for channel in measurements.available_channels():\n",
        "  with tb.output_to(channel):\n",
        "    plotting.plot_line_measurement_channel(measurements, channel,\n",
        "                                           group_by=group_by[channel],\n",
        "                                           xaxis='time_str')\n"
      ]
    },
    {
      "cell_type": "code",
      "execution_count": null,
      "metadata": {
        "id": "O4jp0xGXvOAJ"
      },
      "outputs": [],
      "source": [
        "# @title Summarize the entire story.\n",
        "all_gm_memories = env._memory.retrieve_recent(k=10000, add_time=True)\n",
        "\n",
        "detailed_story = '\\n'.join(all_gm_memories)\n",
        "print('len(detailed_story): ', len(detailed_story))\n",
        "# print(detailed_story)\n",
        "\n",
        "episode_summary = model.sample_text(\n",
        "    f'Sequence of events:\\n{detailed_story}'+\n",
        "    '\\nNarratively summarize the above temporally ordered ' +\n",
        "    'sequence of events. Write it as a news report. Summary:\\n',\n",
        "    max_characters=3500, max_tokens=3500, terminators=())\n",
        "print(episode_summary)"
      ]
    },
    {
      "cell_type": "code",
      "execution_count": null,
      "metadata": {
        "id": "ALG987t-6j-V"
      },
      "outputs": [],
      "source": [
        "# @title Summarise the perspective of each player\n",
        "player_logs = []\n",
        "player_log_names = []\n",
        "for player in players:\n",
        "  name = player.name\n",
        "  detailed_story = '\\n'.join(player._memory.retrieve_recent(k=1000,\n",
        "                                                            add_time=True))\n",
        "  summary = ''\n",
        "  summary = model.sample_text(\n",
        "      f'Sequence of events that happened to {name}:\\n{detailed_story}'\n",
        "      '\\nWrite a short story that summarises these events.\\n'\n",
        "      ,\n",
        "      max_characters=3500, max_tokens=3500, terminators=())\n",
        "\n",
        "  all_player_mem = player._memory.retrieve_recent(k=1000, add_time=True)\n",
        "  all_player_mem = ['Summary:', summary, 'Memories:'] + all_player_mem\n",
        "  player_html = html_lib.PythonObjectToHTMLConverter(all_player_mem).convert()\n",
        "  player_logs.append(player_html)\n",
        "  player_log_names.append(f'{name}')\n"
      ]
    },
    {
      "cell_type": "markdown",
      "metadata": {
        "id": "UmPOvjVxddye"
      },
      "source": [
        "#Build and display HTML log of the experiment"
      ]
    },
    {
      "cell_type": "code",
      "execution_count": null,
      "metadata": {
        "id": "JyEoGgI05xI0"
      },
      "outputs": [],
      "source": [
        "history_sources = [\n",
        "    env,\n",
        "    direct_effect_externality,\n",
        "    convo_externality,\n",
        "    election_externality,\n",
        "]\n",
        "histories_html = [\n",
        "    html_lib.PythonObjectToHTMLConverter(history.get_history()).convert()\n",
        "    for history in history_sources]\n",
        "histories_names = [history.name() for history in history_sources]"
      ]
    },
    {
      "cell_type": "code",
      "execution_count": null,
      "metadata": {
        "id": "XNJuo4Dwt5Ui"
      },
      "outputs": [],
      "source": [
        "gm_mem_html = html_lib.PythonObjectToHTMLConverter(all_gm_memories).convert()\n",
        "\n",
        "tabbed_html = html_lib.combine_html_pages(\n",
        "    histories_html + [gm_mem_html] + player_logs,\n",
        "    histories_names + ['GM'] + player_log_names,\n",
        "    summary=episode_summary,\n",
        "    title='Riverbend elections experiment',\n",
        ")\n",
        "\n",
        "tabbed_html = html_lib.finalise_html(tabbed_html)"
      ]
    },
    {
      "cell_type": "code",
      "execution_count": null,
      "metadata": {
        "id": "pumxvmrzANOq"
      },
      "outputs": [],
      "source": [
        "display.HTML(tabbed_html)"
      ]
    },
    {
      "cell_type": "markdown",
      "metadata": {
        "id": "HX-M9Im_dneG"
      },
      "source": [
        "#Interact with a specific player"
      ]
    },
    {
      "cell_type": "code",
      "execution_count": null,
      "metadata": {
        "id": "ESJ1l7_Kt5Uj"
      },
      "outputs": [],
      "source": [
        "sim_to_interact = 'Alice'  # @param ['Alice', 'Bob','Charlie', 'Dorothy', 'Ellen'] {type:\"string\"}\n",
        "user_identity = 'a close friend'  # @param {type:\"string\"}\n",
        "interaction_premise = f'{sim_to_interact} is talking to {user_identity}\\n'  # @param {type:\"string\"}\n",
        "\n",
        "player_names = [player.name for player in players]\n",
        "player_by_name = {player.name: player for player in players}\n",
        "selected_player = player_by_name[sim_to_interact]\n",
        "interrogation = interaction_premise"
      ]
    },
    {
      "cell_type": "code",
      "execution_count": null,
      "metadata": {
        "id": "5Q1cYflLt5Uj"
      },
      "outputs": [],
      "source": [
        "utterence_from_user = 'Did you win the election?'  # @param {type:\"string\"}\n",
        "\n",
        "interrogation += f'{user_identity}: {utterence_from_user}'\n",
        "player_says = selected_player.say(interrogation)\n",
        "interrogation += f'\\n{sim_to_interact}: {player_says}\\n'\n",
        "print(interrogation)"
      ]
    },
    {
      "cell_type": "code",
      "execution_count": null,
      "metadata": {
        "id": "qkdsaKmKjASJ"
      },
      "outputs": [],
      "source": []
    }
  ],
  "metadata": {
    "colab": {
      "last_runtime": {
        "build_target": "",
        "kind": "local"
      },
      "private_outputs": true,
      "provenance": []
    },
    "kernelspec": {
      "display_name": "Python 3",
      "name": "python3"
    },
    "language_info": {
      "name": "python"
    }
  },
  "nbformat": 4,
  "nbformat_minor": 0
}
