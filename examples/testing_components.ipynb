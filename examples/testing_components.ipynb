{
  "cells": [
    {
      "cell_type": "markdown",
      "metadata": {
        "id": "VE-6f595AybO"
      },
      "source": []
    },
    {
      "cell_type": "markdown",
      "metadata": {
        "id": "9Lj2tJYdLfEU"
      },
      "source": []
    },
    {
      "cell_type": "markdown",
      "metadata": {
        "id": "J2TwJrZ08wXz"
      },
      "source": [
        "## Init and import"
      ]
    },
    {
      "cell_type": "code",
      "execution_count": 1,
      "metadata": {
        "id": "-qLG5ExLqpWa"
      },
      "outputs": [],
      "source": [
        "# @title Imports\n",
        "\n",
        "import collections\n",
        "import concurrent.futures\n",
        "import datetime\n",
        "\n",
        "# from google.colab import widgets\n",
        "from IPython import display\n",
        "\n",
        "from concordia import components as generic_components\n",
        "from concordia.agents import basic_agent\n",
        "from concordia.components import agent as components\n",
        "from concordia.agents import basic_agent\n",
        "from concordia.associative_memory import associative_memory\n",
        "from concordia.associative_memory import blank_memories\n",
        "from concordia.associative_memory import formative_memories\n",
        "from concordia.associative_memory import importance_function\n",
        "from concordia.clocks import game_clock\n",
        "from concordia.components import game_master as gm_components\n",
        "from concordia.environment import game_master\n",
        "from concordia.metrics import goal_achievement\n",
        "from concordia.metrics import common_sense_morality\n",
        "from concordia.metrics import opinion_of_others\n",
        "from concordia.utils import measurements as measurements_lib\n",
        "from concordia.language_model import gpt_model\n",
        "from concordia.language_model import gcloud_model\n",
        "from concordia.utils import html as html_lib\n",
        "from concordia.utils import plotting\n",
        "\n",
        "import logging\n",
        "logging.basicConfig(level=logging.ERROR, filename='components_testing.log')\n",
        "logger = logging.getLogger('ollama')"
      ]
    },
    {
      "cell_type": "code",
      "execution_count": 2,
      "metadata": {
        "id": "I3OtW8flCJSC"
      },
      "outputs": [],
      "source": [
        "# Setup sentence encoder\n",
        "from sentence_transformers import SentenceTransformer\n",
        "st5_model = SentenceTransformer('sentence-transformers/sentence-t5-base')\n",
        "embedder = st5_model.encode"
      ]
    },
    {
      "cell_type": "code",
      "execution_count": 26,
      "metadata": {},
      "outputs": [],
      "source": [
        "# from concordia.language_model import ollama_model\n",
        "# model = ollama_model.OllamaLanguageModel(\n",
        "#     # model_name='llama2:70b',\n",
        "#     model_name='mixtral'\n",
        "#     # streaming=True\n",
        "# )\n",
        "\n",
        "import dotenv\n",
        "import os\n",
        "dotenv.load_dotenv()\n",
        "api_key = os.getenv('OPENAI_API_KEY')\n",
        "\n",
        "from concordia.language_model import gpt_model\n",
        "model = gpt_model.GptLanguageModel(\n",
        "    api_key=api_key,\n",
        "    model_name='gpt-4',\n",
        ")"
      ]
    },
    {
      "cell_type": "code",
      "execution_count": 27,
      "metadata": {},
      "outputs": [],
      "source": [
        "#@title Make the clock\n",
        "time_step = datetime.timedelta(minutes=20)\n",
        "SETUP_TIME = datetime.datetime(hour=20, year=2024, month=10, day=1)\n",
        "\n",
        "START_TIME = datetime.datetime(hour=18, year=2024, month=10, day=2)\n",
        "clock = game_clock.MultiIntervalClock(\n",
        "    start=SETUP_TIME,\n",
        "    step_sizes=[time_step, datetime.timedelta(seconds=10)])\n"
      ]
    },
    {
      "cell_type": "code",
      "execution_count": 28,
      "metadata": {
        "id": "5RU3ZV4oIknW"
      },
      "outputs": [],
      "source": [
        "measurements = measurements_lib.Measurements()"
      ]
    },
    {
      "cell_type": "code",
      "execution_count": 29,
      "metadata": {},
      "outputs": [
        {
          "name": "stdout",
          "output_type": "stream",
          "text": [
            "Question: Which of the following is not a property of a Red-Black Tree?\n",
            "Alice's answer: Every node is either red or black\n",
            "Correct answer: Every simple path from a node to a descendant leaf has the same number of black nodes\n",
            "\n",
            "Question: In a B-Tree of order m, what is the maximum number of children a node can have?\n",
            "Alice's answer: 2m-1\n",
            "Correct answer: 2m\n",
            "\n",
            "Question: Which of the following is a disadvantage of using hash tables?\n",
            "Alice's answer: Handling of collisions\n",
            "Correct answer: Handling of collisions\n",
            "\n"
          ]
        },
        {
          "ename": "InvalidResponseError",
          "evalue": "Too many multiple choice attempts.\nLLM Input: Question: Alice is a carpenter. She has been a carpenter for her whole life. She has never learned to code. \nShe doesn't know anything about data structures. She is a carpenter.\nAlice is taking a quiz on data structures, just for fun, to test her knowledge. \nIf Alice doesn't know the answer, she will guess and make a single choice.\nHow would Alice answer the following question?\n\nIn the context of a graph, what does 'DAG' stand for?\n  (a) Dynamic Algorithm Graph\n  (b) Dual Access Graph\n  (c) Directed Algorithmic Graph\n  (d) Directed Acyclic Graph\n  (e) Data Aggregation Graph\nAnswer: (\nRespond EXACTLY with one of the following strings:\na\nb\nc\nd\ne.\nLLM Output: Since Alice is guessing, she could choose any of the options. For example, she might choose 'a'.",
          "output_type": "error",
          "traceback": [
            "\u001b[0;31m---------------------------------------------------------------------------\u001b[0m",
            "\u001b[0;31mInvalidResponseError\u001b[0m                      Traceback (most recent call last)",
            "Cell \u001b[0;32mIn[29], line 13\u001b[0m\n\u001b[1;32m      5\u001b[0m context \u001b[38;5;241m=\u001b[39m \u001b[38;5;124m\"\"\"\u001b[39m\u001b[38;5;124mAlice is a carpenter. She has been a carpenter for her whole life. She has never learned to code. \u001b[39m\n\u001b[1;32m      6\u001b[0m \u001b[38;5;124mShe doesn\u001b[39m\u001b[38;5;124m'\u001b[39m\u001b[38;5;124mt know anything about data structures. She is a carpenter.\u001b[39m\n\u001b[1;32m      7\u001b[0m \u001b[38;5;124mAlice is taking a quiz on data structures, just for fun, to test her knowledge. \u001b[39m\n\u001b[1;32m      8\u001b[0m \u001b[38;5;124mIf Alice doesn\u001b[39m\u001b[38;5;124m'\u001b[39m\u001b[38;5;124mt know the answer, she will guess and make a single choice.\u001b[39m\n\u001b[1;32m      9\u001b[0m \u001b[38;5;124mHow would Alice answer the following question?\u001b[39m\n\u001b[1;32m     10\u001b[0m \u001b[38;5;124m\"\"\"\u001b[39m\n\u001b[1;32m     12\u001b[0m quiz_metric \u001b[38;5;241m=\u001b[39m qm\u001b[38;5;241m.\u001b[39mQuizMetric(model, \u001b[38;5;124m\"\u001b[39m\u001b[38;5;124mAlice\u001b[39m\u001b[38;5;124m\"\u001b[39m, clock, \u001b[38;5;124m\"\u001b[39m\u001b[38;5;124m./custom_components/advanced_ds_questions.json\u001b[39m\u001b[38;5;124m\"\u001b[39m, measurements\u001b[38;5;241m=\u001b[39mmeasurements, verbose\u001b[38;5;241m=\u001b[39m\u001b[38;5;28;01mTrue\u001b[39;00m)\n\u001b[0;32m---> 13\u001b[0m \u001b[43mquiz_metric\u001b[49m\u001b[38;5;241;43m.\u001b[39;49m\u001b[43mobserve\u001b[49m\u001b[43m(\u001b[49m\u001b[43mcontext\u001b[49m\u001b[43m)\u001b[49m\n",
            "File \u001b[0;32m~/concordia/examples/custom_components/quiz_metric.py:71\u001b[0m, in \u001b[0;36mQuizMetric.observe\u001b[0;34m(self, observation)\u001b[0m\n\u001b[1;32m     69\u001b[0m \u001b[38;5;28;01mfor\u001b[39;00m question \u001b[38;5;129;01min\u001b[39;00m \u001b[38;5;28mself\u001b[39m\u001b[38;5;241m.\u001b[39m_exam[\u001b[38;5;124m\"\u001b[39m\u001b[38;5;124mquestions\u001b[39m\u001b[38;5;124m\"\u001b[39m]:\n\u001b[1;32m     70\u001b[0m     doc \u001b[38;5;241m=\u001b[39m interactive_document\u001b[38;5;241m.\u001b[39mInteractiveDocument(\u001b[38;5;28mself\u001b[39m\u001b[38;5;241m.\u001b[39m_model)\n\u001b[0;32m---> 71\u001b[0m     agent_answer \u001b[38;5;241m=\u001b[39m \u001b[43mdoc\u001b[49m\u001b[38;5;241;43m.\u001b[39;49m\u001b[43mmultiple_choice_question\u001b[49m\u001b[43m(\u001b[49m\n\u001b[1;32m     72\u001b[0m \u001b[43m        \u001b[49m\u001b[38;5;124;43mf\u001b[39;49m\u001b[38;5;124;43m\"\u001b[39;49m\u001b[38;5;132;43;01m{\u001b[39;49;00m\u001b[43mobservation\u001b[49m\u001b[38;5;132;43;01m}\u001b[39;49;00m\u001b[38;5;130;43;01m\\n\u001b[39;49;00m\u001b[38;5;132;43;01m{\u001b[39;49;00m\u001b[43mquestion\u001b[49m\u001b[43m[\u001b[49m\u001b[38;5;124;43m'\u001b[39;49m\u001b[38;5;124;43mquestion\u001b[39;49m\u001b[38;5;124;43m'\u001b[39;49m\u001b[43m]\u001b[49m\u001b[38;5;132;43;01m}\u001b[39;49;00m\u001b[38;5;124;43m\"\u001b[39;49m\u001b[43m,\u001b[49m\u001b[43m \u001b[49m\u001b[43mquestion\u001b[49m\u001b[43m[\u001b[49m\u001b[38;5;124;43m\"\u001b[39;49m\u001b[38;5;124;43moptions\u001b[39;49m\u001b[38;5;124;43m\"\u001b[39;49m\u001b[43m]\u001b[49m\n\u001b[1;32m     73\u001b[0m \u001b[43m    \u001b[49m\u001b[43m)\u001b[49m\n\u001b[1;32m     75\u001b[0m     \u001b[38;5;28;01mif\u001b[39;00m \u001b[38;5;28mself\u001b[39m\u001b[38;5;241m.\u001b[39m_verbose:\n\u001b[1;32m     76\u001b[0m         \u001b[38;5;28mprint\u001b[39m(\n\u001b[1;32m     77\u001b[0m             \u001b[38;5;124mf\u001b[39m\u001b[38;5;124m\"\u001b[39m\u001b[38;5;124mQuestion: \u001b[39m\u001b[38;5;132;01m{\u001b[39;00mquestion[\u001b[38;5;124m'\u001b[39m\u001b[38;5;124mquestion\u001b[39m\u001b[38;5;124m'\u001b[39m]\u001b[38;5;132;01m}\u001b[39;00m\u001b[38;5;130;01m\\n\u001b[39;00m\u001b[38;5;132;01m{\u001b[39;00m\u001b[38;5;28mself\u001b[39m\u001b[38;5;241m.\u001b[39m_player_name\u001b[38;5;132;01m}\u001b[39;00m\u001b[38;5;124m'\u001b[39m\u001b[38;5;124ms answer: \u001b[39m\u001b[38;5;132;01m{\u001b[39;00mquestion[\u001b[38;5;124m'\u001b[39m\u001b[38;5;124moptions\u001b[39m\u001b[38;5;124m'\u001b[39m][agent_answer]\u001b[38;5;132;01m}\u001b[39;00m\u001b[38;5;130;01m\\n\u001b[39;00m\u001b[38;5;124mCorrect answer: \u001b[39m\u001b[38;5;132;01m{\u001b[39;00mquestion[\u001b[38;5;124m'\u001b[39m\u001b[38;5;124moptions\u001b[39m\u001b[38;5;124m'\u001b[39m][question[\u001b[38;5;124m'\u001b[39m\u001b[38;5;124mcorrect_answer\u001b[39m\u001b[38;5;124m'\u001b[39m]]\u001b[38;5;132;01m}\u001b[39;00m\u001b[38;5;130;01m\\n\u001b[39;00m\u001b[38;5;124m\"\u001b[39m\n\u001b[1;32m     78\u001b[0m         )\n",
            "File \u001b[0;32m~/concordia/concordia/document/interactive_document.py:196\u001b[0m, in \u001b[0;36mInteractiveDocument.multiple_choice_question\u001b[0;34m(self, question, answers)\u001b[0m\n\u001b[1;32m    193\u001b[0m   \u001b[38;5;28mself\u001b[39m\u001b[38;5;241m.\u001b[39m_question(\u001b[38;5;124mf\u001b[39m\u001b[38;5;124m'\u001b[39m\u001b[38;5;124m  (\u001b[39m\u001b[38;5;132;01m{\u001b[39;00mkey\u001b[38;5;132;01m}\u001b[39;00m\u001b[38;5;124m) \u001b[39m\u001b[38;5;132;01m{\u001b[39;00moption\u001b[38;5;132;01m}\u001b[39;00m\u001b[38;5;130;01m\\n\u001b[39;00m\u001b[38;5;124m'\u001b[39m)\n\u001b[1;32m    195\u001b[0m \u001b[38;5;28mself\u001b[39m\u001b[38;5;241m.\u001b[39m_response(\u001b[38;5;124m'\u001b[39m\u001b[38;5;124mAnswer: (\u001b[39m\u001b[38;5;124m'\u001b[39m)\n\u001b[0;32m--> 196\u001b[0m idx, response, debug \u001b[38;5;241m=\u001b[39m \u001b[38;5;28;43mself\u001b[39;49m\u001b[38;5;241;43m.\u001b[39;49m\u001b[43m_model\u001b[49m\u001b[38;5;241;43m.\u001b[39;49m\u001b[43msample_choice\u001b[49m\u001b[43m(\u001b[49m\n\u001b[1;32m    197\u001b[0m \u001b[43m    \u001b[49m\u001b[43mprompt\u001b[49m\u001b[38;5;241;43m=\u001b[39;49m\u001b[38;5;28;43mself\u001b[39;49m\u001b[38;5;241;43m.\u001b[39;49m\u001b[43m_model_view\u001b[49m\u001b[38;5;241;43m.\u001b[39;49m\u001b[43mtext\u001b[49m\u001b[43m(\u001b[49m\u001b[43m)\u001b[49m\u001b[43m,\u001b[49m\n\u001b[1;32m    198\u001b[0m \u001b[43m    \u001b[49m\u001b[43mresponses\u001b[49m\u001b[38;5;241;43m=\u001b[39;49m\u001b[38;5;28;43mlist\u001b[39;49m\u001b[43m(\u001b[49m\u001b[43moptions\u001b[49m\u001b[38;5;241;43m.\u001b[39;49m\u001b[43mkeys\u001b[49m\u001b[43m(\u001b[49m\u001b[43m)\u001b[49m\u001b[43m)\u001b[49m\u001b[43m,\u001b[49m\n\u001b[1;32m    199\u001b[0m \u001b[43m\u001b[49m\u001b[43m)\u001b[49m\n\u001b[1;32m    200\u001b[0m \u001b[38;5;28mself\u001b[39m\u001b[38;5;241m.\u001b[39m_model_response(response)\n\u001b[1;32m    201\u001b[0m \u001b[38;5;28mself\u001b[39m\u001b[38;5;241m.\u001b[39m_response(\u001b[38;5;124m'\u001b[39m\u001b[38;5;124m)\u001b[39m\u001b[38;5;130;01m\\n\u001b[39;00m\u001b[38;5;124m'\u001b[39m)\n",
            "File \u001b[0;32m~/concordia/concordia/language_model/gpt_model.py:122\u001b[0m, in \u001b[0;36mGptLanguageModel.sample_choice\u001b[0;34m(self, prompt, responses, seed)\u001b[0m\n\u001b[1;32m    119\u001b[0m     debug \u001b[38;5;241m=\u001b[39m {}\n\u001b[1;32m    120\u001b[0m     \u001b[38;5;28;01mreturn\u001b[39;00m idx, responses[idx], debug\n\u001b[0;32m--> 122\u001b[0m \u001b[38;5;28;01mraise\u001b[39;00m language_model\u001b[38;5;241m.\u001b[39mInvalidResponseError(\n\u001b[1;32m    123\u001b[0m     \u001b[38;5;124mf\u001b[39m\u001b[38;5;124m'\u001b[39m\u001b[38;5;124mToo many multiple choice attempts.\u001b[39m\u001b[38;5;130;01m\\n\u001b[39;00m\u001b[38;5;124mLLM Input: \u001b[39m\u001b[38;5;132;01m{\u001b[39;00mprompt\u001b[38;5;132;01m}\u001b[39;00m\u001b[38;5;130;01m\\n\u001b[39;00m\u001b[38;5;124mLLM Output: \u001b[39m\u001b[38;5;132;01m{\u001b[39;00msample\u001b[38;5;132;01m}\u001b[39;00m\u001b[38;5;124m'\u001b[39m\n\u001b[1;32m    124\u001b[0m )\n",
            "\u001b[0;31mInvalidResponseError\u001b[0m: Too many multiple choice attempts.\nLLM Input: Question: Alice is a carpenter. She has been a carpenter for her whole life. She has never learned to code. \nShe doesn't know anything about data structures. She is a carpenter.\nAlice is taking a quiz on data structures, just for fun, to test her knowledge. \nIf Alice doesn't know the answer, she will guess and make a single choice.\nHow would Alice answer the following question?\n\nIn the context of a graph, what does 'DAG' stand for?\n  (a) Dynamic Algorithm Graph\n  (b) Dual Access Graph\n  (c) Directed Algorithmic Graph\n  (d) Directed Acyclic Graph\n  (e) Data Aggregation Graph\nAnswer: (\nRespond EXACTLY with one of the following strings:\na\nb\nc\nd\ne.\nLLM Output: Since Alice is guessing, she could choose any of the options. For example, she might choose 'a'."
          ]
        }
      ],
      "source": [
        "import importlib\n",
        "import custom_components.quiz_metric as qm\n",
        "importlib.reload(qm)\n",
        "\n",
        "context = \"\"\"Alice is a carpenter. She has been a carpenter for her whole life. She has never learned to code. \n",
        "She doesn't know anything about data structures. She is a carpenter.\n",
        "Alice is taking a quiz on data structures, just for fun, to test her knowledge. \n",
        "If Alice doesn't know the answer, she will guess and make a single choice.\n",
        "How would Alice answer the following question?\n",
        "\"\"\"\n",
        "\n",
        "quiz_metric = qm.QuizMetric(model, \"Alice\", clock, \"./custom_components/advanced_ds_questions.json\", measurements=measurements, verbose=True)\n",
        "quiz_metric.observe(context)"
      ]
    },
    {
      "cell_type": "code",
      "execution_count": 30,
      "metadata": {},
      "outputs": [
        {
          "name": "stdout",
          "output_type": "stream",
          "text": [
            "Question: Which of the following is not a property of a Red-Black Tree?\n",
            "Bob's answer: The root is always black\n",
            "Correct answer: Every simple path from a node to a descendant leaf has the same number of black nodes\n",
            "\n",
            "Question: In a B-Tree of order m, what is the maximum number of children a node can have?\n",
            "Bob's answer: 2m\n",
            "Correct answer: 2m\n",
            "\n",
            "Question: Which of the following is a disadvantage of using hash tables?\n",
            "Bob's answer: Handling of collisions\n",
            "Correct answer: Handling of collisions\n",
            "\n",
            "Question: In the context of a graph, what does 'DAG' stand for?\n",
            "Bob's answer: Directed Acyclic Graph\n",
            "Correct answer: Directed Acyclic Graph\n",
            "\n",
            "Question: What is the worst-case time complexity of inserting an element in a Fibonacci Heap?\n",
            "Bob's answer: O(1)\n",
            "Correct answer: Amortized O(1)\n",
            "\n",
            "Question: Which algorithm is not typically used for graph traversal?\n",
            "Bob's answer: Quick Sort\n",
            "Correct answer: Quick Sort\n",
            "\n",
            "Question: What is the space complexity of a simple adjacency list representation of a graph with n vertices and e edges?\n",
            "Bob's answer: O(n + e)\n",
            "Correct answer: O(n + e)\n",
            "\n",
            "Question: In AVL trees, what is the maximum difference allowed between the heights of the left and right subtrees of any node?\n",
            "Bob's answer: 1\n",
            "Correct answer: 1\n",
            "\n",
            "Question: Which of the following is a true statement about Splay Trees?\n",
            "Bob's answer: Recently accessed elements are moved to the root\n",
            "Correct answer: Recently accessed elements are moved to the root\n",
            "\n",
            "Question: In the Knuth-Morris-Pratt (KMP) algorithm, what is the purpose of the 'partial match' table?\n",
            "Bob's answer: To skip unnecessary comparisons when a mismatch occurs\n",
            "Correct answer: To skip unnecessary comparisons when a mismatch occurs\n",
            "\n",
            "QuizScore of Bob: Agent scored 8/10 on quiz.\n"
          ]
        }
      ],
      "source": [
        "context = \"\"\"Bob has a PhD in computer science. He has been interested in data structures for his whole life.\n",
        "He knows everything about data structures. He is a computer scientist.\n",
        "Bob is taking a quiz on data structures, just for fun, to test his knowledge.\n",
        "If Bob doesn't know the answer, he will guess and make a single choice.\n",
        "How would Bob answer the following question?\"\"\"\n",
        "\n",
        "quiz_metric = qm.QuizMetric(model, \"Bob\", clock, \"./custom_components/advanced_ds_questions.json\", measurements=measurements, verbose=True)\n",
        "quiz_metric.observe(context)"
      ]
    },
    {
      "cell_type": "code",
      "execution_count": null,
      "metadata": {},
      "outputs": [],
      "source": []
    }
  ],
  "metadata": {
    "colab": {
      "last_runtime": {
        "build_target": "",
        "kind": "private"
      },
      "private_outputs": true,
      "provenance": []
    },
    "kernelspec": {
      "display_name": "Python 3",
      "name": "python3"
    },
    "language_info": {
      "codemirror_mode": {
        "name": "ipython",
        "version": 3
      },
      "file_extension": ".py",
      "mimetype": "text/x-python",
      "name": "python",
      "nbconvert_exporter": "python",
      "pygments_lexer": "ipython3",
      "version": "3.11.5"
    }
  },
  "nbformat": 4,
  "nbformat_minor": 0
}
