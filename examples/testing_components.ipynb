{
  "cells": [
    {
      "cell_type": "markdown",
      "metadata": {
        "id": "VE-6f595AybO"
      },
      "source": []
    },
    {
      "cell_type": "markdown",
      "metadata": {
        "id": "9Lj2tJYdLfEU"
      },
      "source": []
    },
    {
      "cell_type": "markdown",
      "metadata": {
        "id": "J2TwJrZ08wXz"
      },
      "source": [
        "## Init and import"
      ]
    },
    {
      "cell_type": "code",
      "execution_count": 1,
      "metadata": {
        "id": "-qLG5ExLqpWa"
      },
      "outputs": [],
      "source": [
        "# @title Imports\n",
        "\n",
        "import collections\n",
        "import concurrent.futures\n",
        "import datetime\n",
        "\n",
        "# from google.colab import widgets\n",
        "from IPython import display\n",
        "\n",
        "from concordia import components as generic_components\n",
        "from concordia.agents import basic_agent\n",
        "from concordia.components import agent as components\n",
        "from concordia.agents import basic_agent\n",
        "from concordia.associative_memory import associative_memory\n",
        "from concordia.associative_memory import blank_memories\n",
        "from concordia.associative_memory import formative_memories\n",
        "from concordia.associative_memory import importance_function\n",
        "from concordia.clocks import game_clock\n",
        "from concordia.components import game_master as gm_components\n",
        "from concordia.environment import game_master\n",
        "from concordia.metrics import goal_achievement\n",
        "from concordia.metrics import common_sense_morality\n",
        "from concordia.metrics import opinion_of_others\n",
        "from concordia.utils import measurements as measurements_lib\n",
        "from concordia.language_model import gpt_model\n",
        "from concordia.language_model import gcloud_model\n",
        "from concordia.utils import html as html_lib\n",
        "from concordia.utils import plotting\n",
        "\n",
        "import logging\n",
        "logging.basicConfig(level=logging.ERROR, filename='components_testing.log')\n",
        "logger = logging.getLogger('ollama')"
      ]
    },
    {
      "cell_type": "code",
      "execution_count": 2,
      "metadata": {
        "id": "I3OtW8flCJSC"
      },
      "outputs": [],
      "source": [
        "# Setup sentence encoder\n",
        "from sentence_transformers import SentenceTransformer\n",
        "st5_model = SentenceTransformer('sentence-transformers/sentence-t5-base')\n",
        "embedder = st5_model.encode"
      ]
    },
    {
      "cell_type": "code",
      "execution_count": 3,
      "metadata": {},
      "outputs": [],
      "source": [
        "from concordia.language_model import ollama_model\n",
        "model = ollama_model.OllamaLanguageModel(\n",
        "    model_name='llama2:70b',\n",
        "    # streaming=True\n",
        ")"
      ]
    },
    {
      "cell_type": "code",
      "execution_count": 4,
      "metadata": {},
      "outputs": [],
      "source": [
        "#@title Make the clock\n",
        "time_step = datetime.timedelta(minutes=20)\n",
        "SETUP_TIME = datetime.datetime(hour=20, year=2024, month=10, day=1)\n",
        "\n",
        "START_TIME = datetime.datetime(hour=18, year=2024, month=10, day=2)\n",
        "clock = game_clock.MultiIntervalClock(\n",
        "    start=SETUP_TIME,\n",
        "    step_sizes=[time_step, datetime.timedelta(seconds=10)])\n"
      ]
    },
    {
      "cell_type": "code",
      "execution_count": 5,
      "metadata": {
        "id": "h4_gUs6wrjPM"
      },
      "outputs": [],
      "source": [
        "#@title Importance models\n",
        "importance_model = importance_function.ConstantImportanceModel()\n",
        "importance_model_gm = importance_function.ConstantImportanceModel()\n"
      ]
    },
    {
      "cell_type": "code",
      "execution_count": 6,
      "metadata": {
        "id": "b8vWoQ6by51N"
      },
      "outputs": [],
      "source": [
        "# @title Generic memories are memories that all players and GM share.\n",
        "\n",
        "shared_memories = []\n",
        "\n",
        "# The generic context will be used for the NPC context. It reflects general\n",
        "# knowledge and is possessed by all characters.\n",
        "# shared_context = model.sample_text(\n",
        "#     'Summarize the following passage in a concise and insightful fashion:\\n'\n",
        "#     + '\\n'.join(shared_memories)\n",
        "#     + '\\n'\n",
        "#     + 'Summary:'\n",
        "# )\n",
        "# print(shared_context)\n"
      ]
    },
    {
      "cell_type": "markdown",
      "metadata": {
        "id": "qt8CK2mMbD7q"
      },
      "source": [
        "## Configure and build the players\n",
        "\n",
        "---\n",
        "\n"
      ]
    },
    {
      "cell_type": "code",
      "execution_count": 7,
      "metadata": {
        "id": "CrmDfTNHCVXC"
      },
      "outputs": [],
      "source": [
        "blank_memory_factory = blank_memories.MemoryFactory(\n",
        "    model=model,\n",
        "    embedder=embedder,\n",
        "    importance=importance_model.importance,\n",
        "    clock_now=clock.now,\n",
        ")\n",
        "\n",
        "formative_memory_factory = formative_memories.FormativeMemoryFactory(\n",
        "    model=model,\n",
        "    shared_memories=shared_memories,\n",
        "    blank_memory_factory_call=blank_memory_factory.make_blank_memory,\n",
        ")"
      ]
    },
    {
      "cell_type": "code",
      "execution_count": 8,
      "metadata": {
        "id": "AXnq6aOZ3ukY"
      },
      "outputs": [],
      "source": [
        "#@title Creating character backgrounds, goals and traits. Modify to explore how it influences the outcomes\n",
        "NUM_PLAYERS = 1\n",
        "\n",
        "scenario_premise = []\n",
        "player_configs = [\n",
        "    formative_memories.AgentConfig(\n",
        "        name='Alice',\n",
        "        gender='female',\n",
        "        goal='Alice wants to be a successful carpenter and a good person.',\n",
        "        context='Alice has been a carpenter for most of her career. She has also worked as a music store clerk and a waitress. She is a good person.',\n",
        "        traits='',\n",
        "    ),\n",
        "]"
      ]
    },
    {
      "cell_type": "code",
      "execution_count": 9,
      "metadata": {
        "id": "4aS2sY22B1JQ"
      },
      "outputs": [],
      "source": [
        "def build_agent(\n",
        "    agent_config,\n",
        "    player_names: list[str],\n",
        "    measurements: measurements_lib.Measurements | None = None,\n",
        "):\n",
        "  mem = formative_memory_factory.make_memories(agent_config)\n",
        "\n",
        "  self_perception = components.self_perception.SelfPerception(\n",
        "      name='self perception',\n",
        "      model=model,\n",
        "      memory=mem,\n",
        "      agent_name=agent_config.name,\n",
        "      clock_now=clock.now,\n",
        "      verbose=True,\n",
        "  )\n",
        "  persona = components.sequential.Sequential(\n",
        "      name='persona',\n",
        "      components=[\n",
        "          self_perception,\n",
        "      ],\n",
        "  )\n",
        "  current_time_component = components.report_function.ReportFunction(\n",
        "      name='current_time', function=clock.current_time_interval_str\n",
        "  )\n",
        "\n",
        "  current_obs = components.observation.Observation(\n",
        "            agent_name=agent_config.name,\n",
        "      clock_now=clock.now,\n",
        "      memory=mem,\n",
        "      timeframe=clock.get_step_size(),\n",
        "      component_name='current observations',\n",
        "  )\n",
        "\n",
        "  summary_obs = components.observation.ObservationSummary(\n",
        "      agent_name=agent_config.name,\n",
        "      model=model,\n",
        "      clock_now=clock.now,\n",
        "      memory=mem,\n",
        "      timeframe_delta_from=datetime.timedelta(hours=4),\n",
        "      timeframe_delta_until=datetime.timedelta(hours=1),\n",
        "      components=[persona],\n",
        "      component_name='summary of observations',\n",
        "  )\n",
        "\n",
        "  goal_metric = goal_achievement.GoalAchievementMetric(\n",
        "      model=model,\n",
        "      player_name=agent_config.name,\n",
        "      player_goal=agent_config.goal,\n",
        "      clock=clock,\n",
        "      name='Goal Achievement',\n",
        "      measurements=measurements,\n",
        "      channel='goal_achievement',\n",
        "      verbose=False,\n",
        "  )\n",
        "\n",
        "  agent = basic_agent.BasicAgent(\n",
        "      model,\n",
        "      mem,\n",
        "      agent_name=agent_config.name,\n",
        "      clock=clock,\n",
        "      verbose=False,\n",
        "      components=[\n",
        "          persona,\n",
        "          current_time_component,\n",
        "          summary_obs,\n",
        "          current_obs,\n",
        "          goal_metric,\n",
        "      ],\n",
        "      update_interval=time_step,\n",
        "  )\n",
        "\n",
        "  return agent"
      ]
    },
    {
      "cell_type": "code",
      "execution_count": 10,
      "metadata": {
        "id": "5RU3ZV4oIknW"
      },
      "outputs": [],
      "source": [
        "player_configs = player_configs[:NUM_PLAYERS]\n",
        "player_names = [player.name for player in player_configs][:NUM_PLAYERS]\n",
        "measurements = measurements_lib.Measurements()"
      ]
    },
    {
      "cell_type": "code",
      "execution_count": 12,
      "metadata": {},
      "outputs": [
        {
          "name": "stdout",
          "output_type": "stream",
          "text": [
            "Question: Which of the following data structures uses a FIFO approach?, Agent answered correctly: Queue\n",
            "Question: What is the time complexity of accessing an element in an array?, Agent answered correctly: O(1)\n",
            "Question: In a binary search tree, the left child of a node contains a value which is:, Agent answered correctly: Less than the parent node\n",
            "Question: Which of the following is not a linear data structure?, Agent answered incorrectly: Linked List\n",
            "Question: What data structure is used for implementing recursion?, Agent answered incorrectly: Array\n",
            "Question: Which of the following sorting algorithms is not a comparison sort?, Agent answered incorrectly: Insertion Sort\n",
            "Question: What is the worst-case time complexity of a binary search algorithm?, Agent answered incorrectly: O(n^2)\n",
            "Question: Which of the following is an example of a dynamic data structure?, Agent answered correctly: Linked List\n",
            "Question: What is the maximum number of children for a node in a binary tree?, Agent answered incorrectly: 3\n",
            "Question: In hash tables, what is a 'collision'?, Agent answered incorrectly: When two keys are exactly the same\n",
            "QuizScore of Alice: Agent scored 4/10 on quiz.\n"
          ]
        }
      ],
      "source": [
        "import importlib\n",
        "import custom_components.quiz_metric as qm\n",
        "importlib.reload(qm)\n",
        "\n",
        "quiz_metric = qm.QuizMetric(model, \"Alice\", clock, \"./custom_components/data_structures_questions.json\", measurements=measurements, verbose=True)\n",
        "quiz_metric.observe(f\"Pretend that you have been a carpenter for your whole life. You have never learned to code. You don't know anything about data structures. How would you answer the following question?\")"
      ]
    },
    {
      "cell_type": "code",
      "execution_count": 13,
      "metadata": {},
      "outputs": [
        {
          "name": "stdout",
          "output_type": "stream",
          "text": [
            "Question: Which of the following data structures uses a FIFO approach?, Agent answered correctly: Queue\n",
            "Question: What is the time complexity of accessing an element in an array?, Agent answered correctly: O(1)\n",
            "Question: In a binary search tree, the left child of a node contains a value which is:, Agent answered correctly: Less than the parent node\n",
            "Question: Which of the following is not a linear data structure?, Agent answered correctly: Graph\n",
            "Question: What data structure is used for implementing recursion?, Agent answered incorrectly: Array\n",
            "Question: Which of the following sorting algorithms is not a comparison sort?, Agent answered incorrectly: Merge Sort\n",
            "Question: What is the worst-case time complexity of a binary search algorithm?, Agent answered incorrectly: O(n^2)\n",
            "Question: Which of the following is an example of a dynamic data structure?, Agent answered incorrectly: Array\n",
            "Question: What is the maximum number of children for a node in a binary tree?, Agent answered incorrectly: 4\n",
            "Question: In hash tables, what is a 'collision'?, Agent answered incorrectly: When two keys are exactly the same\n",
            "QuizScore of Bob: Agent scored 4/10 on quiz.\n"
          ]
        }
      ],
      "source": [
        "quiz_metric = qm.QuizMetric(model, \"Bob\", clock, \"./custom_components/data_structures_questions.json\", measurements=measurements, verbose=True)\n",
        "quiz_metric.observe(f\"How would you answer the following question?\")"
      ]
    }
  ],
  "metadata": {
    "colab": {
      "last_runtime": {
        "build_target": "",
        "kind": "private"
      },
      "private_outputs": true,
      "provenance": []
    },
    "kernelspec": {
      "display_name": "Python 3",
      "name": "python3"
    },
    "language_info": {
      "codemirror_mode": {
        "name": "ipython",
        "version": 3
      },
      "file_extension": ".py",
      "mimetype": "text/x-python",
      "name": "python",
      "nbconvert_exporter": "python",
      "pygments_lexer": "ipython3",
      "version": "3.11.5"
    }
  },
  "nbformat": 4,
  "nbformat_minor": 0
}
