{
  "cells": [
    {
      "cell_type": "markdown",
      "metadata": {
        "id": "VE-6f595AybO"
      },
      "source": []
    },
    {
      "cell_type": "markdown",
      "metadata": {
        "id": "9Lj2tJYdLfEU"
      },
      "source": []
    },
    {
      "cell_type": "markdown",
      "metadata": {
        "id": "J2TwJrZ08wXz"
      },
      "source": [
        "## Init and import"
      ]
    },
    {
      "cell_type": "code",
      "execution_count": 1,
      "metadata": {
        "id": "-qLG5ExLqpWa"
      },
      "outputs": [],
      "source": [
        "# @title Imports\n",
        "\n",
        "import collections\n",
        "import concurrent.futures\n",
        "import datetime\n",
        "\n",
        "# from google.colab import widgets\n",
        "from IPython import display\n",
        "\n",
        "from concordia import components as generic_components\n",
        "from concordia.agents import basic_agent\n",
        "from concordia.components import agent as components\n",
        "from concordia.agents import basic_agent\n",
        "from concordia.associative_memory import associative_memory\n",
        "from concordia.associative_memory import blank_memories\n",
        "from concordia.associative_memory import formative_memories\n",
        "from concordia.associative_memory import importance_function\n",
        "from concordia.clocks import game_clock\n",
        "from concordia.components import game_master as gm_components\n",
        "from concordia.environment import game_master\n",
        "from concordia.metrics import goal_achievement\n",
        "from concordia.metrics import common_sense_morality\n",
        "from concordia.metrics import opinion_of_others\n",
        "from concordia.utils import measurements as measurements_lib\n",
        "from concordia.language_model import gpt_model\n",
        "from concordia.language_model import gcloud_model\n",
        "from concordia.utils import html as html_lib\n",
        "from concordia.utils import plotting\n",
        "\n",
        "import logging\n",
        "logging.basicConfig(level=logging.ERROR, filename='components_testing.log')\n",
        "logger = logging.getLogger('ollama')"
      ]
    },
    {
      "cell_type": "code",
      "execution_count": 2,
      "metadata": {
        "id": "I3OtW8flCJSC"
      },
      "outputs": [],
      "source": [
        "# Setup sentence encoder\n",
        "from sentence_transformers import SentenceTransformer\n",
        "st5_model = SentenceTransformer('sentence-transformers/sentence-t5-base')\n",
        "embedder = st5_model.encode"
      ]
    },
    {
      "cell_type": "code",
      "execution_count": 18,
      "metadata": {},
      "outputs": [],
      "source": [
        "from concordia.language_model import ollama_model\n",
        "model = ollama_model.OllamaLanguageModel(\n",
        "    # model_name='llama2:70b',\n",
        "    model_name='mixtral'\n",
        "    # streaming=True\n",
        ")\n",
        "\n",
        "# import dotenv\n",
        "# import os\n",
        "# dotenv.load_dotenv()\n",
        "# api_key = os.getenv('OPENAI_API_KEY')\n",
        "\n",
        "# from concordia.language_model import gpt_model\n",
        "# model = gpt_model.GptLanguageModel(\n",
        "#     api_key=api_key,\n",
        "#     model_name='gpt-4',\n",
        "# )"
      ]
    },
    {
      "cell_type": "code",
      "execution_count": 19,
      "metadata": {},
      "outputs": [],
      "source": [
        "#@title Make the clock\n",
        "time_step = datetime.timedelta(minutes=20)\n",
        "SETUP_TIME = datetime.datetime(hour=20, year=2024, month=10, day=1)\n",
        "\n",
        "START_TIME = datetime.datetime(hour=18, year=2024, month=10, day=2)\n",
        "clock = game_clock.MultiIntervalClock(\n",
        "    start=SETUP_TIME,\n",
        "    step_sizes=[time_step, datetime.timedelta(seconds=10)])\n"
      ]
    },
    {
      "cell_type": "code",
      "execution_count": 20,
      "metadata": {
        "id": "5RU3ZV4oIknW"
      },
      "outputs": [],
      "source": [
        "measurements = measurements_lib.Measurements()"
      ]
    },
    {
      "cell_type": "code",
      "execution_count": 21,
      "metadata": {},
      "outputs": [
        {
          "name": "stdout",
          "output_type": "stream",
          "text": [
            "Question: Which of the following is not a property of a Red-Black Tree?, Agent answered incorrectly: If a node is red, then both its children are black\n",
            "Question: In a B-Tree of order m, what is the maximum number of children a node can have?, Agent answered incorrectly: 2m-1\n",
            "Question: Which of the following is a disadvantage of using hash tables?, Agent answered correctly: Handling of collisions\n",
            "Question: In the context of a graph, what does 'DAG' stand for?, Agent answered correctly: Directed Acyclic Graph\n",
            "Question: What is the worst-case time complexity of inserting an element in a Fibonacci Heap?, Agent answered incorrectly: O(n)\n",
            "Question: Which algorithm is not typically used for graph traversal?, Agent answered correctly: Quick Sort\n",
            "Question: What is the space complexity of a simple adjacency list representation of a graph with n vertices and e edges?, Agent answered incorrectly: O(n)\n",
            "Question: In AVL trees, what is the maximum difference allowed between the heights of the left and right subtrees of any node?, Agent answered correctly: 1\n",
            "Question: Which of the following is a true statement about Splay Trees?, Agent answered correctly: Recently accessed elements are moved to the root\n",
            "Question: In the Knuth-Morris-Pratt (KMP) algorithm, what is the purpose of the 'partial match' table?, Agent answered incorrectly: To maintain the longest prefix which is also a suffix\n",
            "QuizScore of Alice: Agent scored 5/10 on quiz.\n"
          ]
        }
      ],
      "source": [
        "import importlib\n",
        "import custom_components.quiz_metric as qm\n",
        "importlib.reload(qm)\n",
        "\n",
        "context = \"\"\"Alice is a carpenter. She has been a carpenter for her whole life. She has never learned to code. \n",
        "She doesn't know anything about data structures. She is a carpenter.\n",
        "Alice is taking a quiz on data structures, just for fun, to test her knowledge. \n",
        "If Alice doesn't know the answer, she will guess and make a single choice.\n",
        "How would Alice answer the following question?\n",
        "\"\"\"\n",
        "\n",
        "quiz_metric = qm.QuizMetric(model, \"Alice\", clock, \"./custom_components/advanced_ds_questions.json\", measurements=measurements, verbose=True)\n",
        "quiz_metric.observe(context)"
      ]
    },
    {
      "cell_type": "code",
      "execution_count": 23,
      "metadata": {},
      "outputs": [
        {
          "name": "stdout",
          "output_type": "stream",
          "text": [
            "Question: Which of the following is not a property of a Red-Black Tree?, Agent answered incorrectly: The root is always black\n",
            "Question: In a B-Tree of order m, what is the maximum number of children a node can have?, Agent answered incorrectly: 2m-1\n",
            "Question: Which of the following is a disadvantage of using hash tables?, Agent answered correctly: Handling of collisions\n",
            "Question: In the context of a graph, what does 'DAG' stand for?, Agent answered correctly: Directed Acyclic Graph\n",
            "Question: What is the worst-case time complexity of inserting an element in a Fibonacci Heap?, Agent answered correctly: Amortized O(1)\n",
            "Question: Which algorithm is not typically used for graph traversal?, Agent answered correctly: Quick Sort\n",
            "Question: What is the space complexity of a simple adjacency list representation of a graph with n vertices and e edges?, Agent answered correctly: O(n + e)\n",
            "Question: In AVL trees, what is the maximum difference allowed between the heights of the left and right subtrees of any node?, Agent answered correctly: 1\n",
            "Question: Which of the following is a true statement about Splay Trees?, Agent answered correctly: Recently accessed elements are moved to the root\n",
            "Question: In the Knuth-Morris-Pratt (KMP) algorithm, what is the purpose of the 'partial match' table?, Agent answered incorrectly: To maintain the longest prefix which is also a suffix\n",
            "QuizScore of Bob: Agent scored 7/10 on quiz.\n"
          ]
        }
      ],
      "source": [
        "context = \"\"\"Bob has a PhD in computer science. He has been interested in data structures for his whole life.\n",
        "He knows everything about data structures. He is a computer scientist.\n",
        "Bob is taking a quiz on data structures, just for fun, to test his knowledge.\n",
        "If Bob doesn't know the answer, he will guess and make a single choice.\n",
        "How would Bob answer the following question?\"\"\"\n",
        "\n",
        "quiz_metric = qm.QuizMetric(model, \"Bob\", clock, \"./custom_components/advanced_ds_questions.json\", measurements=measurements, verbose=True)\n",
        "quiz_metric.observe(context)"
      ]
    },
    {
      "cell_type": "code",
      "execution_count": null,
      "metadata": {},
      "outputs": [],
      "source": []
    }
  ],
  "metadata": {
    "colab": {
      "last_runtime": {
        "build_target": "",
        "kind": "private"
      },
      "private_outputs": true,
      "provenance": []
    },
    "kernelspec": {
      "display_name": "Python 3",
      "name": "python3"
    },
    "language_info": {
      "codemirror_mode": {
        "name": "ipython",
        "version": 3
      },
      "file_extension": ".py",
      "mimetype": "text/x-python",
      "name": "python",
      "nbconvert_exporter": "python",
      "pygments_lexer": "ipython3",
      "version": "3.11.5"
    }
  },
  "nbformat": 4,
  "nbformat_minor": 0
}
