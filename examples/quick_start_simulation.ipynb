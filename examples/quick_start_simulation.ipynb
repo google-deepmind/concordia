{
 "cells": [
  {
   "cell_type": "markdown",
   "metadata": {},
   "source": [
    "# Quick Start: Running a Concordia Simulation\n",
    "\n",
    "This notebook demonstrates how to use prefab game masters and entities to run a simulation."
   ]
  },
  {
   "cell_type": "markdown",
   "metadata": {},
   "source": [
    "## Step 1: Import Required Modules"
   ]
  },
  {
   "cell_type": "code",
   "execution_count": null,
   "metadata": {},
   "outputs": [],
   "source": [
    "import datetime\n",
    "import os\n",
    "\n",
    "# Core imports\n",
    "from concordia.clocks import game_clock\n",
    "from concordia.language_model import no_language_model\n",
    "from concordia.environment.engines import sequential\n",
    "\n",
    "# Prefab imports - these make setup easy!\n",
    "from concordia.prefabs import entity\n",
    "from concordia.prefabs import game_master"
   ]
  },
  {
   "cell_type": "markdown",
   "metadata": {},
   "source": [
    "## Step 2: Configure the Language Model\n",
    "\n",
    "For real simulations, replace with an actual LLM:"
   ]
  },
  {
   "cell_type": "code",
   "execution_count": null,
   "metadata": {},
   "outputs": [],
   "source": [
    "# Option 1: Mock model for testing (no API needed)\n",
    "model = no_language_model.NoLanguageModel()\n",
    "\n",
    "# Option 2: OpenAI GPT (requires API key)\n",
    "# from concordia.language_model import gpt_model\n",
    "# model = gpt_model.GPTModel(\n",
    "#     api_key=os.environ.get('OPENAI_API_KEY'),\n",
    "#     model_name='gpt-4'\n",
    "# )\n",
    "\n",
    "# Option 3: Google AI Studio (requires API key)\n",
    "# from concordia.language_model import google_aistudio_model\n",
    "# model = google_aistudio_model.GoogleAIStudioModel(\n",
    "#     api_key=os.environ.get('GOOGLE_API_KEY'),\n",
    "#     model_name='gemini-pro'\n",
    "# )"
   ]
  },
  {
   "cell_type": "markdown",
   "metadata": {},
   "source": [
    "## Step 3: Create the Game Clock"
   ]
  },
  {
   "cell_type": "code",
   "execution_count": null,
   "metadata": {},
   "outputs": [],
   "source": [
    "# Clock manages simulation time\n",
    "clock = game_clock.GameClock(\n",
    "    start=datetime.datetime(2024, 1, 1, 9, 0),  # Start at 9 AM\n",
    "    step=datetime.timedelta(minutes=15)  # 15-minute intervals\n",
    ")"
   ]
  },
  {
   "cell_type": "markdown",
   "metadata": {},
   "source": [
    "## Step 4: Create Agents Using Prefabs\n",
    "\n",
    "Three different ways to create agents:"
   ]
  },
  {
   "cell_type": "code",
   "execution_count": null,
   "metadata": {},
   "outputs": [],
   "source": "# ============================================================================\n# AVAILABLE ENTITY PREFABS (from concordia.prefabs.entity):\n# ============================================================================\n# \n# BASIC AGENTS:\n# - basic.build_agent()\n#   Basic agent with memory, observation, and simple decision-making\n#   Good for: General purpose simulations, social interactions\n#\n# - basic_with_plan.build_agent()\n#   Agent with planning capabilities and goal-oriented behavior\n#   Good for: Task-oriented scenarios, project simulations\n#\n# - minimal.build_agent()\n#   Lightweight agent with minimal components\n#   Good for: Large-scale simulations, background characters\n#\n# - basic_scripted.build_agent()\n#   Agent that follows predefined scripts and behaviors\n#   Good for: NPCs, controlled scenarios, testing\n#\n# - fake_assistant_with_configurable_system_prompt.build_agent()\n#   Configurable test assistant for development\n#   Good for: Testing, debugging, development\n#\n# NEGOTIATION AGENTS (from concordia.prefabs.entity.negotiation):\n# - base_negotiator.build_agent()\n#   Basic negotiation capabilities with simple strategies\n#   Good for: Basic bargaining, simple negotiations\n#\n# - advanced_negotiator.build_agent()\n#   Sophisticated negotiation with multiple strategies, theory of mind\n#   Good for: Complex negotiations, multi-issue bargaining\n# ============================================================================\n\n# Method 1: Basic agent\nfrom concordia.prefabs.entity import basic\n\nalice = basic.build_agent(\n    name=\"Alice\",\n    model=model,\n    clock=clock,\n    backstory=\"Alice is a software engineer who loves problem-solving.\",\n    traits=[\"analytical\", \"collaborative\", \"innovative\"]\n)\n\n# Alternative entity prefab examples:\n\n# Example: Scripted agent\n# from concordia.prefabs.entity import basic_scripted\n# scripted_agent = basic_scripted.build_agent(\n#     name=\"NPC\",\n#     model=model,\n#     clock=clock,\n#     script=[\"Greet others\", \"Ask about weather\", \"Say goodbye\"]\n# )\n\n# Example: Test assistant\n# from concordia.prefabs.entity import fake_assistant_with_configurable_system_prompt\n# test_agent = fake_assistant_with_configurable_system_prompt.build_agent(\n#     name=\"TestBot\",\n#     model=model,\n#     clock=clock,\n#     system_prompt=\"You are a helpful testing assistant.\"\n# )"
  },
  {
   "cell_type": "code",
   "execution_count": null,
   "metadata": {},
   "outputs": [],
   "source": [
    "# Method 2: Agent with planning capabilities\n",
    "from concordia.prefabs.entity import basic_with_plan\n",
    "\n",
    "bob = basic_with_plan.build_agent(\n",
    "    name=\"Bob\",\n",
    "    model=model,\n",
    "    clock=clock,\n",
    "    backstory=\"Bob is a project manager focused on team coordination.\",\n",
    "    goal=\"Successfully complete the project on time.\",\n",
    "    initial_plan=\"First, assess team capabilities. Then assign tasks.\"\n",
    ")"
   ]
  },
  {
   "cell_type": "code",
   "execution_count": null,
   "metadata": {},
   "outputs": [],
   "source": [
    "# Method 3: Minimal agent (lightweight)\n",
    "from concordia.prefabs.entity import minimal\n",
    "\n",
    "charlie = minimal.build_agent(\n",
    "    name=\"Charlie\",\n",
    "    model=model,\n",
    "    clock=clock\n",
    ")\n",
    "\n",
    "# Collect all agents\n",
    "agents = [alice, bob, charlie]"
   ]
  },
  {
   "cell_type": "markdown",
   "metadata": {},
   "source": [
    "## Step 5: Create Game Master Using Prefabs\n",
    "\n",
    "Different game masters for different scenarios:"
   ]
  },
  {
   "cell_type": "code",
   "execution_count": null,
   "metadata": {},
   "outputs": [],
   "source": "# ============================================================================\n# AVAILABLE GAME MASTER PREFABS (from concordia.prefabs.game_master):\n# ============================================================================\n#\n# GENERAL PURPOSE:\n# - generic.build_game_master()\n#   Flexible, general-purpose game master for any scenario\n#   Good for: Custom simulations, prototyping, general experiments\n#\n# DIALOGUE & NARRATIVE:\n# - dialogic.build_game_master()\n#   Manages conversations and dialogue flow\n#   Good for: Social simulations, conversation studies\n#\n# - dialogic_and_dramaturgic.build_game_master()\n#   Combines dialogue with dramatic narrative elements\n#   Good for: Story-driven simulations, role-playing scenarios\n#\n# - game_theoretic_and_dramaturgic.build_game_master()\n#   Mixes game theory with narrative elements\n#   Good for: Strategic scenarios with narrative context\n#\n# RESEARCH & EXPERIMENTS:\n# - interviewer.build_game_master()\n#   Structured interview scenarios\n#   Good for: Research interviews, Q&A sessions\n#\n# - open_ended_interviewer.build_game_master()\n#   Flexible, open-ended interview format\n#   Good for: Exploratory research, unstructured interviews\n#\n# - psychology_experiment.build_game_master()\n#   Psychological experiment coordination\n#   Good for: Psychology studies, behavioral experiments\n#\n# ECONOMIC & MARKET:\n# - marketplace.build_game_master()\n#   Economic marketplace with supply/demand dynamics\n#   Good for: Trading simulations, economic experiments\n#\n# NEGOTIATION (from concordia.prefabs.game_master.negotiation):\n# - negotiation.build_game_master()\n#   Specialized negotiation management\n#   Good for: Bilateral/multilateral negotiations, bargaining\n#\n# CONTEXTUAL:\n# - situated.build_game_master()\n#   Context-aware environment management\n#   Good for: Location-based scenarios, environmental simulations\n#\n# - situated_in_time_and_place.build_game_master()\n#   Temporal and spatial context management\n#   Good for: Historical simulations, time-sensitive scenarios\n#\n# - scripted.build_game_master()\n#   Follows predefined scripts and scenarios\n#   Good for: Controlled experiments, reproducible scenarios\n# ============================================================================\n\n# Option 1: Generic game master (most flexible)\nfrom concordia.prefabs.game_master import generic\n\ngm = generic.build_game_master(\n    name=\"Project Coordinator\",\n    model=model,\n    clock=clock,\n    players=agents,\n    world_description=\"A software development team working on a new product.\",\n    objectives=[\"Complete the project\", \"Maintain team morale\", \"Stay within budget\"]\n)\n\n# Additional game master examples:\n\n# Example: Marketplace game master\n# from concordia.prefabs.game_master import marketplace\n# gm = marketplace.build_game_master(\n#     name=\"Market Manager\",\n#     model=model,\n#     clock=clock,\n#     players=agents,\n#     goods=[\"apples\", \"oranges\", \"bananas\"],\n#     initial_prices={\"apples\": 2.0, \"oranges\": 3.0, \"bananas\": 1.5},\n#     price_elasticity=0.1\n# )\n\n# Example: Psychology experiment\n# from concordia.prefabs.game_master import psychology_experiment\n# gm = psychology_experiment.build_game_master(\n#     name=\"Experiment Coordinator\",\n#     model=model,\n#     clock=clock,\n#     players=agents,\n#     experiment_type=\"trust_game\",\n#     conditions=[\"control\", \"treatment\"]\n# )\n\n# Example: Narrative-driven simulation\n# from concordia.prefabs.game_master import dialogic_and_dramaturgic\n# gm = dialogic_and_dramaturgic.build_game_master(\n#     name=\"Story Director\",\n#     model=model,\n#     clock=clock,\n#     players=agents,\n#     narrative_arc=\"hero_journey\",\n#     dramatic_tension_level=0.7\n# )"
  },
  {
   "cell_type": "code",
   "execution_count": null,
   "metadata": {},
   "outputs": [],
   "source": [
    "# Option 2: Dialogue-focused game master\n",
    "# from concordia.prefabs.game_master import dialogic\n",
    "# \n",
    "# gm = dialogic.build_game_master(\n",
    "#     name=\"Conversation Moderator\",\n",
    "#     model=model,\n",
    "#     clock=clock,\n",
    "#     players=agents,\n",
    "#     topic=\"Planning the next sprint\",\n",
    "#     conversation_style=\"structured\"\n",
    "# )"
   ]
  },
  {
   "cell_type": "code",
   "execution_count": null,
   "metadata": {},
   "outputs": [],
   "source": [
    "# Option 3: Interview game master\n",
    "# from concordia.prefabs.game_master import interviewer\n",
    "# \n",
    "# gm = interviewer.build_game_master(\n",
    "#     name=\"Research Interviewer\",\n",
    "#     model=model,\n",
    "#     clock=clock,\n",
    "#     players=agents,\n",
    "#     questions=[\n",
    "#         \"What motivates you in your work?\",\n",
    "#         \"How do you handle conflicts?\",\n",
    "#         \"What are your career goals?\"\n",
    "#     ]\n",
    "# )"
   ]
  },
  {
   "cell_type": "markdown",
   "metadata": {},
   "source": [
    "## Step 6: Create the Simulation Engine"
   ]
  },
  {
   "cell_type": "code",
   "execution_count": null,
   "metadata": {},
   "outputs": [],
   "source": [
    "# Sequential engine - agents act one at a time\n",
    "engine = sequential.SequentialEngine(\n",
    "    game_master=gm,\n",
    "    players=agents,\n",
    "    clock=clock,\n",
    "    name=\"Team Project Simulation\"\n",
    ")\n",
    "\n",
    "# Alternative: Simultaneous engine\n",
    "# from concordia.environment.engines import simultaneous\n",
    "# engine = simultaneous.SimultaneousEngine(\n",
    "#     game_master=gm,\n",
    "#     players=agents,\n",
    "#     clock=clock,\n",
    "#     name=\"Team Project Simulation\"\n",
    "# )"
   ]
  },
  {
   "cell_type": "markdown",
   "metadata": {},
   "source": [
    "## Step 7: Run the Simulation"
   ]
  },
  {
   "cell_type": "code",
   "execution_count": null,
   "metadata": {},
   "outputs": [],
   "source": [
    "# Run for a specific number of steps\n",
    "num_steps = 5\n",
    "\n",
    "print(f\"Starting simulation: {engine.name}\")\n",
    "print(f\"Agents: {[agent.name for agent in agents]}\")\n",
    "print(f\"Time: {clock.now()}\\n\")\n",
    "\n",
    "for step in range(num_steps):\n",
    "    print(f\"\\n{'='*50}\")\n",
    "    print(f\"Step {step + 1} | Time: {clock.now()}\")\n",
    "    print('='*50)\n",
    "    \n",
    "    # Execute one simulation step\n",
    "    engine.step()\n",
    "    \n",
    "    # Display what happened\n",
    "    for agent in agents:\n",
    "        # Get agent's last action\n",
    "        action = agent.get_last_action()\n",
    "        if action:\n",
    "            print(f\"\\n{agent.name}: {action}\")\n",
    "    \n",
    "    # Advance time\n",
    "    clock.advance()\n",
    "\n",
    "print(\"\\n\" + \"=\"*50)\n",
    "print(\"Simulation complete!\")"
   ]
  },
  {
   "cell_type": "markdown",
   "metadata": {},
   "source": [
    "## Step 8: Analyze Results"
   ]
  },
  {
   "cell_type": "code",
   "execution_count": null,
   "metadata": {},
   "outputs": [],
   "source": [
    "# Get memories from agents\n",
    "for agent in agents:\n",
    "    print(f\"\\n{agent.name}'s memories:\")\n",
    "    memories = agent.get_memories(n=3)  # Get last 3 memories\n",
    "    for memory in memories:\n",
    "        print(f\"  - {memory}\")"
   ]
  },
  {
   "cell_type": "code",
   "execution_count": null,
   "metadata": {},
   "outputs": [],
   "source": [
    "# Get game state summary\n",
    "game_state = gm.get_state_summary()\n",
    "print(\"\\nFinal game state:\")\n",
    "print(game_state)"
   ]
  },
  {
   "cell_type": "markdown",
   "metadata": {},
   "source": [
    "## Advanced: Negotiation Simulation\n",
    "\n",
    "Using specialized negotiation prefabs:"
   ]
  },
  {
   "cell_type": "code",
   "execution_count": null,
   "metadata": {},
   "outputs": [],
   "source": "# ============================================================================\n# NEGOTIATION-SPECIFIC PREFABS:\n# ============================================================================\n#\n# NEGOTIATION AGENTS (from concordia.prefabs.entity.negotiation):\n# - base_negotiator.build_agent()\n#   Basic negotiation with simple strategies\n# - advanced_negotiator.build_agent()\n#   Advanced strategies with theory of mind, cultural adaptation\n#\n# NEGOTIATION COMPONENTS (can be added to negotiators):\n# - cultural_adaptation: Context-aware negotiation styles\n# - negotiation_strategy: Core strategy implementations\n# - strategy_evolution: Learning from past negotiations\n# - swarm_intelligence: Collective negotiation behavior\n# - temporal_strategy: Time-pressure tactics\n# - theory_of_mind: Opponent modeling\n# - uncertainty_aware: Handling incomplete information\n#\n# NEGOTIATION GAME MASTER (from concordia.prefabs.game_master.negotiation):\n# - negotiation.build_game_master()\n#   Manages bilateral/multilateral negotiations\n#\n# GM NEGOTIATION COMPONENTS:\n# - gm_cultural_awareness: Cultural context management\n# - gm_social_intelligence: Social dynamics tracking\n# - gm_temporal_dynamics: Time-based mechanics\n# - negotiation_state: State tracking\n# - negotiation_validation: Offer/agreement validation\n# ============================================================================\n\nfrom concordia.prefabs.entity.negotiation import base_negotiator\nfrom concordia.prefabs.game_master.negotiation import negotiation\n\n# Create negotiating agents\nseller = base_negotiator.build_agent(\n    name=\"Seller\",\n    model=model,\n    clock=clock,\n    role=\"seller\",\n    initial_price=1000,\n    reservation_price=800,\n    strategy=\"competitive\"\n)\n\nbuyer = base_negotiator.build_agent(\n    name=\"Buyer\",\n    model=model,\n    clock=clock,\n    role=\"buyer\",\n    initial_price=600,\n    reservation_price=900,\n    strategy=\"collaborative\"\n)\n\n# Advanced negotiator example:\n# from concordia.prefabs.entity.negotiation import advanced_negotiator\n# advanced_seller = advanced_negotiator.build_agent(\n#     name=\"Strategic Seller\",\n#     model=model,\n#     clock=clock,\n#     role=\"seller\",\n#     initial_price=1000,\n#     reservation_price=800,\n#     strategy=\"competitive\",\n#     cultural_context=\"western\",\n#     theory_of_mind_level=2,  # Can model opponent's beliefs about their beliefs\n#     temporal_awareness=True,  # Aware of deadlines and time pressure\n#     uncertainty_handling=True,  # Handles incomplete information\n#     strategy_evolution=True  # Learns from past negotiations\n# )\n\n# Create negotiation game master\nnegotiation_gm = negotiation.build_game_master(\n    name=\"Negotiation Facilitator\",\n    model=model,\n    clock=clock,\n    players=[seller, buyer],\n    negotiation_type=\"bilateral\",\n    max_rounds=10,\n    issues=[\"price\", \"delivery_date\", \"warranty\"]\n)\n\n# Multilateral negotiation example:\n# negotiation_gm = negotiation.build_game_master(\n#     name=\"Multilateral Negotiation\",\n#     model=model,\n#     clock=clock,\n#     players=[agent1, agent2, agent3, agent4],\n#     negotiation_type=\"multilateral\",\n#     max_rounds=20,\n#     issues=[\"resource_allocation\", \"timeline\", \"responsibilities\"],\n#     coalition_formation=True,  # Allow agents to form coalitions\n#     voting_mechanism=\"majority\",  # How agreements are ratified\n#     cultural_awareness=True,  # Consider cultural differences\n#     temporal_dynamics=True  # Time pressure affects strategies\n# )\n\n# Create and run negotiation\nnegotiation_engine = sequential.SequentialEngine(\n    game_master=negotiation_gm,\n    players=[seller, buyer],\n    clock=clock,\n    name=\"Price Negotiation\"\n)\n\nprint(\"Starting negotiation...\\n\")\nfor round_num in range(10):\n    negotiation_engine.step()\n    \n    if negotiation_gm.is_complete():\n        print(f\"Agreement reached in round {round_num + 1}!\")\n        print(f\"Final terms: {negotiation_gm.get_agreement()}\")\n        break\nelse:\n    print(\"No agreement reached.\")"
  }
 ],
 "metadata": {
  "kernelspec": {
   "display_name": "Python 3",
   "language": "python",
   "name": "python3"
  },
  "language_info": {
   "codemirror_mode": {
    "name": "ipython",
    "version": 3
   },
   "file_extension": ".py",
   "mimetype": "text/x-python",
   "name": "python",
   "nbconvert_exporter": "python",
   "pygments_lexer": "ipython3",
   "version": "3.10.0"
  }
 },
 "nbformat": 4,
 "nbformat_minor": 4
}