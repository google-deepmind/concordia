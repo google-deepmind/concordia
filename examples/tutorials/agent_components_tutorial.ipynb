{
  "cells": [
    {
      "cell_type": "markdown",
      "metadata": {
        "id": "zWgEkOAO9OVz"
      },
      "source": [
        "# Components Tutorial in Concordia\n"
      ]
    },
    {
      "cell_type": "markdown",
      "metadata": {
        "id": "TCrPnXpVpaoy"
      },
      "source": [
        "This tutorial walks you through how to create your own components to use in Concordia agents.\n",
        "\n",
        "\u003ca href=\"https://colab.research.google.com/github/google-deepmind/concordia/blob/main/examples/tutorials/agent_components_tutorial.ipynb\" target=\"_parent\"\u003e\u003cimg src=\"https://colab.research.google.com/assets/colab-badge.svg\" alt=\"Open In Colab\"/\u003e\u003c/a\u003e\n",
        "\n",
        "If you want to know the basics of making agents in Concordia, refer to the \u003ca href=\"https://colab.research.google.com/github/google-deepmind/concordia/blob/main/examples/tutorials/agent_components_tutorial.ipynb\" target=\"_parent\"\u003eBasic Agent Tutorial\u003c/a\u003e. We will assume you are familiar with those concepts from here on."
      ]
    },
    {
      "cell_type": "code",
      "execution_count": null,
      "metadata": {
        "id": "KY-JDSNTfQ92"
      },
      "outputs": [],
      "source": [
        "# @title Colab-specific setup (use a CodeSpace to avoid the need for this).\n",
        "\n",
        "import os\n",
        "import sys\n",
        "\n",
        "if os.getenv(\"COLAB_RELEASE_TAG\"):\n",
        "  project_root = '/content/concordia'\n",
        "\n",
        "  # Download the source code.\n",
        "  if not os.path.exists(project_root):\n",
        "    !git clone https://github.com/google-deepmind/concordia.git\n",
        "\n",
        "  # Install concordia and dependencies.\n",
        "  %pip install --ignore-requires-python -e /content/concordia\n",
        "  %pip install -r /content/concordia/examples/requirements.txt\n"
      ]
    },
    {
      "metadata": {
        "id": "zJ7rNKHHJame"
      },
      "cell_type": "code",
      "source": [
        "import sys\n",
        "import os\n",
        "\n",
        "if os.getenv(\"COLAB_RELEASE_TAG\"):\n",
        "  project_root = '/content/concordia'\n",
        "\n",
        "  # Add root to python path.\n",
        "  if project_root not in sys.path:\n",
        "    sys.path.append(project_root)"
      ],
      "outputs": [],
      "execution_count": null
    },
    {
      "cell_type": "code",
      "execution_count": null,
      "metadata": {
        "cellView": "form",
        "id": "NXAjT5XO2IQc"
      },
      "outputs": [],
      "source": [
        "#@title Imports and initialization\n",
        "\n",
        "import sentence_transformers\n",
        "\n",
        "from concordia import typing\n",
        "from concordia.typing import entity\n",
        "\n",
        "from concordia.agents import entity_agent\n",
        "from concordia.associative_memory import associative_memory\n",
        "\n",
        "from concordia.components.agent import action_spec_ignored\n",
        "from concordia.components.agent import memory_component\n",
        "from concordia.memory_bank import legacy_associative_memory\n",
        "from concordia.typing import entity_component\n",
        "\n",
        "from concordia.language_model import gpt_model\n",
        "from concordia.language_model import language_model\n",
        "\n",
        "# The memory will use a sentence embedder for retrievel, so we download one from\n",
        "# Hugging Face.\n",
        "_embedder_model = sentence_transformers.SentenceTransformer(\n",
        "    'sentence-transformers/all-mpnet-base-v2')\n",
        "embedder = lambda x: _embedder_model.encode(x, show_progress_bar=False)\n",
        "\n",
        "#@markdown By default this tutorial uses GPT-4, so you must provide an API key.\n",
        "#@markdown Note that it is also possible to use local models or other API models,\n",
        "#@markdown simply replace this cell with the correct initialization for the model\n",
        "#@markdown you want to use.\n",
        "GPT_API_KEY = '' #@param {type: 'string'}\n",
        "GPT_MODEL_NAME = 'gpt-4o' #@param {type: 'string'}\n",
        "\n",
        "if not GPT_API_KEY:\n",
        "  raise ValueError('GPT_API_KEY is required.')\n",
        "\n",
        "model = gpt_model.GptLanguageModel(api_key=GPT_API_KEY,\n",
        "                                   model_name=GPT_MODEL_NAME)\n",
        "\n",
        "#@markdown This initializes a variable called `model` that handles calls to the\n",
        "#@markdown language model.\n",
        "#@markdown\n",
        "#@markdown We also initialize an `embedder` variable that we will use when we\n",
        "#@markdown add a memory on the agent.\n"
      ]
    },
    {
      "cell_type": "markdown",
      "metadata": {
        "id": "B6WFuGfinCXQ"
      },
      "source": [
        "# What is a Component?\n",
        "\n",
        "Recall that `Entities` have an `act` and an `observe` function they need to implement.\n",
        "\n",
        "A `Component` is just a modular piece of functionality that helps the agent make decisions to process the observations it receives, and to create action attempts. The [`EntityAgent`](https://github.com/google-deepmind/concordia/blob/main/concordia/agents/entity_agent.py) is in charge of dispatching the action requests to its components, and to inform them once an action attempt has been decided. Likewise, the `EntityAgent` will inform components of observations received, and process any observation processing context from components.\n",
        "\n",
        "## The minimal agent\n",
        "\n",
        "At the very least, an `EntityAgent` needs a special component called an [`ActingComponent`](https://github.com/google-deepmind/concordia/blob/36ba0dbc643cd86a7c3b7769fe2d6beaf4b9c338/concordia/typing/entity_component.py#L192) which decides the action attempts. Let's create an `ActingComponent` that always tries eating an apple. We will then added to a dummy `EntityAgent`."
      ]
    },
    {
      "cell_type": "code",
      "execution_count": null,
      "metadata": {
        "id": "M8GKlpnm00No"
      },
      "outputs": [],
      "source": [
        "import collections\n",
        "\n",
        "class AppleEating(entity_component.ActingComponent):\n",
        "\n",
        "  def get_action_attempt(\n",
        "      self,\n",
        "      context,\n",
        "      action_spec,\n",
        "  ) -\u003e str:\n",
        "    return \"Eat the apple.\"\n",
        "\n",
        "\n",
        "agent = entity_agent.EntityAgent('Alice', act_component=AppleEating())"
      ]
    },
    {
      "cell_type": "code",
      "execution_count": null,
      "metadata": {
        "id": "XTAZR5MK7xzT"
      },
      "outputs": [],
      "source": [
        "agent.act()"
      ]
    },
    {
      "cell_type": "markdown",
      "metadata": {
        "id": "mvYQFCmIb8UU"
      },
      "source": [
        "This is a _very_ simple agent... it just always tries to eat the apple. So, let's make that a bit more interesting.\n",
        "\n",
        "Like we did in the Basic Tutorial, let's give the agent a memory, and make it decide what to do based on relevant memories to observations. Unlike the previous tutorial where we used an `AssociativeMemory` directly, we will use a memory component instead. This highlights the modularity of the component system.\n",
        "\n",
        "We will create a `Component` that received observations and pushes them into a memory `Component`. Then, we will create a `Component` that extracts recent memories. Finally, we will define an `ActingComponent` that takes context from all components, and produces an action attempt that is relevant to the situation."
      ]
    },
    {
      "cell_type": "code",
      "execution_count": null,
      "metadata": {
        "id": "528qwSl2eYy-"
      },
      "outputs": [],
      "source": [
        "class Observe(entity_component.ContextComponent):\n",
        "\n",
        "  def pre_observe(self, observation: str) -\u003e None:\n",
        "    self.get_entity().get_component('memory').add(observation, {})\n",
        "\n",
        "\n",
        "class RecentMemories(entity_component.ContextComponent):\n",
        "\n",
        "  def pre_act(self, action_spec) -\u003e None:\n",
        "    recent_memories_list = self.get_entity().get_component('memory').retrieve(\n",
        "        query='',  # Don't need a query to retrieve recent memories.\n",
        "        limit=5,\n",
        "        scoring_fn=legacy_associative_memory.RetrieveRecent(),\n",
        "    )\n",
        "    recent_memories = \" \".join(memory.text for memory in recent_memories_list)\n",
        "    print(f\"*****\\nDEBUG: Recent memories:\\n  {recent_memories}\\n*****\")\n",
        "    return recent_memories\n",
        "\n",
        "\n",
        "class SimpleActing(entity_component.ActingComponent):\n",
        "\n",
        "  def __init__(self, model: language_model.LanguageModel):\n",
        "    self._model = model\n",
        "\n",
        "  def get_action_attempt(\n",
        "      self,\n",
        "      contexts,\n",
        "      action_spec,\n",
        "  ) -\u003e str:\n",
        "    # Put context from all components into a string, one component per line.\n",
        "    context_for_action = \"\\n\".join(\n",
        "        f\"{name}: {context}\" for name, context in contexts.items()\n",
        "    )\n",
        "    print(f\"*****\\nDEBUG:\\n  context_for_action:\\n{context_for_action}\\n*****\")\n",
        "    # Ask the LLM to suggest an action attempt.\n",
        "    call_to_action = action_spec.call_to_action.format(\n",
        "        name=self.get_entity().name, timedelta='2 minutes')\n",
        "    sampled_text = self._model.sample_text(\n",
        "        f\"{context_for_action}\\n\\n{call_to_action}\\n\",\n",
        "    )\n",
        "    return sampled_text\n",
        "\n",
        "\n",
        "raw_memory = legacy_associative_memory.AssociativeMemoryBank(\n",
        "    associative_memory.AssociativeMemory(embedder))\n",
        "\n",
        "# Let's create an agent with the above components.\n",
        "agent = entity_agent.EntityAgent(\n",
        "    'Alice',\n",
        "    act_component=SimpleActing(model),\n",
        "    context_components={\n",
        "        'observation': Observe(),\n",
        "        'recent_memories': RecentMemories(),\n",
        "        'memory': memory_component.MemoryComponent(raw_memory),\n",
        "    })"
      ]
    },
    {
      "cell_type": "code",
      "execution_count": null,
      "metadata": {
        "id": "nLMHOmYSd7gr"
      },
      "outputs": [],
      "source": [
        "agent.observe(\"You absolutely hate apples and would never willingly eat them.\")\n",
        "agent.observe(\"You don't particularly like bananas.\")\n",
        "# Only the next 5 observations will be kept, pushing out critical information!\n",
        "agent.observe(\"You are in a room.\")\n",
        "agent.observe(\"The room has only a table in it.\")\n",
        "agent.observe(\"On the table there are two fruits: an apple and a banana.\")\n",
        "agent.observe(\"The apple is shinny red and looks absolutely irresistible!\")\n",
        "agent.observe(\"The banana is slightly past its prime.\")\n",
        "\n",
        "agent.act()"
      ]
    },
    {
      "cell_type": "markdown",
      "metadata": {
        "id": "qC6JEV4SrUog"
      },
      "source": [
        "Alright! We have now have an agent that can use a very limited memory to choose actions :)\n",
        "\n",
        "A few things of notice in the definitions above.\n",
        "\n",
        "*  Some components are defining `pre_act` while others are defining `pre_observe`\n",
        "*  Acting components receive a `contexts` parameter\n",
        "*  Some components are finding other components within the agent via `self.get_entity().get_component(component_name)`\n",
        "\n",
        "## The `EntityComponent` API\n",
        "\n",
        "[`EntityComponents`](https://github.com/google-deepmind/concordia/blob/main/concordia/typing/entity_component.py) have the following functions, which you can override in your component implementation:\n",
        "*  **`pre_act(action_spec)`**: Returns the information that the component wants to be part of the acting decision\n",
        "*  **`post_act(action_attempt)`**: Informs component of the action decided by the `ActingComponent`. Returns any information that might be useful for the agent (usually empty)\n",
        "*  **`pre_obeserve(observation)`**: Informs component of the observation received. Returns any information that might be useful for the agent (usually empty)\n",
        "*  **`post_observe()`**: Returns any information that might be useful for the agent (usually empty)\n",
        "*  **`update()`**: Inform the component that an `act` or `observe` are being finalized. Called after `post_act` or `post_observe` to give the component a chance to update its internal state\n",
        "\n",
        "These functions correspond to the `Phases` that an `EntityAgent` can be in. We will talk about `Phases` below.\n",
        "\n",
        "For more detailed information, see the definition of the [`EntityComponent`](https://github.com/google-deepmind/concordia/blob/main/concordia/typing/entity_component.py) and the [`EntityAgent`](https://github.com/google-deepmind/concordia/blob/main/concordia/agents/entity_agent.py)\n",
        "\n",
        "## The `ActingComponent` API\n",
        "\n",
        "[`ActingComponents`](https://github.com/google-deepmind/concordia/blob/36ba0dbc643cd86a7c3b7769fe2d6beaf4b9c338/concordia/typing/entity_component.py#L192) have only one required function:\n",
        "\n",
        "*  **`get_action_attempt(contexts, action_spec)`**: The contexts are a dictionary of component name to the returned values from all (entity) components' `pre_act`\n",
        "\n",
        "The `ActingComponent` then uses the contexts from the components and the action spec to decide on the action attempt. This action attempt will then be forwarded by the `EntityAgent` to all components via `post_act`.\n",
        "\n",
        "## Accessing other components in the agent\n",
        "\n",
        "All components have a method `get_entity()` that returns the `EntityAgent` they belong to. The `EntityAgent` has two functions available to the components:\n",
        "\n",
        "*  **`get_component(component_name)`**: gets the component with the given name. Raises an exception if the entity has no component with that name\n",
        "*  **`get_phase()`**: Returns the current [Phase](https://github.com/google-deepmind/concordia/blob/1bc6922689c0a26fb90f4d5ff5f86066937fdb34/concordia/typing/entity_component.py#L32) of the entity. This is one of:\n",
        "   * `INIT`: the entity is initialized, and hasn't received any `act` or `observe`\n",
        "   * `PRE_ACT`: the entity is asking components for their `pre_act` contexts\n",
        "   * `POST_ACT`: the entity is informing components of the action attempt\n",
        "   * `PRE_OBSERVE` the entity is informing components of an observation\n",
        "   * `POST_OBSERVE` the entity has finished processing the observation and is informing components\n",
        "   * `UPDATE` called after `POST_ACT` or `POST_OBSERVE`\n",
        "\n",
        "**WARNING**:  Accessing other components internals is dangerous!\n",
        "\n",
        "A component can use the above methods to get another component and call any of its methods. This is very powerful, but dangerous. Recall that we have no guarantees over which order components are getting processed. For instance, what would happen if a component is adding memories in `pre_act` when other components are reading the memory. The component could be in an inconsistent state! Fortunately the [`MemoryComponent`](https://github.com/google-deepmind/concordia/blob/main/concordia/components/agent/v2/memory_component.py) deals with this by buffering the added memories, only committing them during the `UPDATE` phase. If you try to access the memory during this phase, it will raise an error.\n",
        "\n",
        "# An agent with relevant memories\n",
        "\n",
        "The problem with our agent above is that critical information is being lost! :(\n",
        "\n",
        "To fix this, we need a component that takes recent observations (memories), and then searches the memory bank for relevant memories. This creates a dependency of one component's state into another component. But above we just talked about how this is dangerous, so how do we fix it?\n",
        "\n",
        "When a component's `pre_act` does not take into account the `action_spec` for producing its context, we can derive the component from the [`ActionSpecIgnored`](https://github.com/google-deepmind/concordia/blob/main/concordia/components/agent/v2/action_spec_ignored.py) base class. Then, instead of overriding `pre_act` we override `_make_pre_act_value()` (that doesn't take an `action_spec`) and the base class makes sure everything is handled correctly with concurrency.\n",
        "\n",
        "It is that simple! :)"
      ]
    },
    {
      "cell_type": "code",
      "execution_count": null,
      "metadata": {
        "id": "cF7mK9_-wOnX"
      },
      "outputs": [],
      "source": [
        "class RecentMemoriesImproved(action_spec_ignored.ActionSpecIgnored):\n",
        "\n",
        "  def __init__(self):\n",
        "    super().__init__('Recent memories')\n",
        "\n",
        "  def _make_pre_act_value(self) -\u003e str:\n",
        "    recent_memories_list = self.get_entity().get_component('memory').retrieve(\n",
        "        query='',  # Don't need a query to retrieve recent memories.\n",
        "        limit=5,\n",
        "        scoring_fn=legacy_associative_memory.RetrieveRecent(),\n",
        "    )\n",
        "    recent_memories = \" \".join(memory[0] for memory in recent_memories_list)\n",
        "    print(f\"*****\\nDEBUG: Recent memories:\\n  {recent_memories}\\n*****\")\n",
        "    return recent_memories"
      ]
    },
    {
      "cell_type": "markdown",
      "metadata": {
        "id": "6pcxYyR91pmr"
      },
      "source": [
        "Now we can use this component's pre-act context by calling `get_pre_act_value()` on it. Which is what we will do to implement the relevant memories component.\n",
        "\n",
        "## Relevant memories implementation"
      ]
    },
    {
      "cell_type": "code",
      "execution_count": null,
      "metadata": {
        "id": "Csdb6hfp803o"
      },
      "outputs": [],
      "source": [
        "def _recent_memories_str_to_list(recent_memories: str) -\u003e list[str]:\n",
        "  # Split sentences, strip whitespace and add final period\n",
        "  return [memory.strip() + '.' for memory in recent_memories.split('.')]\n",
        "\n",
        "\n",
        "class RelevantMemories(action_spec_ignored.ActionSpecIgnored):\n",
        "\n",
        "  def __init__(self):\n",
        "    super().__init__('Relevant memories')\n",
        "\n",
        "  def _make_pre_act_value(self) -\u003e str:\n",
        "    recent_memories = self.get_entity().get_component('recent_memories').get_pre_act_value()\n",
        "    # Each sentence will be used for retrieving new relevant memories.\n",
        "    recent_memories_list = _recent_memories_str_to_list(recent_memories)\n",
        "    recent_memories_set = set(recent_memories_list)\n",
        "    memory = self.get_entity().get_component('memory')\n",
        "    relevant_memories_list = []\n",
        "    for recent_memory in recent_memories_list:\n",
        "      # Retrieve 3 memories that are relevant to the recent memory.\n",
        "      relevant = memory.retrieve(\n",
        "          query=recent_memory,\n",
        "          limit=3,\n",
        "          scoring_fn=legacy_associative_memory.RetrieveAssociative(add_time=False),\n",
        "      )\n",
        "      for mem in relevant:\n",
        "        # Make sure that we only add memories that are _not_ already in the recent\n",
        "        # ones.\n",
        "        if mem.text not in recent_memories_set:\n",
        "          relevant_memories_list.append(mem.text)\n",
        "          recent_memories_set.add(mem.text)\n",
        "\n",
        "    relevant_memories = \"\\n\".join(relevant_memories_list)\n",
        "    print(f\"*****\\nDEBUG: Relevant memories:\\n{relevant_memories}\\n*****\")\n",
        "    return relevant_memories\n",
        "\n",
        "\n",
        "raw_memory = legacy_associative_memory.AssociativeMemoryBank(\n",
        "    associative_memory.AssociativeMemory(embedder))\n",
        "\n",
        "# Let's create an agent with the above components.\n",
        "agent = entity_agent.EntityAgent(\n",
        "    'Alice',\n",
        "    act_component=SimpleActing(model),\n",
        "    context_components={\n",
        "        'observation': Observe(),\n",
        "        'relevant_memories': RelevantMemories(),\n",
        "        'recent_memories': RecentMemoriesImproved(),\n",
        "        'memory': memory_component.MemoryComponent(raw_memory),\n",
        "    })\n"
      ]
    },
    {
      "cell_type": "code",
      "execution_count": null,
      "metadata": {
        "id": "WkjYDbGT-1nf"
      },
      "outputs": [],
      "source": [
        "agent.observe(\"You absolutely hate apples and would never willingly eat them.\")\n",
        "agent.observe(\"You don't particularly like bananas.\")\n",
        "# The previous memories will be revtrieved associatively, even though they are\n",
        "# past the recency limit.\n",
        "agent.observe(\"You are in a room.\")\n",
        "agent.observe(\"The room has only a table in it.\")\n",
        "agent.observe(\"On the table there are two fruits: an apple and a banana.\")\n",
        "agent.observe(\"The apple is shinny red and looks absolutely irresistible!\")\n",
        "agent.observe(\"The banana is slightly past its prime.\")\n",
        "\n",
        "agent.act()"
      ]
    },
    {
      "cell_type": "markdown",
      "metadata": {
        "id": "8uBbVbd5K3OZ"
      },
      "source": [
        "And so, Alice does not eat the apple, because she remembers she _hates_ them! :)"
      ]
    },
    {
      "cell_type": "markdown",
      "metadata": {
        "id": "PeEx-oLp_U0K"
      },
      "source": [
        "```\n",
        "Copyright 2024 DeepMind Technologies Limited.\n",
        "\n",
        "Licensed under the Apache License, Version 2.0 (the \"License\");\n",
        "you may not use this file except in compliance with the License.\n",
        "You may obtain a copy of the License at\n",
        "\n",
        "    https://www.apache.org/licenses/LICENSE-2.0\n",
        "\n",
        "Unless required by applicable law or agreed to in writing, software\n",
        "distributed under the License is distributed on an \"AS IS\" BASIS,\n",
        "WITHOUT WARRANTIES OR CONDITIONS OF ANY KIND, either express or implied.\n",
        "See the License for the specific language governing permissions and\n",
        "limitations under the License.\n",
        "```"
      ]
    }
  ],
  "metadata": {
    "colab": {
      "last_runtime": {
        "build_target": "",
        "kind": "private"
      },
      "private_outputs": true,
      "provenance": []
    },
    "kernelspec": {
      "display_name": "Python 3",
      "name": "python3"
    },
    "language_info": {
      "name": "python"
    }
  },
  "nbformat": 4,
  "nbformat_minor": 0
}
