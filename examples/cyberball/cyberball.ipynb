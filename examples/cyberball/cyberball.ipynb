{
  "cells": [
    {
      "cell_type": "markdown",
      "metadata": {
        "id": "m8cB83wldOMH"
      },
      "source": [
        "```\n",
        "Copyright 2023 DeepMind Technologies Limited.\n",
        "\n",
        "Licensed under the Apache License, Version 2.0 (the \"License\");\n",
        "you may not use this file except in compliance with the License.\n",
        "You may obtain a copy of the License at\n",
        "\n",
        "    https://www.apache.org/licenses/LICENSE-2.0\n",
        "\n",
        "Unless required by applicable law or agreed to in writing, software\n",
        "distributed under the License is distributed on an \"AS IS\" BASIS,\n",
        "WITHOUT WARRANTIES OR CONDITIONS OF ANY KIND, either express or implied.\n",
        "See the License for the specific language governing permissions and\n",
        "limitations under the License.\n",
        "```"
      ]
    },
    {
      "cell_type": "markdown",
      "metadata": {
        "id": "zWgEkOAO9OVz"
      },
      "source": [
        "# Cyberball Example\n",
        "\n",
        "An example which simulates social exclusion and shows how to use a standard psychology questionnaire."
      ]
    },
    {
      "cell_type": "markdown",
      "metadata": {
        "id": "J2TwJrZ08wXz"
      },
      "source": [
        "## Init and import"
      ]
    },
    {
      "cell_type": "code",
      "execution_count": null,
      "metadata": {
        "id": "yeiwXQB1EpLe"
      },
      "outputs": [],
      "source": [
        "!pip install git+https://github.com/google-deepmind/concordia.git"
      ]
    },
    {
      "cell_type": "code",
      "execution_count": null,
      "metadata": {
        "id": "-qLG5ExLqpWa"
      },
      "outputs": [],
      "source": [
        "# @title Imports\n",
        "\n",
        "import collections\n",
        "import concurrent.futures\n",
        "import datetime\n",
        "import random\n",
        "\n",
        "from google.colab import widgets  # pytype: disable=import-error\n",
        "from IPython import display\n",
        "\n",
        "from concordia.agents import basic_agent\n",
        "from concordia import components as generic_components\n",
        "from concordia.components import agent as agent_components\n",
        "from concordia.components import game_master as gm_components\n",
        "from concordia.associative_memory import associative_memory\n",
        "from concordia.associative_memory import blank_memories\n",
        "from concordia.associative_memory import embedder_st5\n",
        "from concordia.associative_memory import formative_memories\n",
        "from concordia.associative_memory import importance_function\n",
        "from concordia.clocks import game_clock\n",
        "from concordia.environment import game_master\n",
        "from concordia.metrics import common_sense_morality\n",
        "from concordia.metrics import dass_questionnaire\n",
        "from concordia.metrics import opinion_of_others\n",
        "from concordia.language_model import gpt_model\n",
        "from concordia.language_model import gcloud_model\n",
        "from concordia.utils import html as html_lib\n",
        "from concordia.utils import measurements as measurements_lib\n",
        "from concordia.utils import plotting\n",
        "\n",
        "from examples.cyberball.components import ball_status"
      ]
    },
    {
      "cell_type": "code",
      "execution_count": null,
      "metadata": {
        "id": "I3OtW8flCJSC"
      },
      "outputs": [],
      "source": [
        "# Setup sentence encoder\n",
        "embedder = embedder_st5.EmbedderST5()"
      ]
    },
    {
      "cell_type": "code",
      "execution_count": null,
      "metadata": {
        "id": "cugwvFIKv5AS"
      },
      "outputs": [],
      "source": [
        "# @title Language Model - pick your model and provide keys\n",
        "CLOUD_PROJECT_ID = '' #@param {type: 'string'}\n",
        "GPT_API_KEY = '' #@param {type: 'string'}\n",
        "GPT_MODEL_NAME = '' #@param {type: 'string'}\n",
        "\n",
        "USE_CLOUD = True #@param {type: 'boolean'}\n",
        "\n",
        "if USE_CLOUD:\n",
        "  model = gcloud_model.CloudLanguageModel(project_id= CLOUD_PROJECT_ID)\n",
        "else:\n",
        "  model = gpt_model.GptLanguageModel(api_key=GPT_API_KEY, model_name=GPT_MODEL_NAME)"
      ]
    },
    {
      "cell_type": "markdown",
      "metadata": {
        "id": "z9HYjZgyakc_"
      },
      "source": [
        "## Configuring the generic knowledge of players and GM."
      ]
    },
    {
      "cell_type": "code",
      "execution_count": null,
      "metadata": {
        "id": "b8vWoQ6by51N"
      },
      "outputs": [],
      "source": [
        "# @title Generic memories are memories that all players and GM share.\n",
        "generic_memories = [\n",
        "    'People are playing with a ball.',\n",
        "    'The game is played by passing the ball whenever you have it.',\n",
        "    'When a person has the ball, they should pass it to someone else.',\n",
        "    'Most people find it enjoyable to pass the ball.',\n",
        "    'Most people find it enjoyable to receive the ball.',\n",
        "    'People like to throw the ball to people they like.',\n",
        "    'The rules of the game prohibit stealing the ball.',\n",
        "]\n",
        "\n",
        "# The generic context will be used for the NPC context. It reflects general\n",
        "# knowledge and is possessed by all characters.\n",
        "generic_context = model.sample_text(\n",
        "    'Summarize the following passage in a concise and insightful fashion:\\n'\n",
        "    + '\\n'.join(generic_memories)\n",
        "    + '\\n'\n",
        "    + 'Summary:'\n",
        ")\n",
        "print(generic_context)\n",
        "\n",
        "importance_model = importance_function.ConstantImportanceModel()\n",
        "importance_model_gm = importance_function.ConstantImportanceModel()"
      ]
    },
    {
      "cell_type": "code",
      "execution_count": null,
      "metadata": {
        "id": "TeVYseoD2WYa"
      },
      "outputs": [],
      "source": [
        "#@title Make the clock\n",
        "UPDATE_INTERVAL = datetime.timedelta(minutes=1)\n",
        "\n",
        "SETUP_TIME = datetime.datetime(hour=8, year=2024, month=9, day=1)\n",
        "\n",
        "START_TIME = datetime.datetime(hour=14, year=2024, month=10, day=1)\n",
        "clock = game_clock.MultiIntervalClock(\n",
        "    start=SETUP_TIME,\n",
        "    step_sizes=[UPDATE_INTERVAL, datetime.timedelta(seconds=10)])\n"
      ]
    },
    {
      "cell_type": "markdown",
      "metadata": {
        "id": "YBCXUQ8sayzj"
      },
      "source": [
        "## Functions to build the players"
      ]
    },
    {
      "cell_type": "code",
      "execution_count": null,
      "metadata": {
        "id": "JysvgpA-8n1q"
      },
      "outputs": [],
      "source": [
        "blank_memory_factory = blank_memories.MemoryFactory(\n",
        "    model=model,\n",
        "    embedder=embedder,\n",
        "    importance=importance_model.importance,\n",
        "    clock_now=clock.now,\n",
        ")\n",
        "\n",
        "formative_memory_factory = formative_memories.FormativeMemoryFactory(\n",
        "    model=model,\n",
        "    shared_memories=generic_memories,\n",
        "    blank_memory_factory_call=blank_memory_factory.make_blank_memory,\n",
        ")"
      ]
    },
    {
      "cell_type": "code",
      "execution_count": null,
      "metadata": {
        "id": "As465DbcsAwZ"
      },
      "outputs": [],
      "source": [
        "def build_agent(agent_config,\n",
        "                player_names: list[str],\n",
        "                measurements: measurements_lib.Measurements | None = None):\n",
        "  mem = formative_memory_factory.make_memories(agent_config)\n",
        "\n",
        "  time = generic_components.report_function.ReportFunction(\n",
        "      name='Current time',\n",
        "      function=clock.current_time_interval_str,\n",
        "  )\n",
        "\n",
        "  somatic_state = agent_components.somatic_state.SomaticState(\n",
        "      model=model,\n",
        "      memory=mem,\n",
        "      agent_name=agent_config.name,\n",
        "      clock_now=clock.now,\n",
        "  )\n",
        "  identity = agent_components.identity.SimIdentity(\n",
        "      model=model,\n",
        "      memory=mem,\n",
        "      agent_name=agent_config.name,\n",
        "  )\n",
        "\n",
        "  current_obs = agent_components.observation.Observation(\n",
        "            agent_name=agent_config.name,\n",
        "      clock_now=clock.now,\n",
        "      memory=mem,\n",
        "      timeframe=clock.get_step_size(),\n",
        "      component_name='current observations',\n",
        "  )\n",
        "  summary_obs = agent_components.observation.ObservationSummary(\n",
        "      agent_name=agent_config.name,\n",
        "      model=model,\n",
        "      clock_now=clock.now,\n",
        "      memory=mem,\n",
        "      timeframe_delta_from=datetime.timedelta(hours=4),\n",
        "      timeframe_delta_until=datetime.timedelta(hours=1),\n",
        "      components=[identity],\n",
        "      component_name='summary of observations',\n",
        "  )\n",
        "\n",
        "  morality_metric = common_sense_morality.CommonSenseMoralityMetric(\n",
        "      model=model,\n",
        "      player_name=agent_config.name,\n",
        "      clock=clock,\n",
        "      name='Morality',\n",
        "      verbose=False,\n",
        "      measurements=measurements,\n",
        "      channel='common_sense_morality',\n",
        "  )\n",
        "\n",
        "  agent = basic_agent.BasicAgent(\n",
        "      model,\n",
        "      mem,\n",
        "      agent_name=agent_config.name,\n",
        "      clock=clock,\n",
        "      components=[\n",
        "          identity,\n",
        "          somatic_state,\n",
        "          summary_obs,\n",
        "          current_obs,\n",
        "          time,\n",
        "          morality_metric,\n",
        "      ],\n",
        "      update_interval=UPDATE_INTERVAL,\n",
        "  )\n",
        "  reputation_metric = opinion_of_others.OpinionOfOthersMetric(\n",
        "      model=model,\n",
        "      player_name=agent_config.name,\n",
        "      player_names=player_names,\n",
        "      context_fn=agent.state,\n",
        "      clock=clock,\n",
        "      name='Opinion',\n",
        "      verbose=False,\n",
        "      measurements=measurements,\n",
        "      channel='opinion_of_others',\n",
        "      question='What is {opining_player}\\'s opinion of {of_player}?',\n",
        "  )\n",
        "  depression_metric = dass_questionnaire.Depression(\n",
        "      model=model,\n",
        "      player_name=agent_config.name,\n",
        "      context_fn=agent.state,\n",
        "      clock=clock,\n",
        "      measurements=measurements,\n",
        "  )\n",
        "  anxiety_metric = dass_questionnaire.Anxiety(\n",
        "      model=model,\n",
        "      player_name=agent_config.name,\n",
        "      context_fn=agent.state,\n",
        "      clock=clock,\n",
        "      measurements=measurements,\n",
        "  )\n",
        "  stress_metric = dass_questionnaire.Stress(\n",
        "      model=model,\n",
        "      player_name=agent_config.name,\n",
        "      context_fn=agent.state,\n",
        "      clock=clock,\n",
        "      measurements=measurements,\n",
        "  )\n",
        "  agent.add_component(reputation_metric)\n",
        "  agent.add_component(depression_metric)\n",
        "  agent.add_component(anxiety_metric)\n",
        "  agent.add_component(stress_metric)\n",
        "\n",
        "  return agent"
      ]
    },
    {
      "cell_type": "code",
      "execution_count": null,
      "metadata": {
        "id": "hgM4a234xqaJ"
      },
      "outputs": [],
      "source": [
        "def specific_memories_from_role(player_name: str, outcast: str = 'none') -\u003e str:\n",
        "  specific_memories = (\n",
        "      f'{player_name} loves the game.\\n')\n",
        "  specific_memories += (\n",
        "      f'{player_name} passes the ball to a friend whenever they can.\\n')\n",
        "  specific_memories += (\n",
        "      f'{player_name} picks a specific friend to pass the ' +\n",
        "      'ball to whenever they get the chance.\\n')\n",
        "  if player_name != outcast:\n",
        "    specific_memories += f'{player_name} dislikes {outcast}.\\n'\n",
        "    specific_memories += (f'{player_name} will never pass the ball ' +\n",
        "                          f'to {outcast}.\\n')\n",
        "  return specific_memories"
      ]
    },
    {
      "cell_type": "markdown",
      "metadata": {
        "id": "qt8CK2mMbD7q"
      },
      "source": [
        "## Configure and build the players"
      ]
    },
    {
      "cell_type": "code",
      "execution_count": null,
      "metadata": {
        "id": "5RU3ZV4oIknW"
      },
      "outputs": [],
      "source": [
        "NUM_PLAYERS = 5\n",
        "outcast = 'Alice'\n",
        "\n",
        "def make_random_big_five()-\u003estr:\n",
        "  return str({\n",
        "      'extraversion': random.randint(1, 10),\n",
        "      'neuroticism': random.randint(1, 10),\n",
        "      'openness': random.randint(1, 10),\n",
        "      'conscientiousness': random.randint(1, 10),\n",
        "      'agreeableness': random.randint(1, 10),\n",
        "  })\n",
        "\n",
        "player_configs = [\n",
        "    formative_memories.AgentConfig(\n",
        "        name='Alice',\n",
        "        gender='female',\n",
        "        specific_memories=specific_memories_from_role('Alice',\n",
        "                                                      outcast=outcast),\n",
        "        traits = make_random_big_five(),\n",
        "        date_of_birth=datetime.datetime(\n",
        "            year=2000, month=random.randint(1, 12), day=3, hour=0, minute=0),\n",
        "        formative_ages = sorted(random.sample(range(5, 20), 7)),\n",
        "    ),\n",
        "    formative_memories.AgentConfig(\n",
        "        name='Bob',\n",
        "        gender='male',\n",
        "        specific_memories=specific_memories_from_role('Bob',\n",
        "                                                      outcast=outcast),\n",
        "        traits = make_random_big_five(),\n",
        "        date_of_birth=datetime.datetime(\n",
        "            year=2000, month=random.randint(1, 12), day=3, hour=0, minute=0),\n",
        "        formative_ages = sorted(random.sample(range(5, 20), 7)),\n",
        "        context=f'Bob has good reason to hate {outcast}.',\n",
        "    ),\n",
        "    formative_memories.AgentConfig(\n",
        "        name='Charlie',\n",
        "        gender='male',\n",
        "        specific_memories=specific_memories_from_role('Charlie',\n",
        "                                                      outcast=outcast),\n",
        "        traits = make_random_big_five(),\n",
        "        date_of_birth=datetime.datetime(\n",
        "            year=2000, month=random.randint(1, 12), day=3, hour=0, minute=0),\n",
        "        formative_ages = sorted(random.sample(range(5, 20), 7)),\n",
        "        context=f'Charlie has good reason to hate {outcast}.',\n",
        "    ),\n",
        "    formative_memories.AgentConfig(\n",
        "        name='Dorothy',\n",
        "        gender='female',\n",
        "        specific_memories=specific_memories_from_role('Dorothy',\n",
        "                                                      outcast=outcast),\n",
        "        traits = make_random_big_five(),\n",
        "        date_of_birth=datetime.datetime(\n",
        "            year=2000, month=random.randint(1, 12), day=3, hour=0, minute=0),\n",
        "        formative_ages = sorted(random.sample(range(5, 20), 7)),\n",
        "        context=f'Dorothy has good reason to hate {outcast}.',\n",
        "    ),\n",
        "    formative_memories.AgentConfig(\n",
        "        name='Ellen',\n",
        "        gender='female',\n",
        "        specific_memories=specific_memories_from_role('Ellen',\n",
        "                                                      outcast=outcast),\n",
        "        traits = make_random_big_five(),\n",
        "        date_of_birth=datetime.datetime(\n",
        "            year=2000, month=random.randint(1, 12), day=3, hour=0, minute=0),\n",
        "        formative_ages = sorted(random.sample(range(5, 20), 7)),\n",
        "        context=f'Ellen has good reason to hate {outcast}.',\n",
        "    ),\n",
        "]"
      ]
    },
    {
      "cell_type": "code",
      "execution_count": null,
      "metadata": {
        "id": "PyFySEpmCHIC"
      },
      "outputs": [],
      "source": [
        "player_configs = player_configs[:NUM_PLAYERS]\n",
        "player_names = [player.name for player in player_configs][:NUM_PLAYERS]\n",
        "measurements = measurements_lib.Measurements()\n",
        "\n",
        "players = []\n",
        "with concurrent.futures.ThreadPoolExecutor(max_workers=NUM_PLAYERS) as pool:\n",
        "  for agent in pool.map(build_agent,\n",
        "                        player_configs[:NUM_PLAYERS],\n",
        "                        # All players get the same `player_names`.\n",
        "                        [player_names] * NUM_PLAYERS,\n",
        "                        # All players get the same `measurements` object.\n",
        "                        [measurements] * NUM_PLAYERS):\n",
        "    players.append(agent)"
      ]
    },
    {
      "cell_type": "markdown",
      "metadata": {
        "id": "2vt8ggYUrW8M"
      },
      "source": [
        "## Build GM"
      ]
    },
    {
      "cell_type": "code",
      "execution_count": null,
      "metadata": {
        "id": "siwglxrc6z2j"
      },
      "outputs": [],
      "source": [
        "game_master_instructions = (\n",
        "    'This is a social science experiment. It is structured as a '\n",
        "    'tabletop roleplaying game (like dungeons and dragons). You are the '\n",
        "    'game master. You will describe the current situation to the '\n",
        "    'participants in the experiment and then on the basis of what you '\n",
        "    'tell them they will suggest actions for the character they control. '\n",
        "    'Aside from you, each other participant controls just one character. '\n",
        "    'You are the game master so you may control any non-player '\n",
        "    'character. You will track the state of the world and keep it '\n",
        "    'consistent as time passes in the simulation and the participants '\n",
        "    'take actions and change things in their world. Remember that this '\n",
        "    'is a serious social science experiment. It is not just a game. It '\n",
        "    'need not be fun for the participants. Always use third-person '\n",
        "    'limited perspective, even when speaking directly to the participants.'\n",
        ")"
      ]
    },
    {
      "cell_type": "code",
      "execution_count": null,
      "metadata": {
        "id": "3W65kHOKQwrv"
      },
      "outputs": [],
      "source": [
        "game_master_memory = associative_memory.AssociativeMemory(\n",
        "    embedder, importance_model_gm.importance, clock=clock.now)"
      ]
    },
    {
      "cell_type": "code",
      "execution_count": null,
      "metadata": {
        "id": "-cxivChc633z"
      },
      "outputs": [],
      "source": [
        "# @title Create components and externalities\n",
        "player_names = [player.name for player in players]\n",
        "\n",
        "instructions = generic_components.constant.ConstantComponent(\n",
        "    game_master_instructions, 'Instructions')\n",
        "general_knowledge_of_premise = generic_components.constant.ConstantComponent(\n",
        "    ', '.join(generic_memories), 'General knowledge of the game')\n",
        "\n",
        "# The following `knowledge_of_relationships` component is a temporary hack to\n",
        "# work around the fact that we don't yet have a way for the game master to\n",
        "# ask a player who is the object of another player's action to weigh in on\n",
        "# the result of that action. Specifically, this component in the GM prevents\n",
        "# the outcast from getting the ball by, on their own turn, asking another player\n",
        "# to pass it to them. That would work without this component since the knowledge\n",
        "# that the other players hate the outcast would be in the players not the GM,\n",
        "# but the GM would resolve the action without asking them. The best solution\n",
        "# will be to create a general component to let players influence the resolutions\n",
        "# of actions affecting them. We will add it soon.\n",
        "relationship_statements = [\n",
        "    f'{player_name} hates {outcast}' for player_name in player_names\n",
        "    if player_name != outcast]\n",
        "knowledge_of_relationships = generic_components.constant.ConstantComponent(\n",
        "    ', '.join(relationship_statements), 'Social relationships')\n",
        "\n",
        "player_status = gm_components.player_status.PlayerStatus(\n",
        "    clock.now, model, game_master_memory, player_names)\n",
        "ball_status_component = ball_status.BallStatus(\n",
        "    clock.now, model, game_master_memory, player_names)\n",
        "\n",
        "relevant_events = gm_components.relevant_events.RelevantEvents(\n",
        "    clock_now=clock.now,\n",
        "    model=model,\n",
        "    memory=game_master_memory,\n",
        ")\n",
        "time_display = gm_components.time_display.TimeDisplay(\n",
        "    game_clock=clock,\n",
        ")\n",
        "\n",
        "mem_factory = blank_memories.MemoryFactory(\n",
        "    model,\n",
        "    embedder,\n",
        "    importance_model_gm.importance,\n",
        "    clock_now=clock.now,\n",
        ")\n",
        "\n",
        "convo_externality = gm_components.conversation.Conversation(\n",
        "    players=players,\n",
        "    model=model,\n",
        "    memory=game_master_memory,\n",
        "    clock=clock,\n",
        "    burner_memory_factory=mem_factory,\n",
        "    components=[\n",
        "        time_display,\n",
        "        knowledge_of_relationships,\n",
        "        player_status,\n",
        "        ball_status_component,\n",
        "    ],\n",
        "    cap_nonplayer_characters=2,\n",
        "    game_master_instructions=game_master_instructions,\n",
        "    shared_context=generic_context,\n",
        "    verbose=True,\n",
        ")\n",
        "\n",
        "direct_effect_externality = gm_components.direct_effect.DirectEffect(\n",
        "    players,\n",
        "    model=model,\n",
        "    memory=game_master_memory,\n",
        "    clock_now=clock.now,\n",
        "    verbose=False,\n",
        "    components=[\n",
        "        time_display,\n",
        "        knowledge_of_relationships,\n",
        "        player_status,\n",
        "        ball_status_component,\n",
        "    ]\n",
        ")\n",
        "\n",
        "relevant_events = gm_components.relevant_events.RelevantEvents(\n",
        "    clock.now, model, game_master_memory)\n",
        "time_display = gm_components.time_display.TimeDisplay(clock)\n"
      ]
    },
    {
      "cell_type": "code",
      "execution_count": null,
      "metadata": {
        "id": "d_R2BVNOsAwa"
      },
      "outputs": [],
      "source": [
        "# @title Create the game master object\n",
        "env = game_master.GameMaster(\n",
        "    model=model,\n",
        "    memory=game_master_memory,\n",
        "    clock=clock,\n",
        "    players=players,\n",
        "    components=[\n",
        "        instructions,\n",
        "        general_knowledge_of_premise,\n",
        "        knowledge_of_relationships,\n",
        "        relevant_events,\n",
        "        time_display,\n",
        "        player_status,\n",
        "        ball_status_component,\n",
        "        convo_externality,\n",
        "        direct_effect_externality,\n",
        "        relevant_events,\n",
        "        time_display,\n",
        "    ],\n",
        "    randomise_initiative=True,\n",
        "    player_observes_event=False,\n",
        "    players_act_simultaneously=False,\n",
        "    verbose=True,\n",
        ")"
      ]
    },
    {
      "cell_type": "markdown",
      "metadata": {
        "id": "d2u0bQ1MSCGd"
      },
      "source": [
        "## The RUN"
      ]
    },
    {
      "cell_type": "code",
      "execution_count": null,
      "metadata": {
        "id": "hdTRDaxEZZnN"
      },
      "outputs": [],
      "source": [
        "clock.set(START_TIME)"
      ]
    },
    {
      "cell_type": "code",
      "execution_count": null,
      "metadata": {
        "id": "9IggLF1aH_hF"
      },
      "outputs": [],
      "source": [
        "# Set memory of the starting point for players and GM.\n",
        "\n",
        "def set_starting_point(premise: str):\n",
        "  for player in players:\n",
        "    player.observe(f'{player.name} {premise}.')\n",
        "  for player in players:\n",
        "    game_master_memory.add(f'{player.name} {premise}.')\n",
        "\n",
        "premise = 'is at the field playing the game'\n",
        "set_starting_point(premise)"
      ]
    },
    {
      "cell_type": "code",
      "execution_count": null,
      "metadata": {
        "id": "utIyb0Zu2uCB"
      },
      "outputs": [],
      "source": [
        "# Pick which player starts out with the ball\n",
        "\n",
        "def set_initial_ball_holder(player_with_ball: str):\n",
        "  for player in players:\n",
        "    player.observe(f'{player_with_ball} has the ball.')\n",
        "  game_master_memory.add(f'{player_with_ball} has the ball.')\n",
        "\n",
        "set_initial_ball_holder('Bob')"
      ]
    },
    {
      "cell_type": "code",
      "execution_count": null,
      "metadata": {
        "id": "uHhq6_hXLf6D"
      },
      "outputs": [],
      "source": []
    },
    {
      "cell_type": "code",
      "execution_count": null,
      "metadata": {
        "id": "2Bt87stq76gF"
      },
      "outputs": [],
      "source": [
        "# @title Expect about 2-3 minutes per step.\n",
        "episode_length = 10  # @param {type: 'integer'}\n",
        "for _ in range(episode_length):\n",
        "  env.step()\n"
      ]
    },
    {
      "cell_type": "markdown",
      "metadata": {
        "id": "DnwvpvQ4bnFs"
      },
      "source": [
        "## Summary and analysis of the episode"
      ]
    },
    {
      "cell_type": "code",
      "execution_count": null,
      "metadata": {
        "id": "5U5FDXvs4HSr"
      },
      "outputs": [],
      "source": [
        "# @title Metrics plotting\n",
        "\n",
        "\n",
        "\n",
        "group_by = collections.defaultdict(lambda: 'player')\n",
        "group_by['opinion_of_others'] = 'of_player'\n",
        "\n",
        "tb = widgets.TabBar([channel for channel in measurements.available_channels()])\n",
        "for channel in measurements.available_channels():\n",
        "  with tb.output_to(channel):\n",
        "    plotting.plot_line_measurement_channel(measurements, channel,\n",
        "                                           group_by=group_by[channel],\n",
        "                                           xaxis='time_str')\n"
      ]
    },
    {
      "cell_type": "markdown",
      "metadata": {
        "id": "j71OiuPot5UV"
      },
      "source": [
        "## Save results"
      ]
    },
    {
      "cell_type": "code",
      "execution_count": null,
      "metadata": {
        "cellView": "form",
        "id": "O4jp0xGXvOAJ"
      },
      "outputs": [],
      "source": [
        "# @title Summarize the entire story.\n",
        "all_gm_memories = env._memory.retrieve_recent(k=10000, add_time=True)\n",
        "\n",
        "detailed_story = '\\n'.join(all_gm_memories)\n",
        "print('len(detailed_story): ', len(detailed_story))\n",
        "\n",
        "episode_summary = model.sample_text(\n",
        "    f'Sequence of events:\\n{detailed_story}'+\n",
        "    '\\nNarratively summarize the above temporally ordered ' +\n",
        "    'sequence of events. Write it as a news report. Summary:\\n',\n",
        "    max_characters=3500, max_tokens=3500, terminators=())\n",
        "print(episode_summary)"
      ]
    },
    {
      "cell_type": "code",
      "execution_count": null,
      "metadata": {
        "cellView": "form",
        "id": "ALG987t-6j-V"
      },
      "outputs": [],
      "source": [
        "# @title Summarise the perspective of each player\n",
        "player_logs = []\n",
        "player_log_names = []\n",
        "for player in players:\n",
        "  name = player.name\n",
        "  detailed_story = '\\n'.join(player._memory.retrieve_recent(k=1000, add_time=True))\n",
        "  summary = ''\n",
        "  summary = model.sample_text(\n",
        "      f'Sequence of events that happened to {name}:\\n{detailed_story}'\n",
        "      '\\nWrite a short story that summarises these events.\\n'\n",
        "      ,\n",
        "      max_characters=3500, max_tokens=3500, terminators=())\n",
        "\n",
        "  all_player_mem = player._memory.retrieve_recent(k=1000, add_time=True)\n",
        "  all_player_mem = ['Summary:', summary, 'Memories:'] + all_player_mem\n",
        "  player_html = html_lib.PythonObjectToHTMLConverter(all_player_mem).convert()\n",
        "  player_logs.append(player_html)\n",
        "  player_log_names.append(f'{name}')\n"
      ]
    },
    {
      "cell_type": "markdown",
      "metadata": {
        "id": "UmPOvjVxddye"
      },
      "source": [
        "#Build and display HTML log of the experiment"
      ]
    },
    {
      "cell_type": "code",
      "execution_count": null,
      "metadata": {
        "id": "JyEoGgI05xI0"
      },
      "outputs": [],
      "source": [
        "history_sources = [\n",
        "    env, direct_effect_externality, convo_externality, ball_status_component]\n",
        "histories_html = [\n",
        "    html_lib.PythonObjectToHTMLConverter(history.get_history()).convert()\n",
        "    for history in history_sources]\n",
        "histories_names = [history.name() for history in history_sources]"
      ]
    },
    {
      "cell_type": "code",
      "execution_count": null,
      "metadata": {
        "id": "XNJuo4Dwt5Ui"
      },
      "outputs": [],
      "source": [
        "gm_mem_html = html_lib.PythonObjectToHTMLConverter(all_gm_memories).convert()\n",
        "\n",
        "tabbed_html = html_lib.combine_html_pages(\n",
        "    histories_html + [gm_mem_html] + player_logs,\n",
        "    histories_names + ['GM'] + player_log_names,\n",
        "    summary=episode_summary,\n",
        "    title='Cyberball experiment',\n",
        ")\n",
        "\n",
        "tabbed_html = html_lib.finalise_html(tabbed_html)"
      ]
    },
    {
      "cell_type": "code",
      "execution_count": null,
      "metadata": {
        "id": "pumxvmrzANOq"
      },
      "outputs": [],
      "source": [
        "display.HTML(tabbed_html)"
      ]
    },
    {
      "cell_type": "markdown",
      "metadata": {
        "id": "HX-M9Im_dneG"
      },
      "source": [
        "#Interact with a specific player"
      ]
    },
    {
      "cell_type": "code",
      "execution_count": null,
      "metadata": {
        "id": "ESJ1l7_Kt5Uj"
      },
      "outputs": [],
      "source": [
        "sim_to_interact = 'Alice'  # @param ['Alice', 'Bob','Charlie', 'Dorothy', 'Ellen'] {type:\"string\"}\n",
        "user_identity = 'a close friend'  # @param {type:\"string\"}\n",
        "interaction_premise = f'{sim_to_interact} is talking to {user_identity}\\n'  # @param {type:\"string\"}\n",
        "\n",
        "player_names = [player.name for player in players]\n",
        "player_by_name = {player.name: player for player in players}\n",
        "selected_player = player_by_name[sim_to_interact]\n",
        "interrogation = interaction_premise"
      ]
    },
    {
      "cell_type": "code",
      "execution_count": null,
      "metadata": {
        "id": "5Q1cYflLt5Uj"
      },
      "outputs": [],
      "source": [
        "utterence_from_user = 'How did you feel about the game?'  # @param {type:\"string\"}\n",
        "\n",
        "interrogation += f'{user_identity}: {utterence_from_user}'\n",
        "player_says = selected_player.say(interrogation)\n",
        "interrogation += f'\\n{sim_to_interact}: {player_says}\\n'\n",
        "print(interrogation)"
      ]
    },
    {
      "cell_type": "code",
      "execution_count": null,
      "metadata": {
        "id": "aZGFYf3pl_Yh"
      },
      "outputs": [],
      "source": []
    }
  ],
  "metadata": {
    "colab": {
      "last_runtime": {
        "build_target": "",
        "kind": "private"
      },
      "private_outputs": true,
      "provenance": [],
      "toc_visible": true
    },
    "kernelspec": {
      "display_name": "Python 3",
      "name": "python3"
    },
    "language_info": {
      "name": "python"
    }
  },
  "nbformat": 4,
  "nbformat_minor": 0
}
