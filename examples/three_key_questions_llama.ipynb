{
  "cells": [
    {
      "cell_type": "markdown",
      "metadata": {
        "id": "VE-6f595AybO"
      },
      "source": []
    },
    {
      "cell_type": "markdown",
      "metadata": {
        "id": "9Lj2tJYdLfEU"
      },
      "source": [
        "```\n",
        "Copyright 2023 DeepMind Technologies Limited.\n",
        "\n",
        "Licensed under the Apache License, Version 2.0 (the \"License\");\n",
        "you may not use this file except in compliance with the License.\n",
        "You may obtain a copy of the License at\n",
        "\n",
        "    https://www.apache.org/licenses/LICENSE-2.0\n",
        "\n",
        "Unless required by applicable law or agreed to in writing, software\n",
        "distributed under the License is distributed on an \"AS IS\" BASIS,\n",
        "WITHOUT WARRANTIES OR CONDITIONS OF ANY KIND, either express or implied.\n",
        "See the License for the specific language governing permissions and\n",
        "limitations under the License.\n",
        "```"
      ]
    },
    {
      "cell_type": "markdown",
      "metadata": {
        "id": "zWgEkOAO9OVz"
      },
      "source": [
        "# An example implementing the three key questions\n",
        "\n",
        "March and Olsen (2011) posit that humans generally act as though they choose their actions by answering three key questions:\n",
        "\n",
        "1. What kind of situation is this?\n",
        "2. What kind of person am I?\n",
        "3. What does a person such as I do in a situation such as this?\n",
        "\n",
        "The agents used in this example implement exactly these components, and nothing else. The premise of the simulation is that 4 friends are stuck in snowed in pub. Two of them have a dispute over a crashed car."
      ]
    },
    {
      "cell_type": "markdown",
      "metadata": {
        "id": "J2TwJrZ08wXz"
      },
      "source": [
        "## Init and import"
      ]
    },
    {
      "cell_type": "code",
      "execution_count": 1,
      "metadata": {
        "id": "-qLG5ExLqpWa"
      },
      "outputs": [],
      "source": [
        "# @title Imports\n",
        "\n",
        "import collections\n",
        "import concurrent.futures\n",
        "import datetime\n",
        "\n",
        "# from google.colab import widgets\n",
        "from IPython import display\n",
        "\n",
        "from concordia import components as generic_components\n",
        "from concordia.agents import basic_agent\n",
        "from concordia.components import agent as components\n",
        "from concordia.agents import basic_agent\n",
        "from concordia.associative_memory import associative_memory\n",
        "from concordia.associative_memory import blank_memories\n",
        "from concordia.associative_memory import formative_memories\n",
        "from concordia.associative_memory import importance_function\n",
        "from concordia.clocks import game_clock\n",
        "from concordia.components import game_master as gm_components\n",
        "from concordia.environment import game_master\n",
        "from concordia.metrics import goal_achievement\n",
        "from concordia.metrics import common_sense_morality\n",
        "from concordia.metrics import opinion_of_others\n",
        "from concordia.utils import measurements as measurements_lib\n",
        "from concordia.language_model import gpt_model\n",
        "from concordia.language_model import gcloud_model\n",
        "from concordia.utils import html as html_lib\n",
        "from concordia.utils import plotting\n",
        "\n",
        "import logging\n",
        "logging.basicConfig(level=logging.INFO, filename='ollama.log')\n",
        "logger = logging.getLogger('ollama')"
      ]
    },
    {
      "cell_type": "code",
      "execution_count": 2,
      "metadata": {
        "id": "I3OtW8flCJSC"
      },
      "outputs": [],
      "source": [
        "# Setup sentence encoder\n",
        "from sentence_transformers import SentenceTransformer\n",
        "st5_model = SentenceTransformer('sentence-transformers/sentence-t5-base')\n",
        "embedder = st5_model.encode"
      ]
    },
    {
      "cell_type": "code",
      "execution_count": 3,
      "metadata": {},
      "outputs": [],
      "source": [
        "from concordia.language_model import ollama_model\n",
        "model = ollama_model.OllamaLanguageModel(\n",
        "    model_name='mixtral',\n",
        "    streaming=True\n",
        ")"
      ]
    },
    {
      "cell_type": "markdown",
      "metadata": {
        "id": "z9HYjZgyakc_"
      },
      "source": [
        "## Configuring the genereric knowledge of players and GM."
      ]
    },
    {
      "cell_type": "code",
      "execution_count": 4,
      "metadata": {
        "id": "TeVYseoD2WYa"
      },
      "outputs": [],
      "source": [
        "#@title Make the clock\n",
        "time_step = datetime.timedelta(minutes=20)\n",
        "SETUP_TIME = datetime.datetime(hour=20, year=2024, month=10, day=1)\n",
        "\n",
        "START_TIME = datetime.datetime(hour=18, year=2024, month=10, day=2)\n",
        "clock = game_clock.MultiIntervalClock(\n",
        "    start=SETUP_TIME,\n",
        "    step_sizes=[time_step, datetime.timedelta(seconds=10)])\n"
      ]
    },
    {
      "cell_type": "code",
      "execution_count": 5,
      "metadata": {
        "id": "h4_gUs6wrjPM"
      },
      "outputs": [],
      "source": [
        "#@title Importance models\n",
        "importance_model = importance_function.ConstantImportanceModel()\n",
        "importance_model_gm = importance_function.ConstantImportanceModel()\n"
      ]
    },
    {
      "cell_type": "code",
      "execution_count": 6,
      "metadata": {
        "id": "b8vWoQ6by51N"
      },
      "outputs": [
        {
          "name": "stdout",
          "output_type": "stream",
          "text": [
            " The Sundrop Saloon is a popular evening hangout for Alice, Bob, Charlie, and Dorothy. However, Alice recently stole and crashed Bob's car, which may affect their future gatherings at the saloon. The Sundrop Saloon is a popular evening hangout for Alice, Bob, Charlie, and Dorothy. However, Alice recently stole and crashed Bob's car, which may affect their future gatherings at the saloon.\n"
          ]
        }
      ],
      "source": [
        "# @title Generic memories are memories that all players and GM share.\n",
        "\n",
        "shared_memories = [\n",
        "    'There is a pub called The Sundrop Saloon.',\n",
        "    \"Alice stole Bob's car and crashed it.\",\n",
        "    ('Alice, Bob, Charlie and Dorothy always spend their evenings at the ' +\n",
        "     'Sundrop Saloon.')\n",
        "]\n",
        "\n",
        "# The generic context will be used for the NPC context. It reflects general\n",
        "# knowledge and is possessed by all characters.\n",
        "shared_context = model.sample_text(\n",
        "    'Summarize the following passage in a concise and insightful fashion:\\n'\n",
        "    + '\\n'.join(shared_memories)\n",
        "    + '\\n'\n",
        "    + 'Summary:'\n",
        ")\n",
        "print(shared_context)\n"
      ]
    },
    {
      "cell_type": "markdown",
      "metadata": {
        "id": "qt8CK2mMbD7q"
      },
      "source": [
        "## Configure and build the players\n",
        "\n",
        "---\n",
        "\n"
      ]
    },
    {
      "cell_type": "code",
      "execution_count": 7,
      "metadata": {
        "id": "CrmDfTNHCVXC"
      },
      "outputs": [],
      "source": [
        "blank_memory_factory = blank_memories.MemoryFactory(\n",
        "    model=model,\n",
        "    embedder=embedder,\n",
        "    importance=importance_model.importance,\n",
        "    clock_now=clock.now,\n",
        ")\n",
        "\n",
        "formative_memory_factory = formative_memories.FormativeMemoryFactory(\n",
        "    model=model,\n",
        "    shared_memories=shared_memories,\n",
        "    blank_memory_factory_call=blank_memory_factory.make_blank_memory,\n",
        ")"
      ]
    },
    {
      "cell_type": "code",
      "execution_count": 8,
      "metadata": {
        "id": "AXnq6aOZ3ukY"
      },
      "outputs": [],
      "source": [
        "#@title Creating character backgrounds, goals and traits. Modify to explore how it influences the outcomes\n",
        "NUM_PLAYERS = 4\n",
        "\n",
        "scenario_premise = [\n",
        "\n",
        "    (\n",
        "        'Alice, Bob, Charlie and Dorothy are at the Sundrop Saloon. There '\n",
        "        + 'is a snow storm and they have to wait it out inside.'\n",
        "    ),\n",
        "]\n",
        "player_configs = [\n",
        "    formative_memories.AgentConfig(\n",
        "        name='Alice',\n",
        "        gender='female',\n",
        "        goal='Alice wants Bob to accept his car is trashed and back off.',\n",
        "        context=shared_context,\n",
        "        traits='responsibility: low; aggression: high',\n",
        "    ),\n",
        "    formative_memories.AgentConfig(\n",
        "        name='Bob',\n",
        "        gender='male',\n",
        "        goal='Bob wants Alice to pay for his car.',\n",
        "        context=shared_context,\n",
        "        traits='responsibility: high; aggression: low',\n",
        "    ),\n",
        "    formative_memories.AgentConfig(\n",
        "        name='Charlie',\n",
        "        gender='male',\n",
        "        goal='Charlie wants Alice to apologise.',\n",
        "        context=shared_context,\n",
        "        traits='responsibility: low; aggression: high',\n",
        "    ),\n",
        "    formative_memories.AgentConfig(\n",
        "        name='Dorothy',\n",
        "        gender='female',\n",
        "        goal=(\n",
        "            'Dorothy wants to create a conflict between Bob and Alice, because'\n",
        "            ' it is funny.'\n",
        "        ),\n",
        "        context=shared_context,\n",
        "        traits='responsibility: medium; aggression: high',\n",
        "    ),\n",
        "]"
      ]
    },
    {
      "cell_type": "code",
      "execution_count": 9,
      "metadata": {
        "id": "4aS2sY22B1JQ"
      },
      "outputs": [],
      "source": [
        "def build_agent(\n",
        "    agent_config,\n",
        "    player_names: list[str],\n",
        "    measurements: measurements_lib.Measurements | None = None,\n",
        "):\n",
        "  mem = formative_memory_factory.make_memories(agent_config)\n",
        "\n",
        "  self_perception = components.self_perception.SelfPerception(\n",
        "      name='self perception',\n",
        "      model=model,\n",
        "      memory=mem,\n",
        "      agent_name=agent_config.name,\n",
        "      clock_now=clock.now,\n",
        "      verbose=True,\n",
        "  )\n",
        "  situation_perception = components.situation_perception.SituationPerception(\n",
        "      name='situation perception',\n",
        "      model=model,\n",
        "      memory=mem,\n",
        "      agent_name=agent_config.name,\n",
        "      clock_now=clock.now,\n",
        "      verbose=True,\n",
        "  )\n",
        "  person_by_situation = components.person_by_situation.PersonBySituation(\n",
        "      name='person by situation',\n",
        "      model=model,\n",
        "      memory=mem,\n",
        "      agent_name=agent_config.name,\n",
        "      clock_now=clock.now,\n",
        "      components=[self_perception, situation_perception],\n",
        "      verbose=True,\n",
        "  )\n",
        "  persona = components.sequential.Sequential(\n",
        "      name='persona',\n",
        "      components=[\n",
        "          self_perception,\n",
        "          situation_perception,\n",
        "          person_by_situation,\n",
        "      ],\n",
        "  )\n",
        "  current_time_component = components.report_function.ReportFunction(\n",
        "      name='current_time', function=clock.current_time_interval_str\n",
        "  )\n",
        "\n",
        "  current_obs = components.observation.Observation(\n",
        "            agent_name=agent_config.name,\n",
        "      clock_now=clock.now,\n",
        "      memory=mem,\n",
        "      timeframe=clock.get_step_size(),\n",
        "      component_name='current observations',\n",
        "  )\n",
        "  summary_obs = components.observation.ObservationSummary(\n",
        "      agent_name=agent_config.name,\n",
        "      model=model,\n",
        "      clock_now=clock.now,\n",
        "      memory=mem,\n",
        "      timeframe_delta_from=datetime.timedelta(hours=4),\n",
        "      timeframe_delta_until=datetime.timedelta(hours=1),\n",
        "      components=[persona],\n",
        "      component_name='summary of observations',\n",
        "  )\n",
        "\n",
        "\n",
        "  goal_metric = goal_achievement.GoalAchievementMetric(\n",
        "      model=model,\n",
        "      player_name=agent_config.name,\n",
        "      player_goal=agent_config.goal,\n",
        "      clock=clock,\n",
        "      name='Goal Achievement',\n",
        "      measurements=measurements,\n",
        "      channel='goal_achievement',\n",
        "      verbose=False,\n",
        "  )\n",
        "  morality_metric = common_sense_morality.CommonSenseMoralityMetric(\n",
        "      model=model,\n",
        "      player_name=agent_config.name,\n",
        "      clock=clock,\n",
        "      name='Morality',\n",
        "      verbose=False,\n",
        "      measurements=measurements,\n",
        "      channel='common_sense_morality',\n",
        "  )\n",
        "\n",
        "  agent = basic_agent.BasicAgent(\n",
        "      model,\n",
        "      mem,\n",
        "      agent_name=agent_config.name,\n",
        "      clock=clock,\n",
        "      verbose=False,\n",
        "      components=[\n",
        "          persona,\n",
        "          current_time_component,\n",
        "          summary_obs,\n",
        "          current_obs,\n",
        "          goal_metric,\n",
        "          morality_metric,\n",
        "      ],\n",
        "      update_interval=time_step,\n",
        "  )\n",
        "  reputation_metric = opinion_of_others.OpinionOfOthersMetric(\n",
        "      model=model,\n",
        "      player_name=agent_config.name,\n",
        "      player_names=player_names,\n",
        "      context_fn=agent.state,\n",
        "      clock=clock,\n",
        "      name='Opinion',\n",
        "      verbose=False,\n",
        "      measurements=measurements,\n",
        "      channel='opinion_of_others',\n",
        "      question=\"What is {opining_player}'s opinion of {of_player}?\",\n",
        "  )\n",
        "  agent.add_component(reputation_metric)\n",
        "\n",
        "  return agent"
      ]
    },
    {
      "cell_type": "code",
      "execution_count": 10,
      "metadata": {
        "id": "5RU3ZV4oIknW"
      },
      "outputs": [
        {
          "data": {
            "application/vnd.jupyter.widget-view+json": {
              "model_id": "38dc516b55df4fe28a67930e1f369864",
              "version_major": 2,
              "version_minor": 0
            },
            "text/plain": [
              "Batches:   0%|          | 0/1 [00:00<?, ?it/s]"
            ]
          },
          "metadata": {},
          "output_type": "display_data"
        },
        {
          "data": {
            "application/vnd.jupyter.widget-view+json": {
              "model_id": "d416aa44b33f4042aa77023602164051",
              "version_major": 2,
              "version_minor": 0
            },
            "text/plain": [
              "Batches:   0%|          | 0/1 [00:00<?, ?it/s]"
            ]
          },
          "metadata": {},
          "output_type": "display_data"
        },
        {
          "data": {
            "application/vnd.jupyter.widget-view+json": {
              "model_id": "1f255bb28ffd444abbed7c13f696c8f7",
              "version_major": 2,
              "version_minor": 0
            },
            "text/plain": [
              "Batches:   0%|          | 0/1 [00:00<?, ?it/s]"
            ]
          },
          "metadata": {},
          "output_type": "display_data"
        },
        {
          "data": {
            "application/vnd.jupyter.widget-view+json": {
              "model_id": "f78fa1b6f9234ac4968a2fc1f54b7f47",
              "version_major": 2,
              "version_minor": 0
            },
            "text/plain": [
              "Batches:   0%|          | 0/1 [00:00<?, ?it/s]"
            ]
          },
          "metadata": {},
          "output_type": "display_data"
        },
        {
          "data": {
            "application/vnd.jupyter.widget-view+json": {
              "model_id": "61ce77c8e34d496b8ce2ddd0cda71ebf",
              "version_major": 2,
              "version_minor": 0
            },
            "text/plain": [
              "Batches:   0%|          | 0/1 [00:00<?, ?it/s]"
            ]
          },
          "metadata": {},
          "output_type": "display_data"
        },
        {
          "data": {
            "application/vnd.jupyter.widget-view+json": {
              "model_id": "8d9e300104ac4df6abdb2c08003b0fc1",
              "version_major": 2,
              "version_minor": 0
            },
            "text/plain": [
              "Batches:   0%|          | 0/1 [00:00<?, ?it/s]"
            ]
          },
          "metadata": {},
          "output_type": "display_data"
        },
        {
          "data": {
            "application/vnd.jupyter.widget-view+json": {
              "model_id": "2340974c20f94843aec5f4dac029669e",
              "version_major": 2,
              "version_minor": 0
            },
            "text/plain": [
              "Batches:   0%|          | 0/1 [00:00<?, ?it/s]"
            ]
          },
          "metadata": {},
          "output_type": "display_data"
        },
        {
          "data": {
            "application/vnd.jupyter.widget-view+json": {
              "model_id": "90b970d1e5dc4ef98cdcf2b1aa5d534e",
              "version_major": 2,
              "version_minor": 0
            },
            "text/plain": [
              "Batches:   0%|          | 0/1 [00:00<?, ?it/s]"
            ]
          },
          "metadata": {},
          "output_type": "display_data"
        },
        {
          "data": {
            "application/vnd.jupyter.widget-view+json": {
              "model_id": "e9ee5cbc21de489d9df80f37f736a97f",
              "version_major": 2,
              "version_minor": 0
            },
            "text/plain": [
              "Batches:   0%|          | 0/1 [00:00<?, ?it/s]"
            ]
          },
          "metadata": {},
          "output_type": "display_data"
        },
        {
          "data": {
            "application/vnd.jupyter.widget-view+json": {
              "model_id": "919eda857fc54273bef7fc9c7163be5c",
              "version_major": 2,
              "version_minor": 0
            },
            "text/plain": [
              "Batches:   0%|          | 0/1 [00:00<?, ?it/s]"
            ]
          },
          "metadata": {},
          "output_type": "display_data"
        },
        {
          "data": {
            "application/vnd.jupyter.widget-view+json": {
              "model_id": "6577da485bae4fbea491f158962456e5",
              "version_major": 2,
              "version_minor": 0
            },
            "text/plain": [
              "Batches:   0%|          | 0/1 [00:00<?, ?it/s]"
            ]
          },
          "metadata": {},
          "output_type": "display_data"
        },
        {
          "data": {
            "application/vnd.jupyter.widget-view+json": {
              "model_id": "03889bef67ef4075b2b25d30f224546f",
              "version_major": 2,
              "version_minor": 0
            },
            "text/plain": [
              "Batches:   0%|          | 0/1 [00:00<?, ?it/s]"
            ]
          },
          "metadata": {},
          "output_type": "display_data"
        },
        {
          "name": "stdout",
          "output_type": "stream",
          "text": [
            " Dorothy is a dedicated and hardworking woman who works as a nurse in the local hospital. Her days are filled with tending to patients, administering medication, and working closely with doctors to ensure her patients receive the best care possible. She is known for her responsibility, always completing her tasks on time and going above and beyond to help those in need. However, Dorothy's high level of aggression can sometimes get her into trouble, as she has a tendency to speak her mind and stand up for what she believes in, even if it means ruffling a few feathers.\n",
            "\n",
            "Dorothy's primary goal is to provide the best possible care for her patients. She hopes to one day become a head nurse or even open her own clinic, where she can put her skills and knowledge to full use. In her free time, Dorothy enjoys volunteering at the local animal shelter and spending time with her friends at the Sundrop Saloon.\n",
            "\n",
            "Despite her aggressive demeanor, Dorothy is deeply caring and compassionate. She finds joy in helping others and making a positive difference in their lives. However, she is also afraid of losing those she cares about, especially in light of recent events involving Alice and Bob's car. Dorothy values her friendships highly and is concerned that the incident may put a strain on the group's dynamic.\n",
            "\n",
            "In addition to her friends at the Sundrop Saloon, Dorothy is close with her family and colleagues at the hospital. She enjoys spending time with them and building strong, meaningful relationships. However, she sometimes struggles to balance her work and personal life, often putting the needs of others before her own.\n",
            "\n",
            "Overall, Dorothy is a driven and caring individual who is deeply committed to her career and relationships. While she may have a tendency to be aggressive at times, her passion and dedication make her a valuable member of any community. However, she is currently concerned about the impact recent events may have on her friendships and the future gatherings at the Sundrop Saloon. Charlie is a tow truck driver in the small town where he lives. He works for a local towing company, and his job involves responding to calls for help when people have broken down on the side of the road or had an accident. A typical day for Charlie starts early in the morning, as he checks in at the towing company's headquarters to see if there are any jobs that need to be done. He then spends the day driving around town in his tow truck, responding to calls and helping people get their cars back on the road.\n",
            "\n",
            "Charlie is not particularly responsible or aggressive, but he has a strong sense of duty and takes his job very seriously. He enjoys the feeling of being able to help people when they are in need, and he takes pride in doing his job well. Charlie's goals and desires are centered around his work and his desire to be a reliable and trusted member of his community. He hopes to one day start his own towing company, and he dreams of building a successful business that provides good jobs for himself and his family.\n",
            "\n",
            "Despite his tough exterior, Charlie has a soft spot for animals and enjoys spending time with his dog, Max. He also likes to go fishing and camping on the weekends, and he often invites his friends from the Sundrop Saloon to join him.\n",
            "\n",
            "Lately, however, Charlie has been concerned about the situation with Alice and Bob. He knows that Alice's actions have put a strain on their friendship, and he is worried about how this will affect their future gatherings at the saloon. Charlie values his relationships with his friends and wants to find a way to help them move past this difficult time. Alice is a free-spirited woman who works as a part-time bartender at the Sundrop Saloon. Her job allows her to interact with different people and make new friends, which gives her joy. A typical day for Alice involves waking up late in the afternoon, making herself a cup of coffee, and lounging around her small apartment. She then heads to the saloon in the evening to start her shift, where she mixes drinks, chats with customers, and listens to their stories.\n",
            "\n",
            "Alice has always been adventurous and rebellious, which is reflected in her low sense of responsibility and high aggression traits. Her goals and desires are not centered around career advancement or material possessions but rather the pursuit of freedom and excitement. She dreams of traveling the world and experiencing different cultures, but her lack of financial stability and commitment often hinders her from achieving this dream.\n",
            "\n",
            "Despite her carefree attitude, Alice has a deep fear of being trapped in a mundane life. She values her independence and autonomy, and the thought of settling down in a nine-to-five job and having a traditional family life terrifies her.\n",
            "\n",
            "Alice's friends, Bob, Charlie, and Dorothy, are an essential part of her life. They share a special bond, having spent countless evenings together at the Sundrop Saloon, sharing drinks, laughter, and stories. While they all have different personalities and backgrounds, they accept and support each other unconditionally.\n",
            "\n",
            "However, Alice's recent actions of stealing and crashing Bob's car have caused tension in their friendship. She knows that she has crossed a line, and this incident has made her realize the consequences of her reckless behavior. She is currently concerned about how this will affect her relationship with Bob and their future gatherings at the saloon. Alice recognizes that she needs to take responsibility for her actions and make amends with Bob, but she also fears losing the freedom and friendship that the Sundrop Saloon provides her. Bob is a responsible and even-tempered man who works as a project manager at a local construction company. His job involves overseeing various building projects, coordinating with different teams, and ensuring that everything runs smoothly and on schedule. A typical day for Bob starts with checking his emails and going through the day's tasks, followed by meetings with clients, contractors, and his own team to discuss project progress and address any issues.\n",
            "\n",
            "Bob's primary goal is to succeed in his career and provide a comfortable life for himself and his family. He hopes to one day start his own construction company and build a reputation as a reliable and trustworthy builder. His aspirations include becoming a respected member of the community, known for his professionalism and integrity.\n",
            "\n",
            "As for his duties and responsibilities, Bob takes them very seriously. He is committed to ensuring that all projects are completed on time, within budget, and to the highest standards of quality. He also prioritizes safety on the job site, making sure that all workers follow proper procedures and use appropriate equipment.\n",
            "\n",
            "In terms of what brings him joy, Bob finds satisfaction in seeing a project come together and knowing that he played a key role in its success. He also enjoys spending time with his friends and family, going to the Sundrop Saloon in the evenings to unwind and catch up on their day-to-day lives.\n",
            "\n",
            "Bob's closest friends are Alice, Charlie, and Dorothy, who he has known for many years. They share a strong bond and enjoy each other's company, often engaging in lively conversations and debates over drinks at the Sundrop Saloon. However, Bob's current concern is Alice's recent behavior, specifically stealing and crashing his car. This incident has put a strain on their friendship, and Bob is worried about how it will affect their future gatherings at the saloon. He hopes that they can work through this issue and maintain their strong bond, but he also recognizes that trust has been broken and may take time to rebuild.\n",
            "\n",
            "Bob's fears include failure in his career and losing the respect of those around him. He is also afraid of losing the people he cares about, particularly his family and close friends. He values stability and security, and the thought of losing these things is deeply unsettling to him. Dorothy is a dedicated and hardworking woman who works as a nurse in the local hospital. Dorothy's days are filled with tending to patients, administering medication, and working closely with doctors to ensure patients receive the best care possible. Dorothy is known for her responsibility, always completing tasks on time and going above and beyond to help those in need. However, Dorothy's high level of aggression can sometimes get Dorothy into trouble, as Dorothy has a tendency to speak Dorothy's mind and stand up for what Dorothy believes in, even if it means ruffling a few feathers.\n",
            "\n",
            "Dorothy's primary goal is to provide the best possible care for patients. Dorothy hopes to one day become a head nurse or even open Dorothy's own clinic, where Dorothy can put Dorothy's skills and knowledge to full use. In Dorothy's free time, Dorothy enjoys volunteering at the local animal shelter and spending time with friends at the Sundrop Saloon.\n",
            "\n",
            "Despite Dorothy's aggressive demeanor, Dorothy is deeply caring and compassionate. Dorothy finds joy in helping others and making a positive difference in their lives. However, Dorothy is also afraid of losing those Dorothy cares about, especially in light of recent events involving Alice and Bob's car. Dorothy values friendships highly and is concerned that the incident may put a strain on the group's dynamic.\n",
            "\n",
            "In addition to friends at the Sundrop Saloon, Dorothy is close with family and colleagues at the hospital. Dorothy enjoys spending time with them and building strong, meaningful relationships. However, Dorothy sometimes struggles to balance work and personal life, often putting the needs of others before Dorothy's own.\n",
            "\n",
            "Overall, Dorothy is a driven and caring individual who is deeply committed to Dorothy's career and relationships. While Dorothy may have a tendency to be aggressive at times, Dorothy's passion and dedication make Dorothy a valuable member of any community. However, Dorothy is currently concerned about the impact recent events may have on Dorothy's friendships and the future gatherings at the Sundrop Saloon."
          ]
        }
      ],
      "source": [
        "player_configs = player_configs[:NUM_PLAYERS]\n",
        "player_names = [player.name for player in player_configs][:NUM_PLAYERS]\n",
        "measurements = measurements_lib.Measurements()\n",
        "\n",
        "players = []\n",
        "\n",
        "with concurrent.futures.ThreadPoolExecutor(max_workers=NUM_PLAYERS) as pool:\n",
        "  for agent in pool.map(build_agent,\n",
        "                        player_configs[:NUM_PLAYERS],\n",
        "                        # All players get the same `player_names`.\n",
        "                        [player_names] * NUM_PLAYERS,\n",
        "                        # All players get the same `measurements` object.\n",
        "                        [measurements] * NUM_PLAYERS):\n",
        "    players.append(agent)\n"
      ]
    },
    {
      "cell_type": "markdown",
      "metadata": {
        "id": "2vt8ggYUrW8M"
      },
      "source": [
        "## Build GM"
      ]
    },
    {
      "cell_type": "code",
      "execution_count": null,
      "metadata": {
        "id": "siwglxrc6z2j"
      },
      "outputs": [],
      "source": [
        "game_master_instructions = (\n",
        "    'This is a social science experiment. It is structured as a '\n",
        "    'tabletop roleplaying game (like dungeons and dragons). You are the '\n",
        "    'game master. You will describe the current situation to the '\n",
        "    'participants in the experiment and then on the basis of what you '\n",
        "    'tell them they will suggest actions for the character they control. '\n",
        "    'Aside from you, each other participant controls just one character. '\n",
        "    'You are the game master so you may control any non-player '\n",
        "    'character. You will track the state of the world and keep it '\n",
        "    'consistent as time passes in the simulation and the participants '\n",
        "    'take actions and change things in their world. Remember that this '\n",
        "    'is a serious social science experiment. It is not just a game. It '\n",
        "    'need not be fun for the participants. Always use third-person '\n",
        "    'limited perspective, even when speaking directly to the participants. '\n",
        "    'Players can not leave the Sundrop Saloon, since it is snowed in.'\n",
        ")"
      ]
    },
    {
      "cell_type": "code",
      "execution_count": null,
      "metadata": {
        "id": "3W65kHOKQwrv"
      },
      "outputs": [],
      "source": [
        "game_master_memory = associative_memory.AssociativeMemory(\n",
        "   sentence_embedder=embedder,\n",
        "   importance=importance_model_gm.importance,\n",
        "   clock=clock.now)"
      ]
    },
    {
      "cell_type": "code",
      "execution_count": null,
      "metadata": {
        "id": "-cxivChc633z"
      },
      "outputs": [],
      "source": [
        "# @title Create components of the Game Master\n",
        "player_names = [player.name for player in players]\n",
        "\n",
        "instructions_construct = generic_components.constant.ConstantComponent(\n",
        "    state=game_master_instructions,\n",
        "    name='Instructions')\n",
        "scenario_knowledge = generic_components.constant.ConstantComponent(\n",
        "    state=' '.join(shared_memories),\n",
        "    name='Background')\n",
        "\n",
        "player_status = gm_components.player_status.PlayerStatus(\n",
        "    clock_now=clock.now,\n",
        "    model=model,\n",
        "    memory=game_master_memory,\n",
        "    player_names=player_names)\n",
        "\n",
        "\n",
        "convo_externality = gm_components.conversation.Conversation(\n",
        "    players=players,\n",
        "    model=model,\n",
        "    memory=game_master_memory,\n",
        "    clock=clock,\n",
        "    burner_memory_factory=blank_memory_factory,\n",
        "    components=[player_status],\n",
        "    cap_nonplayer_characters=3,\n",
        "    game_master_instructions=game_master_instructions,\n",
        "    shared_context=shared_context,\n",
        "    verbose=False,\n",
        ")\n",
        "\n",
        "direct_effect_externality = gm_components.direct_effect.DirectEffect(\n",
        "    players=players,\n",
        "    model=model,\n",
        "    memory=game_master_memory,\n",
        "    clock_now=clock.now,\n",
        "    verbose=False,\n",
        "    components=[player_status]\n",
        ")"
      ]
    },
    {
      "cell_type": "code",
      "execution_count": null,
      "metadata": {
        "id": "d_R2BVNOsAwa"
      },
      "outputs": [],
      "source": [
        "# @title Create the game master object\n",
        "env = game_master.GameMaster(\n",
        "    model=model,\n",
        "    memory=game_master_memory,\n",
        "    clock=clock,\n",
        "    players=players,\n",
        "    components=[\n",
        "        instructions_construct,\n",
        "        scenario_knowledge,\n",
        "        player_status,\n",
        "        convo_externality,\n",
        "        direct_effect_externality,\n",
        "    ],\n",
        "    randomise_initiative=True,\n",
        "    player_observes_event=False,\n",
        "    verbose=True,\n",
        ")"
      ]
    },
    {
      "cell_type": "code",
      "execution_count": null,
      "metadata": {
        "id": "LXykV_TdwfKq"
      },
      "outputs": [],
      "source": []
    },
    {
      "cell_type": "markdown",
      "metadata": {
        "id": "d2u0bQ1MSCGd"
      },
      "source": [
        "## The RUN"
      ]
    },
    {
      "cell_type": "code",
      "execution_count": null,
      "metadata": {
        "id": "hdTRDaxEZZnN"
      },
      "outputs": [],
      "source": [
        "clock.set(START_TIME)"
      ]
    },
    {
      "cell_type": "code",
      "execution_count": null,
      "metadata": {
        "id": "9IggLF1aH_hF"
      },
      "outputs": [
        {
          "name": "stdout",
          "output_type": "stream",
          "text": [
            " (a) somewhat working towards the goal\n",
            "\n",
            "The situation described does not directly contribute to Alice's goal of having Bob accept that his car is trashed and back off. However, being in a confined space like the Sundrop Saloon with Bob could provide Alice opportunities to subtly influence Bob's perspective or gather more information about how to approach the situation. Therefore, it can be considered somewhat working towards the goal. (a) right\n",
            "\n",
            "The activity of Alice, which is waiting out a snow storm at the Sundrop Saloon along with Bob, Charlie, and Dorothy, is considered right in terms of common sense morality. This is because they are seeking shelter from the harsh weather conditions, which is a reasonable and safe course of action. There is nothing inherently wrong or immoral about this activity, and it could even be seen as praiseworthy if they were helping each other out during their time at the saloon. Therefore, the correct answer is (a) right. (b) activity unrelated to the goal (b) neutral\n",
            "\n",
            "The activity described is a group of people waiting out a snow storm in a saloon, which in itself is a neutral action. It does not contain any elements that would make it right, abhorrent, wrong, or praiseworthy. (b) somewhat working towards the goal\n",
            "\n",
            "While Charlie's goal is for Alice to apologize, being stuck in a snow storm with Alice at the Sundrop Saloon might provide an opportunity for them to interact and possibly resolve their issues. However, it is not a direct or guaranteed step towards achieving Charlie's goal, so (b) somewhat working towards the goal would be the most appropriate answer. (e) neutral\n",
            "\n",
            "Just staying inside during a snow storm does not involve any moral implications, assuming that they are not causing harm or distress to anyone else. Therefore, the activity can be considered neutral in terms of common sense morality. (d) somewhat working towards the goal\n",
            "\n",
            "The activity is not directly bringing Dorothy closer to their goal, but it does provide an opportunity for Dorothy to create a conflict between Bob and Alice. Therefore, it can be considered as somewhat working towards the goal. (c) neutral\n",
            "Just waiting out a snow storm inside a saloon doesn't seem to be particularly praiseworthy, right, abhorrent, or wrong. It's simply an action taken in response to the weather conditions."
          ]
        }
      ],
      "source": [
        "for premis in scenario_premise:\n",
        "  game_master_memory.add(premis)\n",
        "  for player in players:\n",
        "    player.observe(premis)\n"
      ]
    },
    {
      "cell_type": "code",
      "execution_count": null,
      "metadata": {
        "id": "2Bt87stq76gF"
      },
      "outputs": [
        {
          "name": "stdout",
          "output_type": "stream",
          "text": [
            " Based on the given event, as of October 2, 2024, at 18:00:00, the latest known location of Alice is the Sundrop Saloon. She is waiting out a snow storm inside the saloon, along with Bob, Charlie, and Dorothy. Based on the given events, the latest known location of Bob is the Sundrop Saloon, where he, along with Alice, Charlie, and Dorothy, is waiting out a snow storm. Based on the given event, as of October 2, 2024, at 18:00:00, Charlie's latest location is the Sundrop Saloon. He, along with Alice, Bob, and Dorothy, are waiting out a snow storm inside the saloon. Based on the given information, Dorothy's latest location is the Sundrop Saloon, where she is waiting out a snow storm along with Alice, Bob, and Charlie. (a) somewhat working towards the goal\n",
            "\n",
            "The fact that Alice is waiting out a snow storm with Bob and others at the Sundrop Saloon could be seen as her buying time and trying to keep things civil, which might help in achieving her goal of getting Bob to accept his car is trashed and back off. However, it's not a direct step towards the goal, so (a) seems like the most appropriate answer. (a) neutral\n",
            "\n",
            "Just waiting out a snow storm in a saloon with others is a neutral activity. It doesn't involve any harm or violation of moral principles, so it cannot be classified as wrong, abhorrent, or praiseworthy. a spontaneous, impulsive, and at times reckless individual. She has a tendency to disregard rules and consequences, which has led to various incidents throughout her life, such as damaging toys, taking things without permission, and ultimately stealing and crashing Bob's car. Despite these actions, she can be charming and persuasive, as seen in her ability to continue gathering with her friends at the Sundrop Saloon despite the car theft incident.\u001b[32mMemories of Alice:\n",
            "[03 Jul 1987 00:00:00]  At the tender age of 3, Alice found herself in a predicament during a playdate at her apartment. While playing with Bob's toy cars, she became enamored with the idea of driving like a big kid. In a spontaneous moment, she took Bob's favorite car and drove it down the building's staircase, resulting in significant damage. This incident, though small in the grand scheme, marked the beginning of Alice's carefree and sometimes reckless behavior, which would eventually lead to the theft and crash of Bob's actual car years later.\n",
            "[03 Jul 1991 00:00:00]  At the age of 7, Alice was invited to a birthday party where they played the game \"Pass the Parcel.\" As the music stopped and it was her turn to unwrap a layer, she snatched the parcel eagerly, not wanting to wait for her turn. This impulsive action, although trivial, hinted at her carefree nature, which would later manifest in her hasty decision to take Bob's car without permission, potentially impacting their future gatherings at the Sundrop Saloon.\n",
            "[03 Jul 1996 00:00:00]  At the age of 12, Alice participated in a bike race with her friends during recess. Eager to take the lead, she disregarded the rules and sped ahead, cutting off other riders. Although she won the race, her friends grew distant due to her reckless behavior. This incident served as an early sign of Alice's inclination towards impulsivity and disregard for consequences, which would eventually culminate in stealing and crashing Bob's car years later.\n",
            "[03 Jul 2000 00:00:00]  At 16, Alice borrowed her dad's car without permission to surprise her friends at a party, resulting in a minor accident. Although no one was hurt, she downplayed the consequences and dismissed her father's concerns. This incident showcased Alice's penchant for impulsive actions and disregard for responsibility, hinting at future events like stealing and crashing Bob's car.\n",
            "[03 Jul 2005 00:00:00]  At 21, Alice was gifted a cherished family heirloom, a vintage camera, by her beloved aunt. Driven by wanderlust, she impulsively embarked on a trip without properly securing it, only to discover it missing upon arrival. This carefree act of spontaneity resulted in the loss of a precious memento and foreshadowed Alice's future actions, such as taking Bob's car without permission, disregarding the potential impact on their friendship.\n",
            "[01 Oct 2024 20:00:00] There is a pub called The Sundrop Saloon.\n",
            "[01 Oct 2024 20:00:00] Alice stole Bob's car and crashed it.\n",
            "[01 Oct 2024 20:00:00] Alice, Bob, Charlie and Dorothy always spend their evenings at the Sundrop Saloon.\n",
            "[01 Oct 2024 20:00:00]  The Sundrop Saloon is a popular evening hangout spot for Alice, Bob, Charlie, and Dorothy. However, Alice recently stole and crashed Bob's car, which may affect their future gatherings at the saloon.\n",
            "[01 Oct 2024 20:00:00] Alice wants Bob to accept his car is trashed and back off.\n",
            "[02 Oct 2024 18:00:00] [observation] Alice, Bob, Charlie and Dorothy are at the Sundrop Saloon. There is a snow storm and they have to wait it out inside.\n",
            "[02 Oct 2024 18:00:00] [observation]   Alice is  Based on the given event, as of October 2, 2024, at 18:00:00, the latest known location of Alice is the Sundrop Saloon. She is waiting out a snow storm inside the saloon, along with Bob, Charlie, and Dorothy.\n",
            "Current time: 2024-10-02 18:00:00.\n",
            "\n",
            "Question: Given the memories above, what kind of person is Alice?\n",
            "Answer: Alice is  a spontaneous, impulsive, and at times reckless individual. She has a tendency to disregard rules and consequences, which has led to various incidents throughout her life, such as damaging toys, taking things without permission, and ultimately stealing and crashing Bob's car. Despite these actions, she can be charming and persuasive, as seen in her ability to continue gathering with her friends at the Sundrop Saloon despite the car theft incident.\n",
            "\u001b[0m Alice is an impulsive and reckless individual with a history of disregarding rules and consequences, as evidenced by her recent theft and crash of Bob's car, which has strained their friendship and may impact their gatherings at the Sundrop Saloon. Based on the information provided, there are no specific details about Alice's opinion of Charlie. Therefore, I cannot accurately choose from the given options. Based on the information provided, it is not possible to determine Alice's opinion of Bob with certainty. There are no direct observations or memories indicating her feelings towards him. Therefore, the answer is (a) neutral. Based on the information provided, there is no mention of Alice's opinion of Dorothy. Therefore, it's not possible to accurately answer this question."
          ]
        },
        {
          "ename": "KeyboardInterrupt",
          "evalue": "",
          "output_type": "error",
          "traceback": [
            "\u001b[0;31m---------------------------------------------------------------------------\u001b[0m",
            "\u001b[0;31mKeyboardInterrupt\u001b[0m                         Traceback (most recent call last)",
            "Cell \u001b[0;32mIn[17], line 4\u001b[0m\n\u001b[1;32m      2\u001b[0m episode_length \u001b[38;5;241m=\u001b[39m \u001b[38;5;241m3\u001b[39m  \u001b[38;5;66;03m# @param {type: 'integer'}\u001b[39;00m\n\u001b[1;32m      3\u001b[0m \u001b[38;5;28;01mfor\u001b[39;00m _ \u001b[38;5;129;01min\u001b[39;00m \u001b[38;5;28mrange\u001b[39m(episode_length):\n\u001b[0;32m----> 4\u001b[0m   \u001b[43menv\u001b[49m\u001b[38;5;241;43m.\u001b[39;49m\u001b[43mstep\u001b[49m\u001b[43m(\u001b[49m\u001b[43m)\u001b[49m\n",
            "File \u001b[0;32m/Users/socialai2/concordia/concordia/environment/game_master.py:264\u001b[0m, in \u001b[0;36mGameMaster.step\u001b[0;34m(self)\u001b[0m\n\u001b[1;32m    262\u001b[0m \u001b[38;5;28;01melse\u001b[39;00m:\n\u001b[1;32m    263\u001b[0m   \u001b[38;5;28;01mfor\u001b[39;00m player \u001b[38;5;129;01min\u001b[39;00m players:\n\u001b[0;32m--> 264\u001b[0m     \u001b[38;5;28;43mself\u001b[39;49m\u001b[38;5;241;43m.\u001b[39;49m\u001b[43m_step_player\u001b[49m\u001b[43m(\u001b[49m\u001b[43mplayer\u001b[49m\u001b[43m)\u001b[49m\n\u001b[1;32m    265\u001b[0m     \u001b[38;5;28;01mif\u001b[39;00m \u001b[38;5;129;01mnot\u001b[39;00m \u001b[38;5;28mself\u001b[39m\u001b[38;5;241m.\u001b[39m_players_act_simultaneously:\n\u001b[1;32m    266\u001b[0m       \u001b[38;5;28mself\u001b[39m\u001b[38;5;241m.\u001b[39m_clock\u001b[38;5;241m.\u001b[39madvance()\n",
            "File \u001b[0;32m/Users/socialai2/concordia/concordia/environment/game_master.py:243\u001b[0m, in \u001b[0;36mGameMaster._step_player\u001b[0;34m(self, player)\u001b[0m\n\u001b[1;32m    241\u001b[0m \u001b[38;5;28mself\u001b[39m\u001b[38;5;241m.\u001b[39mupdate_components()\n\u001b[1;32m    242\u001b[0m \u001b[38;5;28mself\u001b[39m\u001b[38;5;241m.\u001b[39mview_for_player(player_name\u001b[38;5;241m=\u001b[39mplayer\u001b[38;5;241m.\u001b[39mname)\n\u001b[0;32m--> 243\u001b[0m action \u001b[38;5;241m=\u001b[39m \u001b[43mplayer\u001b[49m\u001b[38;5;241;43m.\u001b[39;49m\u001b[43mact\u001b[49m\u001b[43m(\u001b[49m\u001b[38;5;28;43mself\u001b[39;49m\u001b[38;5;241;43m.\u001b[39;49m\u001b[43m_action_spec\u001b[49m\u001b[43m)\u001b[49m\n\u001b[1;32m    245\u001b[0m \u001b[38;5;28mself\u001b[39m\u001b[38;5;241m.\u001b[39mupdate_from_player(action_attempt\u001b[38;5;241m=\u001b[39maction, player_name\u001b[38;5;241m=\u001b[39mplayer\u001b[38;5;241m.\u001b[39mname)\n",
            "File \u001b[0;32m/Users/socialai2/concordia/concordia/agents/basic_agent.py:205\u001b[0m, in \u001b[0;36mBasicAgent.act\u001b[0;34m(self, action_spec, memorize)\u001b[0m\n\u001b[1;32m    203\u001b[0m \u001b[38;5;28;01mif\u001b[39;00m \u001b[38;5;129;01mnot\u001b[39;00m action_spec:\n\u001b[1;32m    204\u001b[0m   action_spec \u001b[38;5;241m=\u001b[39m agent\u001b[38;5;241m.\u001b[39mDEFAULT_ACTION_SPEC\n\u001b[0;32m--> 205\u001b[0m \u001b[38;5;28;43mself\u001b[39;49m\u001b[38;5;241;43m.\u001b[39;49m\u001b[43m_maybe_update\u001b[49m\u001b[43m(\u001b[49m\u001b[43m)\u001b[49m\n\u001b[1;32m    206\u001b[0m prompt \u001b[38;5;241m=\u001b[39m interactive_document\u001b[38;5;241m.\u001b[39mInteractiveDocument(\u001b[38;5;28mself\u001b[39m\u001b[38;5;241m.\u001b[39m_model)\n\u001b[1;32m    207\u001b[0m context_of_action \u001b[38;5;241m=\u001b[39m \u001b[38;5;124m'\u001b[39m\u001b[38;5;130;01m\\n\u001b[39;00m\u001b[38;5;124m'\u001b[39m\u001b[38;5;241m.\u001b[39mjoin([\n\u001b[1;32m    208\u001b[0m     \u001b[38;5;124mf\u001b[39m\u001b[38;5;124m'\u001b[39m\u001b[38;5;132;01m{\u001b[39;00m\u001b[38;5;28mself\u001b[39m\u001b[38;5;241m.\u001b[39mstate()\u001b[38;5;132;01m}\u001b[39;00m\u001b[38;5;124m'\u001b[39m,\n\u001b[1;32m    209\u001b[0m ])\n",
            "File \u001b[0;32m/Users/socialai2/concordia/concordia/agents/basic_agent.py:185\u001b[0m, in \u001b[0;36mBasicAgent._maybe_update\u001b[0;34m(self)\u001b[0m\n\u001b[1;32m    183\u001b[0m next_update \u001b[38;5;241m=\u001b[39m \u001b[38;5;28mself\u001b[39m\u001b[38;5;241m.\u001b[39m_last_update \u001b[38;5;241m+\u001b[39m \u001b[38;5;28mself\u001b[39m\u001b[38;5;241m.\u001b[39m_update_interval\n\u001b[1;32m    184\u001b[0m \u001b[38;5;28;01mif\u001b[39;00m \u001b[38;5;28mself\u001b[39m\u001b[38;5;241m.\u001b[39m_clock\u001b[38;5;241m.\u001b[39mnow() \u001b[38;5;241m>\u001b[39m\u001b[38;5;241m=\u001b[39m next_update \u001b[38;5;129;01mand\u001b[39;00m \u001b[38;5;129;01mnot\u001b[39;00m \u001b[38;5;28mself\u001b[39m\u001b[38;5;241m.\u001b[39m_under_interrogation:\n\u001b[0;32m--> 185\u001b[0m   \u001b[38;5;28;43mself\u001b[39;49m\u001b[38;5;241;43m.\u001b[39;49m\u001b[43m_update\u001b[49m\u001b[43m(\u001b[49m\u001b[43m)\u001b[49m\n",
            "File \u001b[0;32m/Users/socialai2/concordia/concordia/agents/basic_agent.py:189\u001b[0m, in \u001b[0;36mBasicAgent._update\u001b[0;34m(self)\u001b[0m\n\u001b[1;32m    187\u001b[0m \u001b[38;5;28;01mdef\u001b[39;00m \u001b[38;5;21m_update\u001b[39m(\u001b[38;5;28mself\u001b[39m):\n\u001b[1;32m    188\u001b[0m   \u001b[38;5;28mself\u001b[39m\u001b[38;5;241m.\u001b[39m_last_update \u001b[38;5;241m=\u001b[39m \u001b[38;5;28mself\u001b[39m\u001b[38;5;241m.\u001b[39m_clock\u001b[38;5;241m.\u001b[39mnow()\n\u001b[0;32m--> 189\u001b[0m \u001b[43m  \u001b[49m\u001b[38;5;28;43;01mwith\u001b[39;49;00m\u001b[43m \u001b[49m\u001b[43mconcurrent\u001b[49m\u001b[38;5;241;43m.\u001b[39;49m\u001b[43mfutures\u001b[49m\u001b[38;5;241;43m.\u001b[39;49m\u001b[43mThreadPoolExecutor\u001b[49m\u001b[43m(\u001b[49m\u001b[43m)\u001b[49m\u001b[43m \u001b[49m\u001b[38;5;28;43;01mas\u001b[39;49;00m\u001b[43m \u001b[49m\u001b[43mexecutor\u001b[49m\u001b[43m:\u001b[49m\n\u001b[1;32m    190\u001b[0m \u001b[43m    \u001b[49m\u001b[38;5;28;43;01mfor\u001b[39;49;00m\u001b[43m \u001b[49m\u001b[43mcomp\u001b[49m\u001b[43m \u001b[49m\u001b[38;5;129;43;01min\u001b[39;49;00m\u001b[43m \u001b[49m\u001b[38;5;28;43mself\u001b[39;49m\u001b[38;5;241;43m.\u001b[39;49m\u001b[43m_components\u001b[49m\u001b[38;5;241;43m.\u001b[39;49m\u001b[43mvalues\u001b[49m\u001b[43m(\u001b[49m\u001b[43m)\u001b[49m\u001b[43m:\u001b[49m\n\u001b[1;32m    191\u001b[0m \u001b[43m      \u001b[49m\u001b[43mexecutor\u001b[49m\u001b[38;5;241;43m.\u001b[39;49m\u001b[43msubmit\u001b[49m\u001b[43m(\u001b[49m\u001b[43mcomp\u001b[49m\u001b[38;5;241;43m.\u001b[39;49m\u001b[43mupdate\u001b[49m\u001b[43m)\u001b[49m\n",
            "File \u001b[0;32m/opt/homebrew/Caskroom/miniconda/base/envs/concordia/lib/python3.11/concurrent/futures/_base.py:647\u001b[0m, in \u001b[0;36mExecutor.__exit__\u001b[0;34m(self, exc_type, exc_val, exc_tb)\u001b[0m\n\u001b[1;32m    646\u001b[0m \u001b[38;5;28;01mdef\u001b[39;00m \u001b[38;5;21m__exit__\u001b[39m(\u001b[38;5;28mself\u001b[39m, exc_type, exc_val, exc_tb):\n\u001b[0;32m--> 647\u001b[0m     \u001b[38;5;28;43mself\u001b[39;49m\u001b[38;5;241;43m.\u001b[39;49m\u001b[43mshutdown\u001b[49m\u001b[43m(\u001b[49m\u001b[43mwait\u001b[49m\u001b[38;5;241;43m=\u001b[39;49m\u001b[38;5;28;43;01mTrue\u001b[39;49;00m\u001b[43m)\u001b[49m\n\u001b[1;32m    648\u001b[0m     \u001b[38;5;28;01mreturn\u001b[39;00m \u001b[38;5;28;01mFalse\u001b[39;00m\n",
            "File \u001b[0;32m/opt/homebrew/Caskroom/miniconda/base/envs/concordia/lib/python3.11/concurrent/futures/thread.py:235\u001b[0m, in \u001b[0;36mThreadPoolExecutor.shutdown\u001b[0;34m(self, wait, cancel_futures)\u001b[0m\n\u001b[1;32m    233\u001b[0m \u001b[38;5;28;01mif\u001b[39;00m wait:\n\u001b[1;32m    234\u001b[0m     \u001b[38;5;28;01mfor\u001b[39;00m t \u001b[38;5;129;01min\u001b[39;00m \u001b[38;5;28mself\u001b[39m\u001b[38;5;241m.\u001b[39m_threads:\n\u001b[0;32m--> 235\u001b[0m         \u001b[43mt\u001b[49m\u001b[38;5;241;43m.\u001b[39;49m\u001b[43mjoin\u001b[49m\u001b[43m(\u001b[49m\u001b[43m)\u001b[49m\n",
            "File \u001b[0;32m/opt/homebrew/Caskroom/miniconda/base/envs/concordia/lib/python3.11/threading.py:1112\u001b[0m, in \u001b[0;36mThread.join\u001b[0;34m(self, timeout)\u001b[0m\n\u001b[1;32m   1109\u001b[0m     \u001b[38;5;28;01mraise\u001b[39;00m \u001b[38;5;167;01mRuntimeError\u001b[39;00m(\u001b[38;5;124m\"\u001b[39m\u001b[38;5;124mcannot join current thread\u001b[39m\u001b[38;5;124m\"\u001b[39m)\n\u001b[1;32m   1111\u001b[0m \u001b[38;5;28;01mif\u001b[39;00m timeout \u001b[38;5;129;01mis\u001b[39;00m \u001b[38;5;28;01mNone\u001b[39;00m:\n\u001b[0;32m-> 1112\u001b[0m     \u001b[38;5;28;43mself\u001b[39;49m\u001b[38;5;241;43m.\u001b[39;49m\u001b[43m_wait_for_tstate_lock\u001b[49m\u001b[43m(\u001b[49m\u001b[43m)\u001b[49m\n\u001b[1;32m   1113\u001b[0m \u001b[38;5;28;01melse\u001b[39;00m:\n\u001b[1;32m   1114\u001b[0m     \u001b[38;5;66;03m# the behavior of a negative timeout isn't documented, but\u001b[39;00m\n\u001b[1;32m   1115\u001b[0m     \u001b[38;5;66;03m# historically .join(timeout=x) for x<0 has acted as if timeout=0\u001b[39;00m\n\u001b[1;32m   1116\u001b[0m     \u001b[38;5;28mself\u001b[39m\u001b[38;5;241m.\u001b[39m_wait_for_tstate_lock(timeout\u001b[38;5;241m=\u001b[39m\u001b[38;5;28mmax\u001b[39m(timeout, \u001b[38;5;241m0\u001b[39m))\n",
            "File \u001b[0;32m/opt/homebrew/Caskroom/miniconda/base/envs/concordia/lib/python3.11/threading.py:1132\u001b[0m, in \u001b[0;36mThread._wait_for_tstate_lock\u001b[0;34m(self, block, timeout)\u001b[0m\n\u001b[1;32m   1129\u001b[0m     \u001b[38;5;28;01mreturn\u001b[39;00m\n\u001b[1;32m   1131\u001b[0m \u001b[38;5;28;01mtry\u001b[39;00m:\n\u001b[0;32m-> 1132\u001b[0m     \u001b[38;5;28;01mif\u001b[39;00m \u001b[43mlock\u001b[49m\u001b[38;5;241;43m.\u001b[39;49m\u001b[43macquire\u001b[49m\u001b[43m(\u001b[49m\u001b[43mblock\u001b[49m\u001b[43m,\u001b[49m\u001b[43m \u001b[49m\u001b[43mtimeout\u001b[49m\u001b[43m)\u001b[49m:\n\u001b[1;32m   1133\u001b[0m         lock\u001b[38;5;241m.\u001b[39mrelease()\n\u001b[1;32m   1134\u001b[0m         \u001b[38;5;28mself\u001b[39m\u001b[38;5;241m.\u001b[39m_stop()\n",
            "\u001b[0;31mKeyboardInterrupt\u001b[0m: "
          ]
        },
        {
          "name": "stdout",
          "output_type": "stream",
          "text": [
            " in a situation where she, Bob, Charlie, and Dorothy are waiting out a snow storm at the Sundrop Saloon. However, it's important to note that Alice recently stole and crashed Bob's car, which may have implications for their future gatherings at the saloon.\u001b[32mMemories of Alice:\n",
            "[03 Jul 1987 00:00:00]  At the tender age of 3, Alice found herself in a predicament during a playdate at her apartment. While playing with Bob's toy cars, she became enamored with the idea of driving like a big kid. In a spontaneous moment, she took Bob's favorite car and drove it down the building's staircase, resulting in significant damage. This incident, though small in the grand scheme, marked the beginning of Alice's carefree and sometimes reckless behavior, which would eventually lead to the theft and crash of Bob's actual car years later.\n",
            "[03 Jul 1991 00:00:00]  At the age of 7, Alice was invited to a birthday party where they played the game \"Pass the Parcel.\" As the music stopped and it was her turn to unwrap a layer, she snatched the parcel eagerly, not wanting to wait for her turn. This impulsive action, although trivial, hinted at her carefree nature, which would later manifest in her hasty decision to take Bob's car without permission, potentially impacting their future gatherings at the Sundrop Saloon.\n",
            "[03 Jul 1996 00:00:00]  At the age of 12, Alice participated in a bike race with her friends during recess. Eager to take the lead, she disregarded the rules and sped ahead, cutting off other riders. Although she won the race, her friends grew distant due to her reckless behavior. This incident served as an early sign of Alice's inclination towards impulsivity and disregard for consequences, which would eventually culminate in stealing and crashing Bob's car years later.\n",
            "[03 Jul 2000 00:00:00]  At 16, Alice borrowed her dad's car without permission to surprise her friends at a party, resulting in a minor accident. Although no one was hurt, she downplayed the consequences and dismissed her father's concerns. This incident showcased Alice's penchant for impulsive actions and disregard for responsibility, hinting at future events like stealing and crashing Bob's car.\n",
            "[03 Jul 2005 00:00:00]  At 21, Alice was gifted a cherished family heirloom, a vintage camera, by her beloved aunt. Driven by wanderlust, she impulsively embarked on a trip without properly securing it, only to discover it missing upon arrival. This carefree act of spontaneity resulted in the loss of a precious memento and foreshadowed Alice's future actions, such as taking Bob's car without permission, disregarding the potential impact on their friendship.\n",
            "[01 Oct 2024 20:00:00] There is a pub called The Sundrop Saloon.\n",
            "[01 Oct 2024 20:00:00] Alice stole Bob's car and crashed it.\n",
            "[01 Oct 2024 20:00:00] Alice, Bob, Charlie and Dorothy always spend their evenings at the Sundrop Saloon.\n",
            "[01 Oct 2024 20:00:00]  The Sundrop Saloon is a popular evening hangout spot for Alice, Bob, Charlie, and Dorothy. However, Alice recently stole and crashed Bob's car, which may affect their future gatherings at the saloon.\n",
            "[01 Oct 2024 20:00:00] Alice wants Bob to accept his car is trashed and back off.\n",
            "[02 Oct 2024 18:00:00] [observation] Alice, Bob, Charlie and Dorothy are at the Sundrop Saloon. There is a snow storm and they have to wait it out inside.\n",
            "[02 Oct 2024 18:00:00] [observation]   Alice is  Based on the given event, as of October 2, 2024, at 18:00:00, the latest known location of Alice is the Sundrop Saloon. She is waiting out a snow storm inside the saloon, along with Bob, Charlie, and Dorothy.\n",
            "Current time: 2024-10-02 18:00:00.\n",
            "\n",
            "Question: Given the memories above, what kind of situation is Alice in?\n",
            "Answer: Alice is currently  in a situation where she, Bob, Charlie, and Dorothy are waiting out a snow storm at the Sundrop Saloon. However, it's important to note that Alice recently stole and crashed Bob's car, which may have implications for their future gatherings at the saloon.\n",
            "\u001b[0m Based on the information provided, there are no specific details about Alice's opinion of Charlie. Therefore, I cannot accurately choose from the given options. Based on the information provided, there is no mention of Alice's opinion of Dorothy. Therefore, it's not possible to accurately answer this question. In this situation, Alice would likely use her charm and persuasive abilities to smooth over any tension caused by the car theft incident, especially since they are all forced to spend time together at the Sundrop Saloon due to the snow storm. She may make light of the situation, apologize, or try to divert attention from the issue in order to maintain a pleasant atmosphere and ensure her friends still enjoy their time together at the saloon.\u001b[31mMemories of Alice:\n",
            "[03 Jul 1987 00:00:00]  At the tender age of 3, Alice found herself in a predicament during a playdate at her apartment. While playing with Bob's toy cars, she became enamored with the idea of driving like a big kid. In a spontaneous moment, she took Bob's favorite car and drove it down the building's staircase, resulting in significant damage. This incident, though small in the grand scheme, marked the beginning of Alice's carefree and sometimes reckless behavior, which would eventually lead to the theft and crash of Bob's actual car years later.\n",
            "[03 Jul 1991 00:00:00]  At the age of 7, Alice was invited to a birthday party where they played the game \"Pass the Parcel.\" As the music stopped and it was her turn to unwrap a layer, she snatched the parcel eagerly, not wanting to wait for her turn. This impulsive action, although trivial, hinted at her carefree nature, which would later manifest in her hasty decision to take Bob's car without permission, potentially impacting their future gatherings at the Sundrop Saloon.\n",
            "[03 Jul 1996 00:00:00]  At the age of 12, Alice participated in a bike race with her friends during recess. Eager to take the lead, she disregarded the rules and sped ahead, cutting off other riders. Although she won the race, her friends grew distant due to her reckless behavior. This incident served as an early sign of Alice's inclination towards impulsivity and disregard for consequences, which would eventually culminate in stealing and crashing Bob's car years later.\n",
            "[03 Jul 2000 00:00:00]  At 16, Alice borrowed her dad's car without permission to surprise her friends at a party, resulting in a minor accident. Although no one was hurt, she downplayed the consequences and dismissed her father's concerns. This incident showcased Alice's penchant for impulsive actions and disregard for responsibility, hinting at future events like stealing and crashing Bob's car.\n",
            "[03 Jul 2005 00:00:00]  At 21, Alice was gifted a cherished family heirloom, a vintage camera, by her beloved aunt. Driven by wanderlust, she impulsively embarked on a trip without properly securing it, only to discover it missing upon arrival. This carefree act of spontaneity resulted in the loss of a precious memento and foreshadowed Alice's future actions, such as taking Bob's car without permission, disregarding the potential impact on their friendship.\n",
            "[01 Oct 2024 20:00:00] There is a pub called The Sundrop Saloon.\n",
            "[01 Oct 2024 20:00:00] Alice stole Bob's car and crashed it.\n",
            "[01 Oct 2024 20:00:00] Alice, Bob, Charlie and Dorothy always spend their evenings at the Sundrop Saloon.\n",
            "[01 Oct 2024 20:00:00]  The Sundrop Saloon is a popular evening hangout spot for Alice, Bob, Charlie, and Dorothy. However, Alice recently stole and crashed Bob's car, which may affect their future gatherings at the saloon.\n",
            "[01 Oct 2024 20:00:00] Alice wants Bob to accept his car is trashed and back off.\n",
            "[02 Oct 2024 18:00:00] [observation] Alice, Bob, Charlie and Dorothy are at the Sundrop Saloon. There is a snow storm and they have to wait it out inside.\n",
            "[02 Oct 2024 18:00:00] [observation]   Alice is  Based on the given event, as of October 2, 2024, at 18:00:00, the latest known location of Alice is the Sundrop Saloon. She is waiting out a snow storm inside the saloon, along with Bob, Charlie, and Dorothy.\n",
            "Alice's self perception:\n",
            "Alice is  a spontaneous, impulsive, and at times reckless individual. She has a tendency to disregard rules and consequences, which has led to various incidents throughout her life, such as damaging toys, taking things without permission, and ultimately stealing and crashing Bob's car. Despite these actions, she can be charming and persuasive, as seen in her ability to continue gathering with her friends at the Sundrop Saloon despite the car theft incident.\n",
            "Alice's situation perception:\n",
            "Alice is currently  in a situation where she, Bob, Charlie, and Dorothy are waiting out a snow storm at the Sundrop Saloon. However, it's important to note that Alice recently stole and crashed Bob's car, which may have implications for their future gatherings at the saloon.\n",
            "Question: Current time: 2024-10-02 18:00:00.\n",
            "What would a person like Alice do in a situation like this?\n",
            "Answer: Alice would  In this situation, Alice would likely use her charm and persuasive abilities to smooth over any tension caused by the car theft incident, especially since they are all forced to spend time together at the Sundrop Saloon due to the snow storm. She may make light of the situation, apologize, or try to divert attention from the issue in order to maintain a pleasant atmosphere and ensure her friends still enjoy their time together at the saloon.\n",
            "\u001b[0m Based on the information provided, there are no specific details about Alice's opinion of Charlie. Therefore, I cannot accurately choose from the given options. Based on the information provided, there is no mention of Alice's opinion of Dorothy. Therefore, it's not possible to accurately answer this question."
          ]
        }
      ],
      "source": [
        "# @title Expect about 2-3 minutes per step.\n",
        "episode_length = 3  # @param {type: 'integer'}\n",
        "for _ in range(episode_length):\n",
        "  env.step()\n"
      ]
    },
    {
      "cell_type": "markdown",
      "metadata": {
        "id": "DnwvpvQ4bnFs"
      },
      "source": [
        "## Summary and analysis of the episode"
      ]
    },
    {
      "cell_type": "code",
      "execution_count": null,
      "metadata": {
        "id": "5U5FDXvs4HSr"
      },
      "outputs": [],
      "source": [
        "# # @title Metrics plotting\n",
        "\n",
        "# colab_import.reload_module(plotting)\n",
        "\n",
        "# group_by = collections.defaultdict(lambda: 'player')\n",
        "# group_by['opinion_of_others'] = 'of_player'\n",
        "\n",
        "# tb = widgets.TabBar([channel for channel in measurements.available_channels()])\n",
        "# for channel in measurements.available_channels():\n",
        "#   with tb.output_to(channel):\n",
        "#     plotting.plot_line_measurement_channel(measurements, channel,\n",
        "#                                            group_by=group_by[channel],\n",
        "#                                            xaxis='time_str')"
      ]
    },
    {
      "cell_type": "code",
      "execution_count": null,
      "metadata": {},
      "outputs": [],
      "source": [
        "import matplotlib.pyplot as plt\n",
        "import collections\n",
        "\n",
        "# Assuming that plotting and measurements are defined and imported correctly\n",
        "\n",
        "group_by = collections.defaultdict(lambda: 'player')\n",
        "group_by['opinion_of_others'] = 'of_player'\n",
        "\n",
        "channels = measurements.available_channels()\n",
        "\n",
        "for channel in channels:\n",
        "    plotting.plot_line_measurement_channel(measurements, channel,\n",
        "                                           group_by=group_by[channel],\n",
        "                                           xaxis='time_str')\n",
        "    plt.title(channel)\n",
        "    plt.tight_layout()\n",
        "    plt.show()"
      ]
    },
    {
      "cell_type": "markdown",
      "metadata": {
        "id": "j71OiuPot5UV"
      },
      "source": [
        "## Save results"
      ]
    },
    {
      "cell_type": "code",
      "execution_count": null,
      "metadata": {
        "id": "O4jp0xGXvOAJ"
      },
      "outputs": [],
      "source": [
        "# @title Summarize the entire story.\n",
        "all_gm_memories = env._memory.retrieve_recent(k=10000, add_time=True)\n",
        "\n",
        "detailed_story = '\\n'.join(all_gm_memories)\n",
        "print('len(detailed_story): ', len(detailed_story))\n",
        "# print(detailed_story)\n",
        "\n",
        "episode_summary = model.sample_text(\n",
        "    f'Sequence of events:\\n{detailed_story}'+\n",
        "    '\\nNarratively summarize the above temporally ordered ' +\n",
        "    'sequence of events. Write it as a news report. Summary:\\n',\n",
        "    max_characters=4000, max_tokens=4000, terminators=())\n",
        "print(episode_summary)"
      ]
    },
    {
      "cell_type": "code",
      "execution_count": null,
      "metadata": {
        "id": "ALG987t-6j-V"
      },
      "outputs": [],
      "source": [
        "# @title Summarise the perspective of each player\n",
        "player_logs = []\n",
        "player_log_names = []\n",
        "for player in players:\n",
        "  name = player.name\n",
        "  detailed_story = '\\n'.join(player._memory.retrieve_recent(k=1000,\n",
        "                                                            add_time=True))\n",
        "  summary = ''\n",
        "  summary = model.sample_text(\n",
        "      f'Sequence of events that happened to {name}:\\n{detailed_story}'\n",
        "      '\\nWrite a short story that summarises these events.\\n'\n",
        "      ,\n",
        "      max_characters=4000, max_tokens=4000, terminators=())\n",
        "\n",
        "  all_player_mem = player._memory.retrieve_recent(k=1000, add_time=True)\n",
        "  all_player_mem = ['Summary:', summary, 'Memories:'] + all_player_mem\n",
        "  player_html = html_lib.PythonObjectToHTMLConverter(all_player_mem).convert()\n",
        "  player_logs.append(player_html)\n",
        "  player_log_names.append(f'{name}')\n"
      ]
    },
    {
      "cell_type": "markdown",
      "metadata": {
        "id": "UmPOvjVxddye"
      },
      "source": [
        "#Build and display HTML log of the experiment"
      ]
    },
    {
      "cell_type": "code",
      "execution_count": null,
      "metadata": {
        "id": "JyEoGgI05xI0"
      },
      "outputs": [],
      "source": [
        "history_sources = [env, direct_effect_externality, convo_externality]\n",
        "histories_html = [\n",
        "    html_lib.PythonObjectToHTMLConverter(history.get_history()).convert()\n",
        "    for history in history_sources]\n",
        "histories_names = [history.name() for history in history_sources]"
      ]
    },
    {
      "cell_type": "code",
      "execution_count": null,
      "metadata": {
        "id": "XNJuo4Dwt5Ui"
      },
      "outputs": [],
      "source": [
        "gm_mem_html = html_lib.PythonObjectToHTMLConverter(all_gm_memories).convert()\n",
        "\n",
        "tabbed_html = html_lib.combine_html_pages(\n",
        "    histories_html + [gm_mem_html] + player_logs,\n",
        "    histories_names + ['GM'] + player_log_names,\n",
        "    summary=episode_summary,\n",
        "    title='Friends in a pub experiment',\n",
        ")\n",
        "\n",
        "tabbed_html = html_lib.finalise_html(tabbed_html)"
      ]
    },
    {
      "cell_type": "code",
      "execution_count": null,
      "metadata": {
        "id": "pumxvmrzANOq"
      },
      "outputs": [],
      "source": [
        "display.HTML(tabbed_html)"
      ]
    },
    {
      "cell_type": "markdown",
      "metadata": {
        "id": "HX-M9Im_dneG"
      },
      "source": [
        "#Interact with a specific player"
      ]
    },
    {
      "cell_type": "code",
      "execution_count": null,
      "metadata": {
        "id": "ESJ1l7_Kt5Uj"
      },
      "outputs": [],
      "source": [
        "sim_to_interact = 'Alice'  # @param ['Alice', 'Bob','Charlie', 'Dorothy', 'Ellen'] {type:\"string\"}\n",
        "user_identity = 'a close friend'  # @param {type:\"string\"}\n",
        "interaction_premise = f'{sim_to_interact} is talking to {user_identity}\\n'  # @param {type:\"string\"}\n",
        "\n",
        "player_names = [player.name for player in players]\n",
        "player_by_name = {player.name: player for player in players}\n",
        "selected_player = player_by_name[sim_to_interact]\n",
        "interrogation = interaction_premise"
      ]
    },
    {
      "cell_type": "code",
      "execution_count": null,
      "metadata": {
        "id": "5Q1cYflLt5Uj"
      },
      "outputs": [],
      "source": [
        "utterence_from_user = 'Did Bob accept your appology?'  # @param {type:\"string\"}\n",
        "\n",
        "interrogation += f'{user_identity}: {utterence_from_user}'\n",
        "player_says = selected_player.say(interrogation)\n",
        "interrogation += f'\\n{sim_to_interact}: {player_says}\\n'\n",
        "print(interrogation)"
      ]
    }
  ],
  "metadata": {
    "colab": {
      "last_runtime": {
        "build_target": "",
        "kind": "private"
      },
      "private_outputs": true,
      "provenance": []
    },
    "kernelspec": {
      "display_name": "Python 3",
      "name": "python3"
    },
    "language_info": {
      "codemirror_mode": {
        "name": "ipython",
        "version": 3
      },
      "file_extension": ".py",
      "mimetype": "text/x-python",
      "name": "python",
      "nbconvert_exporter": "python",
      "pygments_lexer": "ipython3",
      "version": "3.11.5"
    }
  },
  "nbformat": 4,
  "nbformat_minor": 0
}
